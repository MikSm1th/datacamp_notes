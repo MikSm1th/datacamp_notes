{
 "cells": [
  {
   "cell_type": "markdown",
   "metadata": {},
   "source": [
    "### Intro to Regex"
   ]
  },
  {
   "cell_type": "code",
   "execution_count": 1,
   "metadata": {},
   "outputs": [
    {
     "data": {
      "text/plain": [
       "<_sre.SRE_Match object; span=(0, 3), match='abc'>"
      ]
     },
     "execution_count": 1,
     "metadata": {},
     "output_type": "execute_result"
    }
   ],
   "source": [
    "import re\n",
    "re.match('abc', 'abcdef')"
   ]
  },
  {
   "cell_type": "code",
   "execution_count": 2,
   "metadata": {},
   "outputs": [
    {
     "data": {
      "text/plain": [
       "<_sre.SRE_Match object; span=(0, 2), match='hi'>"
      ]
     },
     "execution_count": 2,
     "metadata": {},
     "output_type": "execute_result"
    }
   ],
   "source": [
    "word_regex ='\\w+'\n",
    "re.match(word_regex, 'hi there!')"
   ]
  },
  {
   "cell_type": "markdown",
   "metadata": {},
   "source": [
    "<table>\n",
    "  <thead>\n",
    "    <tr>\n",
    "      <th>pattern</th>\n",
    "      <th>matches</th> \n",
    "      <th>example</th>\n",
    "    </tr>\n",
    "  </thead>\n",
    "  <tbody>\n",
    "    <tr>\n",
    "      <td>\\w+</td>\n",
    "      <td>word</td> \n",
    "      <td>'Magic'</td>\n",
    "    </tr>\n",
    "    <tr>\n",
    "      <td>\\d</td>\n",
    "      <td>digit</td> \n",
    "      <td>9</td>\n",
    "    </tr>\n",
    "    <tr>\n",
    "      <td>\\s</td>\n",
    "      <td>space</td> \n",
    "      <td>' '</td>\n",
    "    </tr>\n",
    "    <tr>\n",
    "      <td>.*</td>\n",
    "      <td>wildcard</td> \n",
    "      <td>username74</td>\n",
    "    </tr>\n",
    "    <tr>\n",
    "      <td>+ or *</td>\n",
    "      <td>greedy match</td> \n",
    "      <td>'aaaaa'</td>\n",
    "    </tr>\n",
    "    <tr>\n",
    "      <td>\\S</td>\n",
    "      <td><b>not</b> space</td> \n",
    "      <td>'no_spaces'</td>\n",
    "    </tr>\n",
    "    <tr>\n",
    "      <td>[a-z]</td>\n",
    "      <td>lowercase group</td> \n",
    "      <td>'abcdefg'</td>\n",
    "    </tr>        \n",
    "  </tbody>\n",
    "</table>"
   ]
  },
  {
   "cell_type": "markdown",
   "metadata": {},
   "source": [
    "### Python's re module\n",
    "- `re` module\n",
    "- `split:` split a string on regex\n",
    "- `findall:` find all patterns in a string\n",
    "- `search:` search for a pattern\n",
    "- `match:` match an entire string or substring based on a pattern \n",
    "<br>\n",
    "- Pass the pattern first, and then the string second\n",
    "- May return an iterator, string, or match object"
   ]
  },
  {
   "cell_type": "code",
   "execution_count": 3,
   "metadata": {},
   "outputs": [
    {
     "data": {
      "text/plain": [
       "['Split', 'on', 'spaces.']"
      ]
     },
     "execution_count": 3,
     "metadata": {},
     "output_type": "execute_result"
    }
   ],
   "source": [
    "re.split('\\s+', 'Split on spaces.')"
   ]
  },
  {
   "cell_type": "code",
   "execution_count": 4,
   "metadata": {},
   "outputs": [],
   "source": [
    "my_string = \"Let's write RegEx!  Won't that be fun?  I sure think so.  Can you find 4 sentences?  Or perhaps, all 19 words?\""
   ]
  },
  {
   "cell_type": "code",
   "execution_count": 5,
   "metadata": {},
   "outputs": [
    {
     "name": "stdout",
     "output_type": "stream",
     "text": [
      "[\"Let's write RegEx\", \"  Won't that be fun\", '  I sure think so', '  Can you find 4 sentences', '  Or perhaps, all 19 words', '']\n",
      "['Let', 'RegEx', 'Won', 'Can', 'Or']\n",
      "[\"Let's\", 'write', 'RegEx!', \"Won't\", 'that', 'be', 'fun?', 'I', 'sure', 'think', 'so.', 'Can', 'you', 'find', '4', 'sentences?', 'Or', 'perhaps,', 'all', '19', 'words?']\n",
      "['4', '19']\n"
     ]
    }
   ],
   "source": [
    "# Import the regex module\n",
    "import re\n",
    "\n",
    "# Write a pattern to match sentence endings: sentence_endings\n",
    "sentence_endings = r\"[.?!]\"\n",
    "\n",
    "# Split my_string on sentence endings and print the result\n",
    "print(re.split(sentence_endings, my_string))\n",
    "\n",
    "# Find all capitalized words in my_string and print the result\n",
    "capitalized_words = r\"[A-Z]\\w+\"\n",
    "print(re.findall(capitalized_words, my_string))\n",
    "\n",
    "# Split my_string on spaces and print the result\n",
    "spaces = r\"\\s+\"\n",
    "print(re.split(spaces, my_string))\n",
    "\n",
    "# Find all digits in my_string and print the result\n",
    "digits = r\"\\d+\"\n",
    "print(re.findall(digits, my_string))"
   ]
  },
  {
   "cell_type": "markdown",
   "metadata": {},
   "source": [
    "### Introduction to tokenization"
   ]
  },
  {
   "cell_type": "markdown",
   "metadata": {},
   "source": [
    "### What is tokenization?\n",
    "- Turning a string of document into **tokens** (smaller chunks)\n",
    "- One step in preparing a text for NLP\n",
    "- Many different theories and rules\n",
    "- Rules can be created using regular expressions \n",
    "- some examples:\n",
    " - Breaking out words or sentences\n",
    " - Seperating punctuation\n",
    " - Seperating all hashtags in a tweet"
   ]
  },
  {
   "cell_type": "markdown",
   "metadata": {},
   "source": [
    "### nltk library\n",
    "- `nltk:` natural language toolkit"
   ]
  },
  {
   "cell_type": "code",
   "execution_count": 6,
   "metadata": {},
   "outputs": [],
   "source": [
    "from nltk.tokenize import word_tokenize"
   ]
  },
  {
   "cell_type": "code",
   "execution_count": 7,
   "metadata": {},
   "outputs": [
    {
     "data": {
      "text/plain": [
       "['Hi', 'there', '!']"
      ]
     },
     "execution_count": 7,
     "metadata": {},
     "output_type": "execute_result"
    }
   ],
   "source": [
    "word_tokenize('Hi there!')"
   ]
  },
  {
   "cell_type": "markdown",
   "metadata": {},
   "source": [
    "### Why tokenize?\n",
    "- Easier to map part of speech \n",
    "- Matching common words\n",
    "- Removing unwanted tokens"
   ]
  },
  {
   "cell_type": "markdown",
   "metadata": {},
   "source": [
    "### Other nltk tokenizers\n",
    "- `sent_tokenize:` tokenize a document into sentences\n",
    "- `regexp_tokenize:` tokenize a string or document based on a regular expression pattern \n",
    "- `TweetTokenizer:` special calls just for tweet tokenization, allowing you to seperate hashtags, mentions and lots of exclamation points!!!"
   ]
  },
  {
   "cell_type": "markdown",
   "metadata": {},
   "source": [
    "### More regex practice\n",
    "- Difference between `re.search()` and `re.match()`"
   ]
  },
  {
   "cell_type": "code",
   "execution_count": 8,
   "metadata": {},
   "outputs": [],
   "source": [
    "f = open('grail.txt', 'r')\n",
    "content = f.read()\n",
    "SCENES = content.split('SCENE')\n",
    "scene_one = 'SCENE' + SCENES[1]\n",
    "#scene_one"
   ]
  },
  {
   "cell_type": "code",
   "execution_count": 9,
   "metadata": {},
   "outputs": [
    {
     "name": "stdout",
     "output_type": "stream",
     "text": [
      "{'Uther', 'this', '1', 'Court', 'Found', 'search', 'halves', \"'\", 'Yes', 'at', 'point', '!', 'are', 'or', 'horse', 'by', 'That', 'then', 'court', '2', 'a', 'coconut', 'Well', 'Wait', 'an', 'agree', 'together', 'weight', 'they', 'Not', 'simple', 'ounce', 'Mercea', 'snows', 'Pull', 'from', 'Camelot', 'all', 'two', \"'ve\", 'its', \"'s\", 'ARTHUR', 'Am', 'anyway', 'sovereign', 'trusty', 'on', 'seek', 'these', 'right', 'there', 'knights', ']', 'the', 'grip', \"'m\", 'But', 'line', 'lord', 'needs', 'south', \"'re\", 'migrate', 'Please', 'question', 'kingdom', 'grips', 'Where', 'my', 'using', 'King', 'SCENE', 'Listen', 'house', 'velocity', 'dorsal', 'swallow', 'defeator', 'non-migratory', 'matter', '#', 'bird', 'warmer', 'them', 'may', 'held', 'winter', 'that', 'European', 'Are', 'speak', 'get', 'strangers', 'plover', 'carry', 'do', 'forty-three', 'interested', 'five', 'Pendragon', 'martin', 'be', 'join', 'No', 'who', ',', 'one', 'not', '.', 'servant', \"n't\", 'maintain', 'wants', 'pound', 'other', 'here', 'Britons', 'breadth', 'strand', 'Will', 'our', 'ask', 'SOLDIER', 'me', 'every', 'does', 'why', 'tropical', 'yeah', 'tell', 'could', 'empty', 'Ridden', 'guiding', 'swallows', 'Saxons', 'beat', 'order', 'you', 'must', 'Oh', 'We', 'coconuts', 'zone', 'castle', 'carrying', 'You', 'have', 'in', 'temperate', 'goes', 'mean', 'length', 'with', 'ratios', 'creeper', 'wings', 'found', 'maybe', 'wind', 'under', '...', 'feathers', \"'em\", 'sun', 'minute', 'back', 'Who', '?', 'Halt', 'and', 'second', 'he', 'A', 'clop', \"'d\", 'is', 'through', 'So', 'It', 'England', 'since', 'What', 'course', 'covered', ':', 'just', 'am', 'suggesting', 'Arthur', 'Patsy', 'In', 'husk', 'They', 'climes', 'if', 'African', 'will', 'fly', 'but', 'use', 'got', 'it', 'go', 'The', 'where', 'to', 'times', 'bring', 'yet', 'I', 'air-speed', 'ridden', 'son', 'your', '--', 'Supposing', '[', 'land', 'carried', 'KING', 'bangin', 'Whoa', 'of', 'master'}\n"
     ]
    }
   ],
   "source": [
    "# Import necessary modules\n",
    "from nltk.tokenize import sent_tokenize\n",
    "from nltk.tokenize import word_tokenize\n",
    "\n",
    "# Split scene_one into sentences: sentences\n",
    "sentences = sent_tokenize(scene_one)\n",
    "\n",
    "# Use word_tokenize to tokenize the fourth sentence: tokenized_sent\n",
    "tokenized_sent = word_tokenize(sentences[3])\n",
    "\n",
    "# Make a set of unique tokens in the entire scene: unique_tokens\n",
    "unique_tokens = set(word_tokenize(scene_one))\n",
    "\n",
    "# Print the unique tokens result\n",
    "print(unique_tokens)"
   ]
  },
  {
   "cell_type": "code",
   "execution_count": 10,
   "metadata": {},
   "outputs": [
    {
     "name": "stdout",
     "output_type": "stream",
     "text": [
      "580 588\n",
      "<_sre.SRE_Match object; span=(9, 32), match='[wind] [clop clop clop]'>\n",
      "<_sre.SRE_Match object; span=(0, 7), match='ARTHUR:'>\n"
     ]
    }
   ],
   "source": [
    "# Search for the first occurrence of \"coconuts\" in scene_one: match\n",
    "match = re.search(\"coconuts\", scene_one)\n",
    "\n",
    "# Print the start and end indexes of match\n",
    "print(match.start(), match.end())\n",
    "\n",
    "# Write a regular expression to search for anything in square brackets: pattern1\n",
    "pattern1 = r\"\\[.*]\"\n",
    "\n",
    "# Use re.search to find the first text in square brackets\n",
    "print(re.search(pattern1, scene_one))\n",
    "\n",
    "# Find the script notation at the beginning of the fourth sentence and print it\n",
    "pattern2 = r\"[ARTHUR:]+\"\n",
    "print(re.match(pattern2, sentences[3]))"
   ]
  },
  {
   "cell_type": "markdown",
   "metadata": {},
   "source": [
    "### Advancing tokenization with regex\n",
    "#### Regex groups using or \"|\"\n",
    "- OR is represented using |\n",
    "- Define a group using ()\n",
    "- Define explicit character ranges using []"
   ]
  },
  {
   "cell_type": "code",
   "execution_count": 11,
   "metadata": {},
   "outputs": [
    {
     "data": {
      "text/plain": [
       "['He', 'has', '11', 'cats']"
      ]
     },
     "execution_count": 11,
     "metadata": {},
     "output_type": "execute_result"
    }
   ],
   "source": [
    "import re \n",
    "match_digits_and_words = ('(\\d+|\\w+)')\n",
    "re.findall(match_digits_and_words, 'He has 11 cats')"
   ]
  },
  {
   "cell_type": "markdown",
   "metadata": {},
   "source": [
    "<table>\n",
    "  <thead>\n",
    "    <tr>\n",
    "      <th>pattern</th>\n",
    "      <th>matches</th> \n",
    "      <th>example</th>\n",
    "    </tr>\n",
    "  </thead>\n",
    "  <tbody>\n",
    "    <tr>\n",
    "      <td>[A-Za-z]+</td>\n",
    "      <td>upper and lowercase English Alphabet</td> \n",
    "      <td>'ABCDEFghijk'</td>\n",
    "    </tr>\n",
    "    <tr>\n",
    "      <td>[0-9]</td>\n",
    "      <td>number from 0 to 9</td> \n",
    "      <td>9</td>\n",
    "    </tr>\n",
    "    <tr>\n",
    "      <td>[A-Za-z\\-\\.]+</td>\n",
    "      <td>upper and lower case English alphabet, - and .</td> \n",
    "      <td>'My-Website.com'</td>\n",
    "    </tr>\n",
    "    <tr>\n",
    "      <td>(a-z)</td>\n",
    "      <td>a, -, and z</td> \n",
    "      <td>username74</td>\n",
    "    </tr>\n",
    "    <tr>\n",
    "      <td>+ or *</td>\n",
    "      <td>greedy match</td> \n",
    "      <td>'a-z'</td>\n",
    "    </tr>\n",
    "    <tr>\n",
    "      <td>(\\s+|,)</td>\n",
    "      <td>spaces or a comma</td> \n",
    "      <td>', '</td>\n",
    "    </tr>        \n",
    "  </tbody>\n",
    "</table>"
   ]
  },
  {
   "cell_type": "code",
   "execution_count": 12,
   "metadata": {},
   "outputs": [
    {
     "data": {
      "text/plain": [
       "<_sre.SRE_Match object; span=(0, 35), match='match lowercase spaces nums like 12'>"
      ]
     },
     "execution_count": 12,
     "metadata": {},
     "output_type": "execute_result"
    }
   ],
   "source": [
    "my_str = 'match lowercase spaces nums like 12, but no commas'\n",
    "re.match('[a-z0-9 ]+', my_str)"
   ]
  },
  {
   "cell_type": "code",
   "execution_count": 13,
   "metadata": {},
   "outputs": [],
   "source": [
    "tweets = ['This is the best #nlp exercise ive found online! #python',\n",
    " '#NLP is super fun! <3 #learning',\n",
    " 'Thanks @datacamp :) #nlp #python']"
   ]
  },
  {
   "cell_type": "code",
   "execution_count": 14,
   "metadata": {},
   "outputs": [
    {
     "name": "stdout",
     "output_type": "stream",
     "text": [
      "[['This', 'is', 'the', 'best', '#nlp', 'exercise', 'ive', 'found', 'online', '!', '#python'], ['#NLP', 'is', 'super', 'fun', '!', '<3', '#learning'], ['Thanks', '@datacamp', ':)', '#nlp', '#python']]\n"
     ]
    }
   ],
   "source": [
    "# Import the necessary modules\n",
    "from nltk.tokenize import regexp_tokenize\n",
    "from nltk.tokenize import TweetTokenizer\n",
    "\n",
    "# Define a regex pattern to find hashtags: pattern1\n",
    "pattern1 = r\"#\\w+\"\n",
    "\n",
    "# Use the pattern on the first tweet in the tweets list\n",
    "regexp_tokenize(tweets[0], pattern1)\n",
    "\n",
    "# Write a pattern that matches both mentions and hashtags\n",
    "pattern2 = r\"([@#]\\w+)\"\n",
    "\n",
    "# Use the pattern on the last tweet in the tweets list\n",
    "regexp_tokenize(tweets[-1], pattern2)\n",
    "\n",
    "# Use the TweetTokenizer to tokenize all tweets into one list\n",
    "tknzr = TweetTokenizer()\n",
    "all_tokens = [tknzr.tokenize(t) for t in tweets]\n",
    "print(all_tokens)"
   ]
  },
  {
   "cell_type": "code",
   "execution_count": 15,
   "metadata": {},
   "outputs": [],
   "source": [
    "german_text='Wann gehen wir Pizza essen? 🍕 Und fährst du mit Über? 🚕'"
   ]
  },
  {
   "cell_type": "code",
   "execution_count": 20,
   "metadata": {},
   "outputs": [
    {
     "name": "stdout",
     "output_type": "stream",
     "text": [
      "['Wann', 'gehen', 'wir', 'Pizza', 'essen', '?', '🍕', 'Und', 'fährst', 'du', 'mit', 'Über', '?', '🚕']\n",
      "['Wann', 'Pizza', 'Und', 'Über']\n",
      "['🍕', '🚕']\n"
     ]
    }
   ],
   "source": [
    "# Tokenize and print all words in german_text\n",
    "all_words = word_tokenize(german_text)\n",
    "print(all_words)\n",
    "\n",
    "# Tokenize and print only capital words\n",
    "capital_words = r\"[ÜA-Z]\\w+\"\n",
    "print(regexp_tokenize(german_text, capital_words))\n",
    "\n",
    "# Tokenize and print only emoji\n",
    "emoji = \"['\\U0001F300-\\U0001F5FF'|'\\U0001F600-\\U0001F64F'|'\\U0001F680-\\U0001F6FF'|'\\u2600-\\u26FF\\u2700-\\u27BF']\"\n",
    "print(regexp_tokenize(german_text, emoji))\n"
   ]
  },
  {
   "cell_type": "markdown",
   "metadata": {},
   "source": [
    "### Charting word length with nltk"
   ]
  },
  {
   "cell_type": "code",
   "execution_count": 21,
   "metadata": {},
   "outputs": [],
   "source": [
    "from matplotlib import pyplot as plt\n",
    "import seaborn as sns\n",
    "sns.set()"
   ]
  },
  {
   "cell_type": "code",
   "execution_count": 23,
   "metadata": {},
   "outputs": [
    {
     "data": {
      "text/plain": [
       "(array([2., 0., 1., 0., 0., 0., 3., 0., 0., 1.]),\n",
       " array([1. , 1.5, 2. , 2.5, 3. , 3.5, 4. , 4.5, 5. , 5.5, 6. ]),\n",
       " <a list of 10 Patch objects>)"
      ]
     },
     "execution_count": 23,
     "metadata": {},
     "output_type": "execute_result"
    },
    {
     "data": {
      "image/png": "[encoded data removed]",
      "text/plain": [
       "<Figure size 432x288 with 1 Axes>"
      ]
     },
     "metadata": {},
     "output_type": "display_data"
    }
   ],
   "source": [
    "words = word_tokenize('This is a pretty cool tool!')\n",
    "word_lengths = [len(w) for w in words]\n",
    "plt.hist(word_lengths)"
   ]
  },
  {
   "cell_type": "code",
   "execution_count": null,
   "metadata": {},
   "outputs": [],
   "source": []
  }
 ],
 "metadata": {
  "kernelspec": {
   "display_name": "Python 3",
   "language": "python",
   "name": "python3"
  },
  "language_info": {
   "codemirror_mode": {
    "name": "ipython",
    "version": 3
   },
   "file_extension": ".py",
   "mimetype": "text/x-python",
   "name": "python",
   "nbconvert_exporter": "python",
   "pygments_lexer": "ipython3",
   "version": "3.6.5"
  }
 },
 "nbformat": 4,
 "nbformat_minor": 2
}
