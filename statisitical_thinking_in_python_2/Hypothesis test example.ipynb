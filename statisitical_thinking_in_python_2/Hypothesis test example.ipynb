{
 "cells": [
  {
   "cell_type": "markdown",
   "metadata": {},
   "source": [
    "### A/B testing"
   ]
  },
  {
   "cell_type": "code",
   "execution_count": 1,
   "metadata": {},
   "outputs": [],
   "source": [
    "import numpy as np\n",
    "import pandas as pd\n",
    "import matplotlib.pyplot as plt\n",
    "import seaborn as sns\n",
    "sns.set()\n",
    "import warnings\n",
    "warnings.filterwarnings('ignore')"
   ]
  },
  {
   "cell_type": "markdown",
   "metadata": {},
   "source": [
    "#### Null hypothesis\n",
    "- The click-through rate is not affected by the redesign"
   ]
  },
  {
   "cell_type": "markdown",
   "metadata": {},
   "source": [
    "#### The vote for the Civil Rights Act in 1964\n",
    "\n",
    "153 Democrats and 136 Republicans voted yea.<br>\n",
    "91 Democrats and 35 Republicans voted nea. <br>\n",
    "<br>\n",
    "Did party affiliation make a difference in the vote?<br><br>\n",
    "To answer the question, we will evaluate the hypothesis that the party of a House member has no bearing on his or her vote. <br><br>\n",
    "We will use the fraction of Democrats voting in favor as our test statistic - <br><br>\n",
    "Then we will evaluate the probability of observing a fraction at least as small as 153/244.<br><br>\n",
    "To do this we will permute the party lables of the House voters, arbitrarily divide them into 'Democrats' and 'Republicans' and compute the fraction of the Democrats voting yea. "
   ]
  },
  {
   "cell_type": "code",
   "execution_count": 2,
   "metadata": {},
   "outputs": [],
   "source": [
    "# def diff_frac(data_A, data_B):\n",
    "#     frac_A = np.sum(data_A) / len(data_A)\n",
    "#     frac_B = np.sum(data_B) / len(data_B)\n",
    "#     return frac_B - frac_A"
   ]
  },
  {
   "cell_type": "code",
   "execution_count": 3,
   "metadata": {},
   "outputs": [],
   "source": [
    "def draw_perm_reps(data_1, data_2, func, size=1):\n",
    "    '''Generates multiple permutaion replicates'''\n",
    "    \n",
    "    def permutation_sample(data1, data2):\n",
    "        '''Generate a permutation sample from two data sets.'''\n",
    "        data = np.concatenate((data1, data2))\n",
    "        permuted_data = np.random.permutation(data)\n",
    "        perm_sample_1 = permuted_data[:len(data1)]\n",
    "        perm_sample_2 = permuted_data[len(data1):]\n",
    "        return perm_sample_1, perm_sample_2\n",
    "    \n",
    "    perm_replicates = np.empty(size)\n",
    "    for i in range(size):\n",
    "        perm_sample_1, perm_sample_2 = permutation_sample(data_1, data_2)\n",
    "        perm_replicates[i] = func(perm_sample_1, perm_sample_2)\n",
    "        \n",
    "    return perm_replicates"
   ]
  },
  {
   "cell_type": "code",
   "execution_count": 4,
   "metadata": {},
   "outputs": [
    {
     "name": "stdout",
     "output_type": "stream",
     "text": [
      "p-value = 0.0004\n"
     ]
    }
   ],
   "source": [
    "# Construct arrays of data: dems, reps\n",
    "dems = np.array([True] * 153 + [False] * 91)\n",
    "reps = np.array([True] * 136 + [False] * 35)\n",
    "\n",
    "def frac_yea_dems(dems, reps):\n",
    "    \"\"\"Compute fraction of Democrat yea votes.\"\"\"\n",
    "    frac = sum(dems) / len(dems)\n",
    "    return frac\n",
    "\n",
    "# Acquire permutation samples: perm_replicates\n",
    "perm_replicates = draw_perm_reps(dems, reps, frac_yea_dems, 10000)\n",
    "\n",
    "# Compute and print p-value: p\n",
    "p = np.sum(perm_replicates <= 153/244) / len(perm_replicates)\n",
    "print('p-value =', p)"
   ]
  },
  {
   "cell_type": "markdown",
   "metadata": {},
   "source": [
    "### A time-on-website analog\n",
    "We will perform an A/B test to determine if the dead-ball era rule changes resulted in a slower rate of ho-hitters using the difference in mean inter-no-hitter as our test statistic. "
   ]
  },
  {
   "cell_type": "code",
   "execution_count": 5,
   "metadata": {},
   "outputs": [],
   "source": [
    "def diff_of_means(data_1, data_2):\n",
    "    '''Difference of means of two arrays.'''\n",
    "    diff = data_1.mean() - data_2.mean()\n",
    "    return diff"
   ]
  },
  {
   "cell_type": "code",
   "execution_count": 6,
   "metadata": {},
   "outputs": [
    {
     "data": {
      "text/plain": [
       "array([-1.000e+00,  8.940e+02,  1.000e+01,  1.300e+02,  1.000e+00,\n",
       "        9.340e+02,  2.900e+01,  6.000e+00,  4.850e+02,  2.540e+02,\n",
       "        3.720e+02,  8.100e+01,  1.910e+02,  3.550e+02,  1.800e+02,\n",
       "        2.860e+02,  4.700e+01,  2.690e+02,  3.610e+02,  1.730e+02,\n",
       "        2.460e+02,  4.920e+02,  4.620e+02,  1.319e+03,  5.800e+01,\n",
       "        2.970e+02,  3.100e+01,  2.970e+03,  6.400e+02,  2.370e+02,\n",
       "        4.340e+02,  5.700e+02,  7.700e+01,  2.710e+02,  5.630e+02,\n",
       "        3.365e+03,  8.900e+01,  0.000e+00,  3.790e+02,  2.210e+02,\n",
       "        4.790e+02,  3.670e+02,  6.280e+02,  8.430e+02,  1.613e+03,\n",
       "        1.101e+03,  2.150e+02,  6.840e+02,  8.140e+02,  2.780e+02,\n",
       "        3.240e+02,  1.610e+02,  2.190e+02,  5.450e+02,  7.150e+02,\n",
       "        9.660e+02,  6.240e+02,  2.900e+01,  4.500e+02,  1.070e+02,\n",
       "        2.000e+01,  9.100e+01,  1.325e+03,  1.240e+02,  1.468e+03,\n",
       "        1.040e+02,  1.309e+03,  4.290e+02,  6.200e+01,  1.878e+03,\n",
       "        1.104e+03,  1.230e+02,  2.510e+02,  9.300e+01,  1.880e+02,\n",
       "        9.830e+02,  1.660e+02,  9.600e+01,  7.020e+02,  2.300e+01,\n",
       "        5.240e+02,  2.600e+01,  2.990e+02,  5.900e+01,  3.900e+01,\n",
       "        1.200e+01,  2.000e+00,  3.080e+02,  1.114e+03,  8.130e+02,\n",
       "        8.870e+02])"
      ]
     },
     "execution_count": 6,
     "metadata": {},
     "output_type": "execute_result"
    }
   ],
   "source": [
    "nht = pd.read_csv('mlb_nohitters.csv', index_col='date', parse_dates=['date'])\n",
    "dead_ball_era = nht.loc[:'1920-06']\n",
    "live_ball_era = nht.loc['1920-06':]\n",
    "nht_dead = np.array(dead_ball_era['game_number'].diff() - 1).astype(int)\n",
    "nht_dead[0] = -1\n",
    "nht_dead"
   ]
  },
  {
   "cell_type": "code",
   "execution_count": 7,
   "metadata": {},
   "outputs": [
    {
     "data": {
      "text/plain": [
       "array([ 645., 2088.,   42., 2090.,   11.,  886., 1665., 1084., 2900.,\n",
       "       2432.,  750., 4021., 1070., 1765., 1322.,   26.,  548., 1525.,\n",
       "         77., 2181., 2752.,  127., 2147.,  211.,   41., 1575.,  151.,\n",
       "        479.,  697.,  557., 2267.,  542.,  392.,   73.,  603.,  233.,\n",
       "        255.,  528.,  397., 1529., 1023., 1194.,  462.,  583.,   37.,\n",
       "        943.,  996.,  480., 1497.,  717.,  224.,  219., 1531.,  498.,\n",
       "         44.,  288.,  267.,  600.,   52.,  269., 1086.,  386.,  176.,\n",
       "       2199.,  216.,   54.,  675., 1243.,  463.,  650.,  171.,  327.,\n",
       "        110.,  774.,  509.,    8.,  197.,  136.,   12., 1124.,   64.,\n",
       "        380.,  811.,  232.,  192.,  731.,  715.,  226.,  605.,  539.,\n",
       "       1491.,  323.,  240.,  179.,  702.,  156.,   82., 1397.,  354.,\n",
       "        778.,  603., 1001.,  385.,  986.,  203.,  149.,  576.,  445.,\n",
       "        180., 1403.,  252.,  675., 1351., 2983., 1568.,   45.,  899.,\n",
       "       3260., 1025.,   31.,  100., 2055., 4043.,   79.,  238., 3931.,\n",
       "       2351.,  595.,  110.,  215.,    0.,  563.,  206.,  660.,  242.,\n",
       "        577.,  179.,  157.,  192.,  192., 1848.,  792., 1693.,   55.,\n",
       "        388.,  225., 1134., 1172., 1555.,   31., 1582., 1044.,  378.,\n",
       "       1687., 2915.,  280.,  765., 2819.,  511., 1521.,  745., 2491.,\n",
       "        580., 2072., 6450.,  578.,  745., 1075., 1103., 1549., 1520.,\n",
       "        138., 1202.,  296.,  277.,  351.,  391.,  950.,  459.,   62.,\n",
       "       1056., 1128.,  139.,  420.,   87.,   71.,  814.,  603., 1349.,\n",
       "        162., 1027.,  783.,  326.,  101.,  876.,  381.,  905.,  156.,\n",
       "        419.,  239.,  119.,  129.,  467.])"
      ]
     },
     "execution_count": 7,
     "metadata": {},
     "output_type": "execute_result"
    }
   ],
   "source": [
    "nht_live = np.array(live_ball_era['game_number'].diff() - 1).astype(int)\n",
    "nht_live[0] = 645\n",
    "nht_live"
   ]
  },
  {
   "cell_type": "code",
   "execution_count": 9,
   "metadata": {},
   "outputs": [
    {
     "name": "stdout",
     "output_type": "stream",
     "text": [
      "p-val = 0.0001\n"
     ]
    }
   ],
   "source": [
    "# Compute the observed difference in mean inter-no-hitter times: nht_diff_obs\n",
    "nht_diff_obs = diff_of_means(nht_dead, nht_live)\n",
    "\n",
    "# Acquire 10,000 permutation replicates of difference in mean no-hitter time: perm_replicates\n",
    "perm_replicates = draw_perm_reps(nht_dead, nht_live, diff_of_means, 10000)\n",
    "\n",
    "\n",
    "# Compute and print the p-value: p\n",
    "p = np.sum(perm_replicates <= nht_diff_obs) / len(perm_replicates)\n",
    "print('p-val =', p)"
   ]
  },
  {
   "cell_type": "markdown",
   "metadata": {},
   "source": [
    "### Test of correlation"
   ]
  },
  {
   "cell_type": "markdown",
   "metadata": {},
   "source": [
    "#### How do we see if the $\\rho=0.54$ correlation is due to chance\n",
    "#### Hypothesis test of correlation \n",
    "- Posit null hypothesis: the two variables are completely uncorrelated\n",
    "- Simulate data assuming null hypothesis is true\n",
    "- Use Pearson correlation, $\\rho$, as test statistic\n",
    "- Compute p-value as fraction of replicates that have $\\rho$ at least as large as observed"
   ]
  },
  {
   "cell_type": "code",
   "execution_count": 10,
   "metadata": {},
   "outputs": [],
   "source": [
    "female_fert_ill = pd.read_csv('female_literacy_fertility.csv')\n",
    "fertility = np.array(female_fert_ill['fertility'])\n",
    "illiteracy = np.array(100-female_fert_ill['female literacy'])"
   ]
  },
  {
   "cell_type": "code",
   "execution_count": 11,
   "metadata": {},
   "outputs": [],
   "source": [
    "def pearson_r(x,y):\n",
    "    \"\"\"Compute Pearson correlation coefficient between two arrays.\"\"\"\n",
    "    # Compute correlation matrix: corr_mat\n",
    "    corr_mat = np.corrcoef(x,y)\n",
    "    # Return entry [0,1]\n",
    "    return corr_mat[0,1]"
   ]
  },
  {
   "cell_type": "code",
   "execution_count": 14,
   "metadata": {},
   "outputs": [
    {
     "name": "stdout",
     "output_type": "stream",
     "text": [
      "p-val = 0.0\n"
     ]
    }
   ],
   "source": [
    "# Compute observed correlation: r_obs\n",
    "r_obs = pearson_r(illiteracy, fertility)\n",
    "\n",
    "# Initialize permutation replicates: perm_replicates\n",
    "perm_replicates = np.empty(10000)\n",
    "\n",
    "# Draw replicates\n",
    "for i in range(10000):\n",
    "    # Permute illiteracy measurments: illiteracy_permuted\n",
    "    illiteracy_permuted = np.random.permutation(illiteracy)\n",
    "\n",
    "    # Compute Pearson correlation\n",
    "    perm_replicates[i] = pearson_r(illiteracy_permuted, fertility)\n",
    "\n",
    "# Compute p-value: p\n",
    "p = np.sum(perm_replicates >= r_obs) / len(perm_replicates)\n",
    "print('p-val =', p)"
   ]
  },
  {
   "cell_type": "code",
   "execution_count": 27,
   "metadata": {
    "scrolled": true
   },
   "outputs": [
    {
     "data": {
      "text/plain": [
       "145"
      ]
     },
     "execution_count": 27,
     "metadata": {},
     "output_type": "execute_result"
    }
   ],
   "source": [
    "bee_sperm = pd.read_csv('bee_sperm.csv', skiprows=3, index_col='Specimen')\n",
    "control = np.array(bee_sperm.loc[bee_sperm['Treatment']=='Control']['Sperm Volume per 500 ul'] * 0.000001)\n",
    "len(control)"
   ]
  },
  {
   "cell_type": "code",
   "execution_count": 32,
   "metadata": {},
   "outputs": [
    {
     "data": {
      "text/plain": [
       "90"
      ]
     },
     "execution_count": 32,
     "metadata": {},
     "output_type": "execute_result"
    }
   ],
   "source": [
    "treated = np.array(bee_sperm.loc[bee_sperm['Treatment']=='Pesticide']['Sperm Volume per 500 ul'] * 0.000001)\n",
    "len(treated)"
   ]
  },
  {
   "cell_type": "code",
   "execution_count": 33,
   "metadata": {},
   "outputs": [],
   "source": [
    "def ecdf(data):\n",
    "    \"\"\"Compute ECDF for a one-dimensional array of measurements.\"\"\"\n",
    "    # Number of data points: n\n",
    "    n = len(data)\n",
    "    # x-data for the ECDF: x\n",
    "    x = np.sort(data)\n",
    "    # y-data for the ECDF: y\n",
    "    y = np.arange(1, n+1) / n\n",
    "    return x, y"
   ]
  },
  {
   "cell_type": "code",
   "execution_count": 34,
   "metadata": {},
   "outputs": [
    {
     "data": {
      "image/png": "[encoded data removed]",
      "text/plain": [
       "<Figure size 432x288 with 1 Axes>"
      ]
     },
     "metadata": {},
     "output_type": "display_data"
    }
   ],
   "source": [
    "# Compute x,y values for ECDFs\n",
    "x_control, y_control = ecdf(control)\n",
    "x_treated, y_treated = ecdf(treated)\n",
    "\n",
    "# Plot the ECDFs\n",
    "plt.plot(x_control, y_control, marker='.', linestyle='none')\n",
    "plt.plot(x_treated, y_treated, marker='.', linestyle='none')\n",
    "\n",
    "# Set the margins\n",
    "plt.margins(0.02)\n",
    "\n",
    "# Add a legend\n",
    "plt.legend(('control', 'treated'), loc='lower right')\n",
    "\n",
    "# Label axes and show plot\n",
    "plt.xlabel('millions of alive sperm per mL')\n",
    "plt.ylabel('ECDF')\n",
    "plt.show()"
   ]
  },
  {
   "cell_type": "code",
   "execution_count": 40,
   "metadata": {},
   "outputs": [],
   "source": [
    "def bootstrap_replicate_1d(data, func):\n",
    "    '''Generate bootstrap replicate of 1D data.'''\n",
    "    bs_sample = np.random.choice(data, len(data))\n",
    "    return func(bs_sample)\n",
    "\n",
    "def draw_bs_reps(data, func, size=1):\n",
    "    '''Draw bootstrap replicates'''\n",
    "    bs_replicates = np.empty(size)\n",
    "    \n",
    "    for i in range(size):\n",
    "        bs_replicates[i] = bootstrap_replicate_1d(data, func)\n",
    "        \n",
    "    return bs_replicates"
   ]
  },
  {
   "cell_type": "code",
   "execution_count": 43,
   "metadata": {},
   "outputs": [
    {
     "name": "stdout",
     "output_type": "stream",
     "text": [
      "p-value = 0.0035\n"
     ]
    }
   ],
   "source": [
    "# Compute the difference in mean sperm count: diff_means\n",
    "diff_means = np.mean(control) - np.mean(treated)\n",
    "\n",
    "# Compute mean of pooled data: mean_count\n",
    "mean_count = np.mean(np.concatenate((control, treated)))\n",
    "\n",
    "# Generate shifted data sets\n",
    "control_shifted = control - np.mean(control) + mean_count\n",
    "treated_shifted = treated - np.mean(treated) + mean_count\n",
    "\n",
    "# Generate bootstrap replicates\n",
    "bs_reps_control = draw_bs_reps(control_shifted,\n",
    "                               np.mean, size=10000)\n",
    "bs_reps_treated = draw_bs_reps(treated_shifted,\n",
    "                               np.mean, size=10000)\n",
    "\n",
    "# Get replicates of difference of means: bs_replicates\n",
    "bs_replicates = bs_reps_control - bs_reps_treated\n",
    "\n",
    "# Compute and print p-value: p\n",
    "p = np.sum(bs_replicates >= np.mean(control) - np.mean(treated)) \\\n",
    "            / len(bs_replicates)\n",
    "print('p-value =', p)"
   ]
  },
  {
   "cell_type": "code",
   "execution_count": null,
   "metadata": {},
   "outputs": [],
   "source": []
  }
 ],
 "metadata": {
  "kernelspec": {
   "display_name": "Python 3",
   "language": "python",
   "name": "python3"
  },
  "language_info": {
   "codemirror_mode": {
    "name": "ipython",
    "version": 3
   },
   "file_extension": ".py",
   "mimetype": "text/x-python",
   "name": "python",
   "nbconvert_exporter": "python",
   "pygments_lexer": "ipython3",
   "version": "3.6.5"
  }
 },
 "nbformat": 4,
 "nbformat_minor": 2
}
