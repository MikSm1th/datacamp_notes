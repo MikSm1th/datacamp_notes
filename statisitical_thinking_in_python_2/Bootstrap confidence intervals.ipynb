{
 "cells": [
  {
   "cell_type": "markdown",
   "metadata": {},
   "source": [
    "### Generating bootstrap replicates\n",
    "- In inference problems, it is rare that we are interested in the result from a single experiment or data acquisition."
   ]
  },
  {
   "cell_type": "code",
   "execution_count": 1,
   "metadata": {},
   "outputs": [],
   "source": [
    "import numpy as np\n",
    "import pandas as pd\n",
    "import matplotlib.pyplot as plt\n",
    "import seaborn as sns\n",
    "sns.set()\n",
    "import warnings\n",
    "warnings.filterwarnings('ignore')"
   ]
  },
  {
   "cell_type": "code",
   "execution_count": 2,
   "metadata": {},
   "outputs": [],
   "source": [
    "sns.set(rc={'figure.figsize':(11,8)})"
   ]
  },
  {
   "cell_type": "code",
   "execution_count": 3,
   "metadata": {},
   "outputs": [
    {
     "data": {
      "text/plain": [
       "array([3, 1, 3, 1, 1])"
      ]
     },
     "execution_count": 3,
     "metadata": {},
     "output_type": "execute_result"
    }
   ],
   "source": [
    "np.random.choice([1,2,3,4,5], size=5)"
   ]
  },
  {
   "cell_type": "code",
   "execution_count": 4,
   "metadata": {},
   "outputs": [
    {
     "data": {
      "text/plain": [
       "100"
      ]
     },
     "execution_count": 4,
     "metadata": {},
     "output_type": "execute_result"
    }
   ],
   "source": [
    "michelson_speed_of_light = pd.read_csv('michelson_speed_of_light.csv')\n",
    "michelson_speed_of_light = np.array(michelson_speed_of_light['velocity of light in air (km/s)'])\n",
    "len(michelson_speed_of_light)"
   ]
  },
  {
   "cell_type": "code",
   "execution_count": 5,
   "metadata": {},
   "outputs": [
    {
     "name": "stdout",
     "output_type": "stream",
     "text": [
      "299843.1\n",
      "299840.0\n",
      "81.16273775569674\n"
     ]
    }
   ],
   "source": [
    "bs_sample = np.random.choice(michelson_speed_of_light, size=100)\n",
    "print(np.mean(bs_sample))\n",
    "print(np.median(bs_sample))\n",
    "print(np.std(bs_sample))"
   ]
  },
  {
   "cell_type": "code",
   "execution_count": 6,
   "metadata": {
    "scrolled": true
   },
   "outputs": [
    {
     "data": {
      "text/html": [
       "<div>\n",
       "<style scoped>\n",
       "    .dataframe tbody tr th:only-of-type {\n",
       "        vertical-align: middle;\n",
       "    }\n",
       "\n",
       "    .dataframe tbody tr th {\n",
       "        vertical-align: top;\n",
       "    }\n",
       "\n",
       "    .dataframe thead th {\n",
       "        text-align: right;\n",
       "    }\n",
       "</style>\n",
       "<table border=\"1\" class=\"dataframe\">\n",
       "  <thead>\n",
       "    <tr style=\"text-align: right;\">\n",
       "      <th></th>\n",
       "      <th>yyyy</th>\n",
       "      <th>mm</th>\n",
       "      <th>tmax</th>\n",
       "      <th>tmin</th>\n",
       "      <th>af</th>\n",
       "      <th>rain</th>\n",
       "      <th>sun</th>\n",
       "    </tr>\n",
       "  </thead>\n",
       "  <tbody>\n",
       "    <tr>\n",
       "      <th>0</th>\n",
       "      <td>1883</td>\n",
       "      <td>1</td>\n",
       "      <td>6.3</td>\n",
       "      <td>1.7</td>\n",
       "      <td>6</td>\n",
       "      <td>122.1</td>\n",
       "      <td>---</td>\n",
       "    </tr>\n",
       "    <tr>\n",
       "      <th>1</th>\n",
       "      <td>1883</td>\n",
       "      <td>2</td>\n",
       "      <td>8.0</td>\n",
       "      <td>2.8</td>\n",
       "      <td>2</td>\n",
       "      <td>69.8</td>\n",
       "      <td>---</td>\n",
       "    </tr>\n",
       "    <tr>\n",
       "      <th>2</th>\n",
       "      <td>1883</td>\n",
       "      <td>3</td>\n",
       "      <td>4.8</td>\n",
       "      <td>-1.6</td>\n",
       "      <td>23</td>\n",
       "      <td>29.6</td>\n",
       "      <td>---</td>\n",
       "    </tr>\n",
       "    <tr>\n",
       "      <th>3</th>\n",
       "      <td>1883</td>\n",
       "      <td>4</td>\n",
       "      <td>12.2</td>\n",
       "      <td>3.8</td>\n",
       "      <td>2</td>\n",
       "      <td>74.0</td>\n",
       "      <td>---</td>\n",
       "    </tr>\n",
       "    <tr>\n",
       "      <th>4</th>\n",
       "      <td>1883</td>\n",
       "      <td>5</td>\n",
       "      <td>14.7</td>\n",
       "      <td>6.2</td>\n",
       "      <td>0</td>\n",
       "      <td>31.2</td>\n",
       "      <td>---</td>\n",
       "    </tr>\n",
       "    <tr>\n",
       "      <th>5</th>\n",
       "      <td>1883</td>\n",
       "      <td>6</td>\n",
       "      <td>17.7</td>\n",
       "      <td>9.3</td>\n",
       "      <td>0</td>\n",
       "      <td>66.2</td>\n",
       "      <td>---</td>\n",
       "    </tr>\n",
       "    <tr>\n",
       "      <th>6</th>\n",
       "      <td>1883</td>\n",
       "      <td>7</td>\n",
       "      <td>18.8</td>\n",
       "      <td>10.5</td>\n",
       "      <td>0</td>\n",
       "      <td>77.6</td>\n",
       "      <td>---</td>\n",
       "    </tr>\n",
       "    <tr>\n",
       "      <th>7</th>\n",
       "      <td>1883</td>\n",
       "      <td>8</td>\n",
       "      <td>19.8</td>\n",
       "      <td>10.9</td>\n",
       "      <td>0</td>\n",
       "      <td>32.5</td>\n",
       "      <td>---</td>\n",
       "    </tr>\n",
       "    <tr>\n",
       "      <th>8</th>\n",
       "      <td>1883</td>\n",
       "      <td>9</td>\n",
       "      <td>16.8</td>\n",
       "      <td>10.0</td>\n",
       "      <td>0</td>\n",
       "      <td>137.4</td>\n",
       "      <td>---</td>\n",
       "    </tr>\n",
       "    <tr>\n",
       "      <th>9</th>\n",
       "      <td>1883</td>\n",
       "      <td>10</td>\n",
       "      <td>12.7</td>\n",
       "      <td>6.4</td>\n",
       "      <td>0</td>\n",
       "      <td>102.9</td>\n",
       "      <td>---</td>\n",
       "    </tr>\n",
       "    <tr>\n",
       "      <th>10</th>\n",
       "      <td>1883</td>\n",
       "      <td>11</td>\n",
       "      <td>8.6</td>\n",
       "      <td>3.5</td>\n",
       "      <td>1</td>\n",
       "      <td>83.6</td>\n",
       "      <td>---</td>\n",
       "    </tr>\n",
       "    <tr>\n",
       "      <th>11</th>\n",
       "      <td>1883</td>\n",
       "      <td>12</td>\n",
       "      <td>7.3</td>\n",
       "      <td>2.4</td>\n",
       "      <td>4</td>\n",
       "      <td>48.6</td>\n",
       "      <td>---</td>\n",
       "    </tr>\n",
       "    <tr>\n",
       "      <th>12</th>\n",
       "      <td>1884</td>\n",
       "      <td>1</td>\n",
       "      <td>8.4</td>\n",
       "      <td>3.5</td>\n",
       "      <td>3</td>\n",
       "      <td>127.7</td>\n",
       "      <td>---</td>\n",
       "    </tr>\n",
       "    <tr>\n",
       "      <th>13</th>\n",
       "      <td>1884</td>\n",
       "      <td>2</td>\n",
       "      <td>8.0</td>\n",
       "      <td>2.1</td>\n",
       "      <td>3</td>\n",
       "      <td>49.4</td>\n",
       "      <td>---</td>\n",
       "    </tr>\n",
       "    <tr>\n",
       "      <th>14</th>\n",
       "      <td>1884</td>\n",
       "      <td>3</td>\n",
       "      <td>9.5</td>\n",
       "      <td>2.5</td>\n",
       "      <td>4</td>\n",
       "      <td>50.4</td>\n",
       "      <td>---</td>\n",
       "    </tr>\n",
       "    <tr>\n",
       "      <th>15</th>\n",
       "      <td>1884</td>\n",
       "      <td>4</td>\n",
       "      <td>10.6</td>\n",
       "      <td>3.3</td>\n",
       "      <td>4</td>\n",
       "      <td>48.0</td>\n",
       "      <td>---</td>\n",
       "    </tr>\n",
       "    <tr>\n",
       "      <th>16</th>\n",
       "      <td>1884</td>\n",
       "      <td>5</td>\n",
       "      <td>15.7</td>\n",
       "      <td>6.4</td>\n",
       "      <td>0</td>\n",
       "      <td>33.1</td>\n",
       "      <td>---</td>\n",
       "    </tr>\n",
       "    <tr>\n",
       "      <th>17</th>\n",
       "      <td>1884</td>\n",
       "      <td>6</td>\n",
       "      <td>18.2</td>\n",
       "      <td>8.7</td>\n",
       "      <td>0</td>\n",
       "      <td>39.7</td>\n",
       "      <td>---</td>\n",
       "    </tr>\n",
       "    <tr>\n",
       "      <th>18</th>\n",
       "      <td>1884</td>\n",
       "      <td>7</td>\n",
       "      <td>20.8</td>\n",
       "      <td>11.8</td>\n",
       "      <td>0</td>\n",
       "      <td>80.1</td>\n",
       "      <td>---</td>\n",
       "    </tr>\n",
       "    <tr>\n",
       "      <th>19</th>\n",
       "      <td>1884</td>\n",
       "      <td>8</td>\n",
       "      <td>22.6</td>\n",
       "      <td>11.8</td>\n",
       "      <td>0</td>\n",
       "      <td>36.8</td>\n",
       "      <td>---</td>\n",
       "    </tr>\n",
       "    <tr>\n",
       "      <th>20</th>\n",
       "      <td>1884</td>\n",
       "      <td>9</td>\n",
       "      <td>18.4</td>\n",
       "      <td>10.5</td>\n",
       "      <td>0</td>\n",
       "      <td>34.0</td>\n",
       "      <td>---</td>\n",
       "    </tr>\n",
       "    <tr>\n",
       "      <th>21</th>\n",
       "      <td>1884</td>\n",
       "      <td>10</td>\n",
       "      <td>12.3</td>\n",
       "      <td>6.3</td>\n",
       "      <td>0</td>\n",
       "      <td>36.5</td>\n",
       "      <td>---</td>\n",
       "    </tr>\n",
       "    <tr>\n",
       "      <th>22</th>\n",
       "      <td>1884</td>\n",
       "      <td>11</td>\n",
       "      <td>9.0</td>\n",
       "      <td>3.4</td>\n",
       "      <td>4</td>\n",
       "      <td>30.9</td>\n",
       "      <td>---</td>\n",
       "    </tr>\n",
       "    <tr>\n",
       "      <th>23</th>\n",
       "      <td>1884</td>\n",
       "      <td>12</td>\n",
       "      <td>6.6</td>\n",
       "      <td>1.7</td>\n",
       "      <td>7</td>\n",
       "      <td>81.6</td>\n",
       "      <td>---</td>\n",
       "    </tr>\n",
       "    <tr>\n",
       "      <th>24</th>\n",
       "      <td>1885</td>\n",
       "      <td>1</td>\n",
       "      <td>4.7</td>\n",
       "      <td>0.4</td>\n",
       "      <td>15</td>\n",
       "      <td>56.9</td>\n",
       "      <td>---</td>\n",
       "    </tr>\n",
       "    <tr>\n",
       "      <th>25</th>\n",
       "      <td>1885</td>\n",
       "      <td>2</td>\n",
       "      <td>8.5</td>\n",
       "      <td>2.4</td>\n",
       "      <td>5</td>\n",
       "      <td>76.4</td>\n",
       "      <td>---</td>\n",
       "    </tr>\n",
       "    <tr>\n",
       "      <th>26</th>\n",
       "      <td>1885</td>\n",
       "      <td>3</td>\n",
       "      <td>7.8</td>\n",
       "      <td>0.8</td>\n",
       "      <td>10</td>\n",
       "      <td>41.6</td>\n",
       "      <td>---</td>\n",
       "    </tr>\n",
       "    <tr>\n",
       "      <th>27</th>\n",
       "      <td>1885</td>\n",
       "      <td>4</td>\n",
       "      <td>11.6</td>\n",
       "      <td>3.4</td>\n",
       "      <td>3</td>\n",
       "      <td>49.5</td>\n",
       "      <td>---</td>\n",
       "    </tr>\n",
       "    <tr>\n",
       "      <th>28</th>\n",
       "      <td>1885</td>\n",
       "      <td>5</td>\n",
       "      <td>12.9</td>\n",
       "      <td>4.4</td>\n",
       "      <td>0</td>\n",
       "      <td>58.1</td>\n",
       "      <td>---</td>\n",
       "    </tr>\n",
       "    <tr>\n",
       "      <th>29</th>\n",
       "      <td>1885</td>\n",
       "      <td>6</td>\n",
       "      <td>18.6</td>\n",
       "      <td>9.2</td>\n",
       "      <td>0</td>\n",
       "      <td>76.4</td>\n",
       "      <td>---</td>\n",
       "    </tr>\n",
       "    <tr>\n",
       "      <th>...</th>\n",
       "      <td>...</td>\n",
       "      <td>...</td>\n",
       "      <td>...</td>\n",
       "      <td>...</td>\n",
       "      <td>...</td>\n",
       "      <td>...</td>\n",
       "      <td>...</td>\n",
       "    </tr>\n",
       "    <tr>\n",
       "      <th>1572</th>\n",
       "      <td>2014</td>\n",
       "      <td>1</td>\n",
       "      <td>7.8</td>\n",
       "      <td>3.0</td>\n",
       "      <td>4</td>\n",
       "      <td>124.2</td>\n",
       "      <td>48.9</td>\n",
       "    </tr>\n",
       "    <tr>\n",
       "      <th>1573</th>\n",
       "      <td>2014</td>\n",
       "      <td>2</td>\n",
       "      <td>8.5</td>\n",
       "      <td>3.5</td>\n",
       "      <td>1</td>\n",
       "      <td>106.2</td>\n",
       "      <td>82.4</td>\n",
       "    </tr>\n",
       "    <tr>\n",
       "      <th>1574</th>\n",
       "      <td>2014</td>\n",
       "      <td>3</td>\n",
       "      <td>11.6</td>\n",
       "      <td>4.2</td>\n",
       "      <td>2</td>\n",
       "      <td>48.6</td>\n",
       "      <td>137.2</td>\n",
       "    </tr>\n",
       "    <tr>\n",
       "      <th>1575</th>\n",
       "      <td>2014</td>\n",
       "      <td>4</td>\n",
       "      <td>14.2</td>\n",
       "      <td>6.7</td>\n",
       "      <td>0</td>\n",
       "      <td>60.4</td>\n",
       "      <td>119.3</td>\n",
       "    </tr>\n",
       "    <tr>\n",
       "      <th>1576</th>\n",
       "      <td>2014</td>\n",
       "      <td>5</td>\n",
       "      <td>16.6</td>\n",
       "      <td>8.5</td>\n",
       "      <td>0</td>\n",
       "      <td>123.8</td>\n",
       "      <td>143.9</td>\n",
       "    </tr>\n",
       "    <tr>\n",
       "      <th>1577</th>\n",
       "      <td>2014</td>\n",
       "      <td>6</td>\n",
       "      <td>19.4</td>\n",
       "      <td>11.4</td>\n",
       "      <td>0</td>\n",
       "      <td>45.4</td>\n",
       "      <td>142.0</td>\n",
       "    </tr>\n",
       "    <tr>\n",
       "      <th>1578</th>\n",
       "      <td>2014</td>\n",
       "      <td>7</td>\n",
       "      <td>23.2</td>\n",
       "      <td>13.3</td>\n",
       "      <td>0</td>\n",
       "      <td>20.0</td>\n",
       "      <td>236.6</td>\n",
       "    </tr>\n",
       "    <tr>\n",
       "      <th>1579</th>\n",
       "      <td>2014</td>\n",
       "      <td>8</td>\n",
       "      <td>19.3</td>\n",
       "      <td>11.5</td>\n",
       "      <td>0</td>\n",
       "      <td>67.4</td>\n",
       "      <td>177.3</td>\n",
       "    </tr>\n",
       "    <tr>\n",
       "      <th>1580</th>\n",
       "      <td>2014</td>\n",
       "      <td>9</td>\n",
       "      <td>18.4</td>\n",
       "      <td>10.9</td>\n",
       "      <td>0</td>\n",
       "      <td>9.6</td>\n",
       "      <td>107.4</td>\n",
       "    </tr>\n",
       "    <tr>\n",
       "      <th>1581</th>\n",
       "      <td>2014</td>\n",
       "      <td>10</td>\n",
       "      <td>14.9</td>\n",
       "      <td>9.0</td>\n",
       "      <td>0</td>\n",
       "      <td>60.8</td>\n",
       "      <td>83.6</td>\n",
       "    </tr>\n",
       "    <tr>\n",
       "      <th>1582</th>\n",
       "      <td>2014</td>\n",
       "      <td>11</td>\n",
       "      <td>10.5</td>\n",
       "      <td>6.0</td>\n",
       "      <td>0</td>\n",
       "      <td>95.8</td>\n",
       "      <td>48.0</td>\n",
       "    </tr>\n",
       "    <tr>\n",
       "      <th>1583</th>\n",
       "      <td>2014</td>\n",
       "      <td>12</td>\n",
       "      <td>7.7</td>\n",
       "      <td>3.3</td>\n",
       "      <td>3</td>\n",
       "      <td>102.0</td>\n",
       "      <td>75.8</td>\n",
       "    </tr>\n",
       "    <tr>\n",
       "      <th>1584</th>\n",
       "      <td>2015</td>\n",
       "      <td>1</td>\n",
       "      <td>6.9</td>\n",
       "      <td>2.2</td>\n",
       "      <td>8</td>\n",
       "      <td>84.2</td>\n",
       "      <td>68.1</td>\n",
       "    </tr>\n",
       "    <tr>\n",
       "      <th>1585</th>\n",
       "      <td>2015</td>\n",
       "      <td>2</td>\n",
       "      <td>6.9</td>\n",
       "      <td>2.0</td>\n",
       "      <td>5</td>\n",
       "      <td>35.4</td>\n",
       "      <td>80.8</td>\n",
       "    </tr>\n",
       "    <tr>\n",
       "      <th>1586</th>\n",
       "      <td>2015</td>\n",
       "      <td>3</td>\n",
       "      <td>9.8</td>\n",
       "      <td>3.2</td>\n",
       "      <td>1</td>\n",
       "      <td>71.4</td>\n",
       "      <td>114.8</td>\n",
       "    </tr>\n",
       "    <tr>\n",
       "      <th>1587</th>\n",
       "      <td>2015</td>\n",
       "      <td>4</td>\n",
       "      <td>14.3</td>\n",
       "      <td>5.0</td>\n",
       "      <td>0</td>\n",
       "      <td>21.4</td>\n",
       "      <td>223.5</td>\n",
       "    </tr>\n",
       "    <tr>\n",
       "      <th>1588</th>\n",
       "      <td>2015</td>\n",
       "      <td>5</td>\n",
       "      <td>14.8</td>\n",
       "      <td>7.7</td>\n",
       "      <td>0</td>\n",
       "      <td>83.6</td>\n",
       "      <td>164.4</td>\n",
       "    </tr>\n",
       "    <tr>\n",
       "      <th>1589</th>\n",
       "      <td>2015</td>\n",
       "      <td>6</td>\n",
       "      <td>19.1</td>\n",
       "      <td>10.0</td>\n",
       "      <td>0</td>\n",
       "      <td>43.2</td>\n",
       "      <td>195.9</td>\n",
       "    </tr>\n",
       "    <tr>\n",
       "      <th>1590</th>\n",
       "      <td>2015</td>\n",
       "      <td>7</td>\n",
       "      <td>20.8</td>\n",
       "      <td>12.0</td>\n",
       "      <td>0</td>\n",
       "      <td>30.0</td>\n",
       "      <td>187.8</td>\n",
       "    </tr>\n",
       "    <tr>\n",
       "      <th>1591</th>\n",
       "      <td>2015</td>\n",
       "      <td>8</td>\n",
       "      <td>20.6</td>\n",
       "      <td>12.5</td>\n",
       "      <td>0</td>\n",
       "      <td>66.2</td>\n",
       "      <td>146.3</td>\n",
       "    </tr>\n",
       "    <tr>\n",
       "      <th>1592</th>\n",
       "      <td>2015</td>\n",
       "      <td>9</td>\n",
       "      <td>16.9</td>\n",
       "      <td>8.7</td>\n",
       "      <td>0</td>\n",
       "      <td>29.2</td>\n",
       "      <td>141.1</td>\n",
       "    </tr>\n",
       "    <tr>\n",
       "      <th>1593</th>\n",
       "      <td>2015</td>\n",
       "      <td>10</td>\n",
       "      <td>13.9</td>\n",
       "      <td>7.7</td>\n",
       "      <td>0</td>\n",
       "      <td>80.4</td>\n",
       "      <td>81.3</td>\n",
       "    </tr>\n",
       "    <tr>\n",
       "      <th>1594</th>\n",
       "      <td>2015</td>\n",
       "      <td>11</td>\n",
       "      <td>12.2</td>\n",
       "      <td>6.5</td>\n",
       "      <td>1</td>\n",
       "      <td>126.8</td>\n",
       "      <td>51.7</td>\n",
       "    </tr>\n",
       "    <tr>\n",
       "      <th>1595</th>\n",
       "      <td>2015</td>\n",
       "      <td>12</td>\n",
       "      <td>12.0</td>\n",
       "      <td>6.2</td>\n",
       "      <td>0</td>\n",
       "      <td>121.2</td>\n",
       "      <td>33.1</td>\n",
       "    </tr>\n",
       "    <tr>\n",
       "      <th>1596</th>\n",
       "      <td>2016</td>\n",
       "      <td>1</td>\n",
       "      <td>7.7</td>\n",
       "      <td>3.0</td>\n",
       "      <td>3</td>\n",
       "      <td>111.5</td>\n",
       "      <td>40.3</td>\n",
       "    </tr>\n",
       "    <tr>\n",
       "      <th>1597</th>\n",
       "      <td>2016</td>\n",
       "      <td>2</td>\n",
       "      <td>7.8</td>\n",
       "      <td>2.0</td>\n",
       "      <td>5</td>\n",
       "      <td>68.6</td>\n",
       "      <td>96.1</td>\n",
       "    </tr>\n",
       "    <tr>\n",
       "      <th>1598</th>\n",
       "      <td>2016</td>\n",
       "      <td>3</td>\n",
       "      <td>9.1</td>\n",
       "      <td>2.9</td>\n",
       "      <td>2</td>\n",
       "      <td>87.2</td>\n",
       "      <td>98.6</td>\n",
       "    </tr>\n",
       "    <tr>\n",
       "      <th>1599</th>\n",
       "      <td>2016</td>\n",
       "      <td>4</td>\n",
       "      <td>11.6</td>\n",
       "      <td>3.8</td>\n",
       "      <td>1</td>\n",
       "      <td>65.8</td>\n",
       "      <td>154.9</td>\n",
       "    </tr>\n",
       "    <tr>\n",
       "      <th>1600</th>\n",
       "      <td>2016</td>\n",
       "      <td>5</td>\n",
       "      <td>16.9</td>\n",
       "      <td>7.9</td>\n",
       "      <td>0</td>\n",
       "      <td>58.2</td>\n",
       "      <td>164.5</td>\n",
       "    </tr>\n",
       "    <tr>\n",
       "      <th>1601</th>\n",
       "      <td>2016</td>\n",
       "      <td>6</td>\n",
       "      <td>18.8</td>\n",
       "      <td>11.1</td>\n",
       "      <td>0</td>\n",
       "      <td>130.4</td>\n",
       "      <td>106.5</td>\n",
       "    </tr>\n",
       "  </tbody>\n",
       "</table>\n",
       "<p>1602 rows × 7 columns</p>\n",
       "</div>"
      ],
      "text/plain": [
       "      yyyy  mm  tmax  tmin  af   rain    sun\n",
       "0     1883   1   6.3   1.7   6  122.1    ---\n",
       "1     1883   2   8.0   2.8   2   69.8    ---\n",
       "2     1883   3   4.8  -1.6  23   29.6    ---\n",
       "3     1883   4  12.2   3.8   2   74.0    ---\n",
       "4     1883   5  14.7   6.2   0   31.2    ---\n",
       "5     1883   6  17.7   9.3   0   66.2    ---\n",
       "6     1883   7  18.8  10.5   0   77.6    ---\n",
       "7     1883   8  19.8  10.9   0   32.5    ---\n",
       "8     1883   9  16.8  10.0   0  137.4    ---\n",
       "9     1883  10  12.7   6.4   0  102.9    ---\n",
       "10    1883  11   8.6   3.5   1   83.6    ---\n",
       "11    1883  12   7.3   2.4   4   48.6    ---\n",
       "12    1884   1   8.4   3.5   3  127.7    ---\n",
       "13    1884   2   8.0   2.1   3   49.4    ---\n",
       "14    1884   3   9.5   2.5   4   50.4    ---\n",
       "15    1884   4  10.6   3.3   4   48.0    ---\n",
       "16    1884   5  15.7   6.4   0   33.1    ---\n",
       "17    1884   6  18.2   8.7   0   39.7    ---\n",
       "18    1884   7  20.8  11.8   0   80.1    ---\n",
       "19    1884   8  22.6  11.8   0   36.8    ---\n",
       "20    1884   9  18.4  10.5   0   34.0    ---\n",
       "21    1884  10  12.3   6.3   0   36.5    ---\n",
       "22    1884  11   9.0   3.4   4   30.9    ---\n",
       "23    1884  12   6.6   1.7   7   81.6    ---\n",
       "24    1885   1   4.7   0.4  15   56.9    ---\n",
       "25    1885   2   8.5   2.4   5   76.4    ---\n",
       "26    1885   3   7.8   0.8  10   41.6    ---\n",
       "27    1885   4  11.6   3.4   3   49.5    ---\n",
       "28    1885   5  12.9   4.4   0   58.1    ---\n",
       "29    1885   6  18.6   9.2   0   76.4    ---\n",
       "...    ...  ..   ...   ...  ..    ...    ...\n",
       "1572  2014   1   7.8   3.0   4  124.2   48.9\n",
       "1573  2014   2   8.5   3.5   1  106.2   82.4\n",
       "1574  2014   3  11.6   4.2   2   48.6  137.2\n",
       "1575  2014   4  14.2   6.7   0   60.4  119.3\n",
       "1576  2014   5  16.6   8.5   0  123.8  143.9\n",
       "1577  2014   6  19.4  11.4   0   45.4  142.0\n",
       "1578  2014   7  23.2  13.3   0   20.0  236.6\n",
       "1579  2014   8  19.3  11.5   0   67.4  177.3\n",
       "1580  2014   9  18.4  10.9   0    9.6  107.4\n",
       "1581  2014  10  14.9   9.0   0   60.8   83.6\n",
       "1582  2014  11  10.5   6.0   0   95.8   48.0\n",
       "1583  2014  12   7.7   3.3   3  102.0   75.8\n",
       "1584  2015   1   6.9   2.2   8   84.2   68.1\n",
       "1585  2015   2   6.9   2.0   5   35.4   80.8\n",
       "1586  2015   3   9.8   3.2   1   71.4  114.8\n",
       "1587  2015   4  14.3   5.0   0   21.4  223.5\n",
       "1588  2015   5  14.8   7.7   0   83.6  164.4\n",
       "1589  2015   6  19.1  10.0   0   43.2  195.9\n",
       "1590  2015   7  20.8  12.0   0   30.0  187.8\n",
       "1591  2015   8  20.6  12.5   0   66.2  146.3\n",
       "1592  2015   9  16.9   8.7   0   29.2  141.1\n",
       "1593  2015  10  13.9   7.7   0   80.4   81.3\n",
       "1594  2015  11  12.2   6.5   1  126.8   51.7\n",
       "1595  2015  12  12.0   6.2   0  121.2   33.1\n",
       "1596  2016   1   7.7   3.0   3  111.5   40.3\n",
       "1597  2016   2   7.8   2.0   5   68.6   96.1\n",
       "1598  2016   3   9.1   2.9   2   87.2   98.6\n",
       "1599  2016   4  11.6   3.8   1   65.8  154.9\n",
       "1600  2016   5  16.9   7.9   0   58.2  164.5\n",
       "1601  2016   6  18.8  11.1   0  130.4  106.5\n",
       "\n",
       "[1602 rows x 7 columns]"
      ]
     },
     "execution_count": 6,
     "metadata": {},
     "output_type": "execute_result"
    }
   ],
   "source": [
    "sheffield = pd.read_csv('sheffield_weather_station.csv', sep = '\\s+', skiprows=8)\n",
    "sheffield"
   ]
  },
  {
   "cell_type": "code",
   "execution_count": 23,
   "metadata": {},
   "outputs": [
    {
     "data": {
      "text/plain": [
       "(array([ 875.5,  648.2,  788.1,  940.3,  491.1,  743.5,  730.1,  686.5,\n",
       "         878.8,  865.6,  654.9,  831.5,  798.1,  681.8,  743.8,  689.1,\n",
       "         752.1,  837.2,  710.6,  749.2,  967.1,  701.2,  619. ,  747.6,\n",
       "         803.4,  645.6,  804.1,  787.4,  646.8,  997.1,  774. ,  734.5,\n",
       "         835. ,  840.7,  659.6,  828.3,  909.7,  856.9,  578.3,  904.2,\n",
       "         883.9,  740.1,  773.9,  741.4,  866.8,  871.1,  712.5,  919.2,\n",
       "         927.9,  809.4,  633.8,  626.8,  871.3,  774.3,  898.8,  789.6,\n",
       "         936.3,  765.4,  882.1,  681.1,  661.3,  847.9,  683.9,  985.7,\n",
       "         771.1,  736.6,  713.2,  774.5,  937.7,  694.5,  598.2,  983.8,\n",
       "         700.2,  901.3,  733.5,  964.4,  609.3, 1035.2,  718. ,  688.6,\n",
       "         736.8,  643.3, 1038.5,  969. ,  802.7,  876.6,  944.7,  786.6,\n",
       "         770.4,  808.6,  761.3,  774.2,  559.3,  674.2,  883.6,  823.9,\n",
       "         960.4,  877.8,  940.6,  831.8,  906.2,  866.5,  674.1,  998.1,\n",
       "         789.3,  915. ,  737.1,  763. ,  666.7,  824.5,  913.8,  905.1,\n",
       "         667.8,  747.4,  784.7,  925.4,  880.2, 1086.9,  764.4, 1050.1,\n",
       "         595.2,  855.2,  726.9,  785.2,  948.8,  970.6,  896. ,  618.4,\n",
       "         572.4, 1146.4,  728.2,  864.2,  793. ,  521.7]), 134)"
      ]
     },
     "execution_count": 23,
     "metadata": {},
     "output_type": "execute_result"
    }
   ],
   "source": [
    "rainfall = np.array(sheffield.groupby('yyyy').sum()['rain'])\n",
    "rainfall, len(rainfall)"
   ]
  },
  {
   "cell_type": "code",
   "execution_count": 8,
   "metadata": {},
   "outputs": [],
   "source": [
    "def ecdf(data):\n",
    "    \"\"\"Compute ECDF for a one-dimensional array of measurements.\"\"\"\n",
    "    # Number of data points: n\n",
    "    n = len(data)\n",
    "    # x-data for the ECDF: x\n",
    "    x = np.sort(data)\n",
    "    # y-data for the ECDF: y\n",
    "    y = np.arange(1, n+1) / n\n",
    "    return x, y"
   ]
  },
  {
   "cell_type": "code",
   "execution_count": 9,
   "metadata": {},
   "outputs": [
    {
     "data": {
      "image/png": "[encoded data removed]",
      "text/plain": [
       "<Figure size 792x576 with 1 Axes>"
      ]
     },
     "metadata": {},
     "output_type": "display_data"
    }
   ],
   "source": [
    "for _ in range(50):\n",
    "    bs_sample = np.random.choice(rainfall, size=len(rainfall))\n",
    "    x, y = ecdf(bs_sample)\n",
    "    _ = plt.plot(x, y, marker='.', linestyle='none', color='grey', alpha=0.1)\n",
    "x, y = ecdf(rainfall)\n",
    "_ = plt.plot(x, y, marker='.')\n",
    "_ = plt.xlabel('yearly rainfall (mm)')\n",
    "_ = plt.ylabel('ECDF')"
   ]
  },
  {
   "cell_type": "markdown",
   "metadata": {},
   "source": [
    "### Bootstrap replicate function "
   ]
  },
  {
   "cell_type": "code",
   "execution_count": 11,
   "metadata": {},
   "outputs": [],
   "source": [
    "def bootstrap_replicate_1d(data, func):\n",
    "    '''Generate bootstrap replicate of 1D data.'''\n",
    "    bs_sample = np.random.choice(data, len(data))\n",
    "    return func(bs_sample)"
   ]
  },
  {
   "cell_type": "code",
   "execution_count": 12,
   "metadata": {},
   "outputs": [
    {
     "data": {
      "text/plain": [
       "299863.1"
      ]
     },
     "execution_count": 12,
     "metadata": {},
     "output_type": "execute_result"
    }
   ],
   "source": [
    "bootstrap_replicate_1d(michelson_speed_of_light, np.mean)"
   ]
  },
  {
   "cell_type": "code",
   "execution_count": 13,
   "metadata": {},
   "outputs": [
    {
     "data": {
      "text/plain": [
       "299865.2"
      ]
     },
     "execution_count": 13,
     "metadata": {},
     "output_type": "execute_result"
    }
   ],
   "source": [
    "bootstrap_replicate_1d(michelson_speed_of_light, np.mean)"
   ]
  },
  {
   "cell_type": "code",
   "execution_count": 14,
   "metadata": {},
   "outputs": [
    {
     "data": {
      "text/plain": [
       "299836.7"
      ]
     },
     "execution_count": 14,
     "metadata": {},
     "output_type": "execute_result"
    }
   ],
   "source": [
    "bootstrap_replicate_1d(michelson_speed_of_light, np.mean)"
   ]
  },
  {
   "cell_type": "code",
   "execution_count": 16,
   "metadata": {},
   "outputs": [],
   "source": [
    "bs_replicates = np.empty(10000)\n",
    "for i in range(10000):\n",
    "    bs_replicates[i]=bootstrap_replicate_1d(\n",
    "                    michelson_speed_of_light, np.mean)"
   ]
  },
  {
   "cell_type": "code",
   "execution_count": 17,
   "metadata": {},
   "outputs": [
    {
     "data": {
      "text/plain": [
       "array([299862.1, 299863.9, 299868.1, ..., 299835.4, 299862.7, 299859.2])"
      ]
     },
     "execution_count": 17,
     "metadata": {},
     "output_type": "execute_result"
    }
   ],
   "source": [
    "bs_replicates"
   ]
  },
  {
   "cell_type": "markdown",
   "metadata": {},
   "source": [
    "### Bootstrap estimate of the mean "
   ]
  },
  {
   "cell_type": "code",
   "execution_count": 19,
   "metadata": {},
   "outputs": [
    {
     "data": {
      "image/png": "[encoded data removed]",
      "text/plain": [
       "<Figure size 792x576 with 1 Axes>"
      ]
     },
     "metadata": {},
     "output_type": "display_data"
    }
   ],
   "source": [
    "_ = plt.hist(bs_replicates, bins=30, normed=True)\n",
    "_ = plt.xlabel('mean speed of light (km/s)')\n",
    "_ = plt.ylabel('PDF')"
   ]
  },
  {
   "cell_type": "markdown",
   "metadata": {},
   "source": [
    "### Confidence interval of a statistic \n",
    "- If we repeated measurements over and over again, *p%* of the observed values would lie within the *p%* confidence interval."
   ]
  },
  {
   "cell_type": "markdown",
   "metadata": {},
   "source": [
    "### Bootstrap confidence interval"
   ]
  },
  {
   "cell_type": "code",
   "execution_count": 21,
   "metadata": {},
   "outputs": [
    {
     "data": {
      "text/plain": [
       "array([299837.2, 299867.6])"
      ]
     },
     "execution_count": 21,
     "metadata": {},
     "output_type": "execute_result"
    }
   ],
   "source": [
    "conf_int = np.percentile(bs_replicates, [2.5, 97.5])\n",
    "conf_int"
   ]
  },
  {
   "cell_type": "code",
   "execution_count": 22,
   "metadata": {},
   "outputs": [],
   "source": [
    "def draw_bs_reps(data, func, size=1):\n",
    "    '''Draw bootstrap replicates'''\n",
    "    bs_replicates = np.empty(size)\n",
    "    \n",
    "    for i in range(size):\n",
    "        bs_replicates[i] = bootstrap_replicate_1d(data, func)\n",
    "        \n",
    "    return bs_replicates"
   ]
  },
  {
   "cell_type": "markdown",
   "metadata": {},
   "source": [
    "#### Bootstrap replicates of the mean and the SEM"
   ]
  },
  {
   "cell_type": "code",
   "execution_count": 30,
   "metadata": {},
   "outputs": [
    {
     "data": {
      "text/plain": [
       "132"
      ]
     },
     "execution_count": 30,
     "metadata": {},
     "output_type": "execute_result"
    }
   ],
   "source": [
    "rainfall = rainfall[:-1]\n",
    "len(rainfall)"
   ]
  },
  {
   "cell_type": "code",
   "execution_count": 31,
   "metadata": {},
   "outputs": [
    {
     "data": {
      "text/plain": [
       "array([796.20833333, 802.17045455, 796.44318182, ..., 802.7719697 ,\n",
       "       794.95075758, 811.06742424])"
      ]
     },
     "execution_count": 31,
     "metadata": {},
     "output_type": "execute_result"
    }
   ],
   "source": [
    "bs_replicates = draw_bs_reps(rainfall, np.mean, 10000)\n",
    "bs_replicates"
   ]
  },
  {
   "cell_type": "code",
   "execution_count": 32,
   "metadata": {},
   "outputs": [
    {
     "data": {
      "text/plain": [
       "10.590037212325742"
      ]
     },
     "execution_count": 32,
     "metadata": {},
     "output_type": "execute_result"
    }
   ],
   "source": [
    "sem = np.std(rainfall) / np.sqrt(len(rainfall))\n",
    "sem"
   ]
  },
  {
   "cell_type": "code",
   "execution_count": 33,
   "metadata": {},
   "outputs": [
    {
     "data": {
      "text/plain": [
       "10.495405737053266"
      ]
     },
     "execution_count": 33,
     "metadata": {},
     "output_type": "execute_result"
    }
   ],
   "source": [
    "bs_std = np.std(bs_replicates)\n",
    "bs_std"
   ]
  },
  {
   "cell_type": "code",
   "execution_count": 34,
   "metadata": {},
   "outputs": [
    {
     "data": {
      "image/png": "[encoded data removed]",
      "text/plain": [
       "<Figure size 792x576 with 1 Axes>"
      ]
     },
     "metadata": {},
     "output_type": "display_data"
    }
   ],
   "source": [
    "_ = plt.hist(bs_replicates, bins=50, normed=True)\n",
    "_ = plt.xlabel('mean annual rainfall(mm)')\n",
    "_ = plt.ylabel('PDF')"
   ]
  },
  {
   "cell_type": "code",
   "execution_count": 36,
   "metadata": {},
   "outputs": [
    {
     "data": {
      "text/plain": [
       "array([779.08935606, 820.55329545])"
      ]
     },
     "execution_count": 36,
     "metadata": {},
     "output_type": "execute_result"
    }
   ],
   "source": [
    "conf_int = np.percentile(bs_replicates, [2.5, 97.5])\n",
    "conf_int"
   ]
  },
  {
   "cell_type": "code",
   "execution_count": 37,
   "metadata": {},
   "outputs": [],
   "source": [
    "bs_replicates = draw_bs_reps(rainfall, np.var, 10000)\n",
    "bs_replicates = bs_replicates/100"
   ]
  },
  {
   "cell_type": "code",
   "execution_count": 38,
   "metadata": {},
   "outputs": [
    {
     "data": {
      "image/png": "[encoded data removed]",
      "text/plain": [
       "<Figure size 792x576 with 1 Axes>"
      ]
     },
     "metadata": {},
     "output_type": "display_data"
    }
   ],
   "source": [
    "_ = plt.hist(bs_replicates, bins=50, normed=True)\n",
    "_ = plt.xlabel('variance of annual rainfall (sq. cm)')\n",
    "_ = plt.ylabel('PDF')"
   ]
  },
  {
   "cell_type": "code",
   "execution_count": 39,
   "metadata": {},
   "outputs": [
    {
     "data": {
      "text/plain": [
       "array([ 843, 1613, 1101,  215,  684,  814,  278,  324,  161,  219,  545,\n",
       "        715,  966,  624,   29,  450,  107,   20,   91, 1325,  124, 1468,\n",
       "        104, 1309,  429,   62, 1878, 1104,  123,  251,   93,  188,  983,\n",
       "        166,   96,  702,   23,  524,   26,  299,   59,   39,   12,    2,\n",
       "        308, 1114,  813,  887,  645, 2088,   42, 2090,   11,  886, 1665,\n",
       "       1084, 2900, 2432,  750, 4021, 1070, 1765, 1322,   26,  548, 1525,\n",
       "         77, 2181, 2752,  127, 2147,  211,   41, 1575,  151,  479,  697,\n",
       "        557, 2267,  542,  392,   73,  603,  233,  255,  528,  397, 1529,\n",
       "       1023, 1194,  462,  583,   37,  943,  996,  480, 1497,  717,  224,\n",
       "        219, 1531,  498,   44,  288,  267,  600,   52,  269, 1086,  386,\n",
       "        176, 2199,  216,   54,  675, 1243,  463,  650,  171,  327,  110,\n",
       "        774,  509,    8,  197,  136,   12, 1124,   64,  380,  811,  232,\n",
       "        192,  731,  715,  226,  605,  539, 1491,  323,  240,  179,  702,\n",
       "        156,   82, 1397,  354,  778,  603, 1001,  385,  986,  203,  149,\n",
       "        576,  445,  180, 1403,  252,  675, 1351, 2983, 1568,   45,  899,\n",
       "       3260, 1025,   31,  100, 2055, 4043,   79,  238, 3931, 2351,  595,\n",
       "        110,  215,    0,  563,  206,  660,  242,  577,  179,  157,  192,\n",
       "        192, 1848,  792, 1693,   55,  388,  225, 1134, 1172, 1555,   31,\n",
       "       1582, 1044,  378, 1687, 2915,  280,  765, 2819,  511, 1521,  745,\n",
       "       2491,  580, 2072, 6450,  578,  745, 1075, 1103, 1549, 1520,  138,\n",
       "       1202,  296,  277,  351,  391,  950,  459,   62, 1056, 1128,  139,\n",
       "        420,   87,   71,  814,  603, 1349,  162, 1027,  783,  326,  101,\n",
       "        876,  381,  905,  156,  419,  239,  119,  129,  467])"
      ]
     },
     "execution_count": 39,
     "metadata": {},
     "output_type": "execute_result"
    }
   ],
   "source": [
    "no_hitter = pd.read_csv('mlb_nohitters.csv', index_col='date', parse_dates=True)\n",
    "modern_era = no_hitter.loc['1900-07-12':]\n",
    "nohitter_times = modern_era['game_number'].diff() - 1\n",
    "nohitter_times = np.array(nohitter_times[1:].values).astype(int)\n",
    "nohitter_times"
   ]
  },
  {
   "cell_type": "code",
   "execution_count": 40,
   "metadata": {},
   "outputs": [
    {
     "name": "stdout",
     "output_type": "stream",
     "text": [
      "95% confidence interval = [661.00258964 871.41424303] games\n"
     ]
    }
   ],
   "source": [
    "bs_replicates = draw_bs_reps(nohitter_times, np.mean, 10000)\n",
    "conf_int = np.percentile(bs_replicates, [2.5, 97.5])\n",
    "print('95% confidence interval =', conf_int, 'games')"
   ]
  },
  {
   "cell_type": "code",
   "execution_count": 41,
   "metadata": {},
   "outputs": [
    {
     "data": {
      "image/png": "[encoded data removed]",
      "text/plain": [
       "<Figure size 792x576 with 1 Axes>"
      ]
     },
     "metadata": {},
     "output_type": "display_data"
    }
   ],
   "source": [
    "_ = plt.hist(bs_replicates, bins=50, normed=True)\n",
    "_ = plt.xlabel(r'$\\tau$ (games)')\n",
    "_ = plt.ylabel('PDF')"
   ]
  },
  {
   "cell_type": "markdown",
   "metadata": {},
   "source": [
    "### Nonparametric inference\n",
    "- Make no assumptions about the model of probability distribution underlying the data"
   ]
  },
  {
   "cell_type": "markdown",
   "metadata": {},
   "source": [
    "### Pairs bootstrap for linear regresssion \n",
    "- Resample data in pairs\n",
    "- Compute slope and intercept from resampled data\n",
    "- Each slope and intercept is a bootstrap replicate\n",
    "- Compute confidence intervals from percentiles fo bootstrap replicates "
   ]
  },
  {
   "cell_type": "code",
   "execution_count": 43,
   "metadata": {},
   "outputs": [
    {
     "data": {
      "text/plain": [
       "array([0, 1, 2, 3, 4, 5, 6])"
      ]
     },
     "execution_count": 43,
     "metadata": {},
     "output_type": "execute_result"
    }
   ],
   "source": [
    "np.arange(7)"
   ]
  },
  {
   "cell_type": "code",
   "execution_count": 44,
   "metadata": {},
   "outputs": [],
   "source": [
    "swing = pd.read_csv('2008_swing_states.csv')\n",
    "dem_share = swing['dem_share']\n",
    "total_votes = swing['total_votes']"
   ]
  },
  {
   "cell_type": "code",
   "execution_count": 45,
   "metadata": {},
   "outputs": [
    {
     "data": {
      "text/plain": [
       "array([103, 146, 195,   6, 192,  31,  31, 203, 125,  73,  58, 111,  56,\n",
       "         1,  27, 214,   5,  22,  69, 197, 220, 147,  76, 208,  93,   2,\n",
       "        94, 172, 146, 185,  74,  14, 129,  91,  50,   5,  94, 195, 122,\n",
       "       167, 206,  56,  94,  28, 107,  22, 218, 102, 164, 104,  28,  20,\n",
       "        98,  14,  54, 193, 124, 200, 196, 172, 184, 218,  36,  72,  19,\n",
       "       179, 127, 215, 100,  46,  53,  56, 174,  38,  25,  12,  64,  90,\n",
       "       221, 122, 147,  18, 106,   2,   4, 110,  66,  58,  93,  13, 102,\n",
       "       206,  63, 150,  98, 210,  68, 152,  84,  77,   5,  99,  87,   5,\n",
       "        74,  97,  82, 148, 184,  22,  12, 147,  16,  16, 160, 208,  53,\n",
       "        32, 156,  97, 135, 218,  70, 213, 195,  16,  23,  66, 210, 107,\n",
       "        36, 104, 139,  34,   2, 221,  25, 100, 173, 219,  80,  52, 105,\n",
       "       186,  69,  82, 174,  28,  25, 120,  76, 148, 149,   2,  99, 115,\n",
       "       159, 216, 141,  11, 147,  48,  36, 162, 152, 129, 221, 209, 100,\n",
       "       210, 165, 150,   2,   5,  10, 105,  11,  87, 122,   0, 183, 115,\n",
       "       184,  17,  77,  99,  21,  53,  99,  26, 105, 217,   9, 120, 108,\n",
       "        36, 121, 149,  50, 147, 138, 123, 141,  31,  52, 214,  69,  15,\n",
       "       210,  22,  10, 130,  73,  14,  12, 207, 205, 177, 157,   4,  54,\n",
       "       136])"
      ]
     },
     "execution_count": 45,
     "metadata": {},
     "output_type": "execute_result"
    }
   ],
   "source": [
    "inds = np.arange(len(total_votes))\n",
    "bs_inds = np.random.choice(inds, len(inds))\n",
    "bs_inds"
   ]
  },
  {
   "cell_type": "code",
   "execution_count": 46,
   "metadata": {},
   "outputs": [],
   "source": [
    "bs_total_votes = total_votes[bs_inds]\n",
    "bs_dem_share = dem_share[bs_inds]"
   ]
  },
  {
   "cell_type": "code",
   "execution_count": 47,
   "metadata": {},
   "outputs": [
    {
     "data": {
      "text/plain": [
       "(3.8905641219067956e-05, 39.559608040179135)"
      ]
     },
     "execution_count": 47,
     "metadata": {},
     "output_type": "execute_result"
    }
   ],
   "source": [
    "bs_slope, bs_intercept = np.polyfit(bs_total_votes, \n",
    "                                    bs_dem_share, 1)\n",
    "bs_slope, bs_intercept"
   ]
  },
  {
   "cell_type": "code",
   "execution_count": 48,
   "metadata": {},
   "outputs": [
    {
     "data": {
      "text/plain": [
       "array([4.0370717e-05, 4.0113912e+01])"
      ]
     },
     "execution_count": 48,
     "metadata": {},
     "output_type": "execute_result"
    }
   ],
   "source": [
    "np.polyfit(total_votes, dem_share, 1)"
   ]
  },
  {
   "cell_type": "markdown",
   "metadata": {},
   "source": [
    "#### A function to do pairs bootstrap"
   ]
  },
  {
   "cell_type": "code",
   "execution_count": 51,
   "metadata": {},
   "outputs": [],
   "source": [
    "def draw_bs_pairs_linreg(x, y, size=1):\n",
    "    \"\"\"Perform pairs bootstrap for linear regression.\"\"\"\n",
    "    inds = np.arange(len(x))\n",
    "    bs_slope_reps = np.empty(size)\n",
    "    bs_intercept_reps = np.empty(size)\n",
    "    \n",
    "    for i in range(size):\n",
    "        bs_inds = np.random.choice(inds, size=len(inds))\n",
    "        bs_x, bs_y = x[bs_inds], y[bs_inds]\n",
    "        bs_slope_reps[i], bs_intercept_reps[i] = np.polyfit(bs_x, bs_y, 1)\n",
    "\n",
    "    return bs_slope_reps, bs_intercept_reps"
   ]
  },
  {
   "cell_type": "code",
   "execution_count": 54,
   "metadata": {},
   "outputs": [],
   "source": [
    "female_fert_ill = pd.read_csv('female_literacy_fertility.csv')\n",
    "fertility = np.array(female_fert_ill['fertility'])\n",
    "illiteracy = np.array(100-female_fert_ill['female literacy'])"
   ]
  },
  {
   "cell_type": "code",
   "execution_count": null,
   "metadata": {},
   "outputs": [],
   "source": []
  }
 ],
 "metadata": {
  "kernelspec": {
   "display_name": "Python 3",
   "language": "python",
   "name": "python3"
  },
  "language_info": {
   "codemirror_mode": {
    "name": "ipython",
    "version": 3
   },
   "file_extension": ".py",
   "mimetype": "text/x-python",
   "name": "python",
   "nbconvert_exporter": "python",
   "pygments_lexer": "ipython3",
   "version": "3.6.5"
  }
 },
 "nbformat": 4,
 "nbformat_minor": 2
}
