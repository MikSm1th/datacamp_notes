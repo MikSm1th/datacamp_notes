{
 "cells": [
  {
   "cell_type": "code",
   "execution_count": 32,
   "metadata": {},
   "outputs": [
    {
     "data": {
      "text/html": [
       "<div>\n",
       "<style scoped>\n",
       "    .dataframe tbody tr th:only-of-type {\n",
       "        vertical-align: middle;\n",
       "    }\n",
       "\n",
       "    .dataframe tbody tr th {\n",
       "        vertical-align: top;\n",
       "    }\n",
       "\n",
       "    .dataframe thead th {\n",
       "        text-align: right;\n",
       "    }\n",
       "</style>\n",
       "<table border=\"1\" class=\"dataframe\">\n",
       "  <thead>\n",
       "    <tr style=\"text-align: right;\">\n",
       "      <th></th>\n",
       "      <th>target</th>\n",
       "      <th>0</th>\n",
       "      <th>1</th>\n",
       "      <th>2</th>\n",
       "      <th>3</th>\n",
       "      <th>4</th>\n",
       "      <th>5</th>\n",
       "      <th>6</th>\n",
       "      <th>7</th>\n",
       "      <th>8</th>\n",
       "      <th>...</th>\n",
       "      <th>290</th>\n",
       "      <th>291</th>\n",
       "      <th>292</th>\n",
       "      <th>293</th>\n",
       "      <th>294</th>\n",
       "      <th>295</th>\n",
       "      <th>296</th>\n",
       "      <th>297</th>\n",
       "      <th>298</th>\n",
       "      <th>299</th>\n",
       "    </tr>\n",
       "    <tr>\n",
       "      <th>id</th>\n",
       "      <th></th>\n",
       "      <th></th>\n",
       "      <th></th>\n",
       "      <th></th>\n",
       "      <th></th>\n",
       "      <th></th>\n",
       "      <th></th>\n",
       "      <th></th>\n",
       "      <th></th>\n",
       "      <th></th>\n",
       "      <th></th>\n",
       "      <th></th>\n",
       "      <th></th>\n",
       "      <th></th>\n",
       "      <th></th>\n",
       "      <th></th>\n",
       "      <th></th>\n",
       "      <th></th>\n",
       "      <th></th>\n",
       "      <th></th>\n",
       "      <th></th>\n",
       "    </tr>\n",
       "  </thead>\n",
       "  <tbody>\n",
       "    <tr>\n",
       "      <th>245</th>\n",
       "      <td>0.0</td>\n",
       "      <td>-1.199</td>\n",
       "      <td>0.466</td>\n",
       "      <td>-0.908</td>\n",
       "      <td>2.771</td>\n",
       "      <td>1.631</td>\n",
       "      <td>0.931</td>\n",
       "      <td>0.182</td>\n",
       "      <td>-0.652</td>\n",
       "      <td>-0.512</td>\n",
       "      <td>...</td>\n",
       "      <td>0.724</td>\n",
       "      <td>0.177</td>\n",
       "      <td>-0.039</td>\n",
       "      <td>0.759</td>\n",
       "      <td>0.461</td>\n",
       "      <td>-0.243</td>\n",
       "      <td>0.525</td>\n",
       "      <td>0.281</td>\n",
       "      <td>-0.255</td>\n",
       "      <td>-1.136</td>\n",
       "    </tr>\n",
       "    <tr>\n",
       "      <th>246</th>\n",
       "      <td>0.0</td>\n",
       "      <td>0.237</td>\n",
       "      <td>0.233</td>\n",
       "      <td>-0.380</td>\n",
       "      <td>-1.748</td>\n",
       "      <td>0.839</td>\n",
       "      <td>-0.721</td>\n",
       "      <td>-0.114</td>\n",
       "      <td>0.005</td>\n",
       "      <td>-1.788</td>\n",
       "      <td>...</td>\n",
       "      <td>0.857</td>\n",
       "      <td>0.147</td>\n",
       "      <td>0.601</td>\n",
       "      <td>-0.210</td>\n",
       "      <td>-0.768</td>\n",
       "      <td>1.004</td>\n",
       "      <td>-0.979</td>\n",
       "      <td>0.007</td>\n",
       "      <td>0.112</td>\n",
       "      <td>-0.558</td>\n",
       "    </tr>\n",
       "    <tr>\n",
       "      <th>247</th>\n",
       "      <td>0.0</td>\n",
       "      <td>1.411</td>\n",
       "      <td>-1.465</td>\n",
       "      <td>0.119</td>\n",
       "      <td>0.583</td>\n",
       "      <td>1.634</td>\n",
       "      <td>-0.207</td>\n",
       "      <td>1.173</td>\n",
       "      <td>1.622</td>\n",
       "      <td>-0.071</td>\n",
       "      <td>...</td>\n",
       "      <td>-0.499</td>\n",
       "      <td>-0.455</td>\n",
       "      <td>0.759</td>\n",
       "      <td>0.222</td>\n",
       "      <td>0.105</td>\n",
       "      <td>-0.727</td>\n",
       "      <td>0.461</td>\n",
       "      <td>0.760</td>\n",
       "      <td>0.168</td>\n",
       "      <td>-0.719</td>\n",
       "    </tr>\n",
       "    <tr>\n",
       "      <th>248</th>\n",
       "      <td>1.0</td>\n",
       "      <td>0.620</td>\n",
       "      <td>1.040</td>\n",
       "      <td>0.184</td>\n",
       "      <td>-0.570</td>\n",
       "      <td>-0.087</td>\n",
       "      <td>-0.748</td>\n",
       "      <td>-1.559</td>\n",
       "      <td>-0.553</td>\n",
       "      <td>0.552</td>\n",
       "      <td>...</td>\n",
       "      <td>0.557</td>\n",
       "      <td>-1.494</td>\n",
       "      <td>0.977</td>\n",
       "      <td>0.882</td>\n",
       "      <td>-1.512</td>\n",
       "      <td>0.478</td>\n",
       "      <td>-0.910</td>\n",
       "      <td>-0.805</td>\n",
       "      <td>2.029</td>\n",
       "      <td>-0.423</td>\n",
       "    </tr>\n",
       "    <tr>\n",
       "      <th>249</th>\n",
       "      <td>0.0</td>\n",
       "      <td>0.489</td>\n",
       "      <td>0.403</td>\n",
       "      <td>0.139</td>\n",
       "      <td>-2.046</td>\n",
       "      <td>1.345</td>\n",
       "      <td>0.122</td>\n",
       "      <td>1.255</td>\n",
       "      <td>0.647</td>\n",
       "      <td>-0.107</td>\n",
       "      <td>...</td>\n",
       "      <td>-0.025</td>\n",
       "      <td>1.305</td>\n",
       "      <td>-1.169</td>\n",
       "      <td>1.413</td>\n",
       "      <td>0.517</td>\n",
       "      <td>0.812</td>\n",
       "      <td>0.269</td>\n",
       "      <td>-1.454</td>\n",
       "      <td>-0.625</td>\n",
       "      <td>1.474</td>\n",
       "    </tr>\n",
       "  </tbody>\n",
       "</table>\n",
       "<p>5 rows × 301 columns</p>\n",
       "</div>"
      ],
      "text/plain": [
       "     target      0      1      2      3      4      5      6      7      8  \\\n",
       "id                                                                           \n",
       "245     0.0 -1.199  0.466 -0.908  2.771  1.631  0.931  0.182 -0.652 -0.512   \n",
       "246     0.0  0.237  0.233 -0.380 -1.748  0.839 -0.721 -0.114  0.005 -1.788   \n",
       "247     0.0  1.411 -1.465  0.119  0.583  1.634 -0.207  1.173  1.622 -0.071   \n",
       "248     1.0  0.620  1.040  0.184 -0.570 -0.087 -0.748 -1.559 -0.553  0.552   \n",
       "249     0.0  0.489  0.403  0.139 -2.046  1.345  0.122  1.255  0.647 -0.107   \n",
       "\n",
       "     ...      290    291    292    293    294    295    296    297    298  \\\n",
       "id   ...                                                                    \n",
       "245  ...    0.724  0.177 -0.039  0.759  0.461 -0.243  0.525  0.281 -0.255   \n",
       "246  ...    0.857  0.147  0.601 -0.210 -0.768  1.004 -0.979  0.007  0.112   \n",
       "247  ...   -0.499 -0.455  0.759  0.222  0.105 -0.727  0.461  0.760  0.168   \n",
       "248  ...    0.557 -1.494  0.977  0.882 -1.512  0.478 -0.910 -0.805  2.029   \n",
       "249  ...   -0.025  1.305 -1.169  1.413  0.517  0.812  0.269 -1.454 -0.625   \n",
       "\n",
       "       299  \n",
       "id          \n",
       "245 -1.136  \n",
       "246 -0.558  \n",
       "247 -0.719  \n",
       "248 -0.423  \n",
       "249  1.474  \n",
       "\n",
       "[5 rows x 301 columns]"
      ]
     },
     "execution_count": 32,
     "metadata": {},
     "output_type": "execute_result"
    }
   ],
   "source": [
    "import numpy as np\n",
    "import pandas as pd \n",
    "import matplotlib.pyplot as plt\n",
    "import seaborn as sns \n",
    "sns.set()\n",
    "\n",
    "train = pd.read_csv('train.csv', index_col='id')\n",
    "train.tail()"
   ]
  },
  {
   "cell_type": "code",
   "execution_count": 2,
   "metadata": {},
   "outputs": [],
   "source": [
    "data = train.loc[:, '0':]\n",
    "target = train.loc[:, 'target']"
   ]
  },
  {
   "cell_type": "markdown",
   "metadata": {},
   "source": [
    "## Preprocessing"
   ]
  },
  {
   "cell_type": "code",
   "execution_count": 20,
   "metadata": {},
   "outputs": [
    {
     "data": {
      "text/plain": [
       "0    0.023292\n",
       "1   -0.026872\n",
       "2    0.167404\n",
       "3    0.001904\n",
       "dtype: float64"
      ]
     },
     "execution_count": 20,
     "metadata": {},
     "output_type": "execute_result"
    }
   ],
   "source": [
    "raw_mean = data.mean(axis=0)\n",
    "raw_mean[:4]"
   ]
  },
  {
   "cell_type": "code",
   "execution_count": 23,
   "metadata": {},
   "outputs": [
    {
     "data": {
      "text/plain": [
       "0    0.998354\n",
       "1    1.009314\n",
       "2    1.021709\n",
       "3    1.011751\n",
       "dtype: float64"
      ]
     },
     "execution_count": 23,
     "metadata": {},
     "output_type": "execute_result"
    }
   ],
   "source": [
    "raw_std = data.std(axis=0)\n",
    "raw_std[:4]"
   ]
  },
  {
   "cell_type": "markdown",
   "metadata": {},
   "source": [
    "### Mean removal\n",
    "Removing the mean from each feature so the mean is centered on zero.\n",
    "Our data is already centered around zero. "
   ]
  },
  {
   "cell_type": "code",
   "execution_count": 7,
   "metadata": {},
   "outputs": [
    {
     "data": {
      "text/plain": [
       "(array([-1.42108547e-17,  5.32907052e-18, -1.42108547e-17,  2.66453526e-17]),\n",
       " array([1., 1., 1., 1.]))"
      ]
     },
     "execution_count": 7,
     "metadata": {},
     "output_type": "execute_result"
    }
   ],
   "source": [
    "from sklearn import preprocessing\n",
    "data_standardized = preprocessing.scale(data)\n",
    "d_mean = data_standardized.mean(axis=0)\n",
    "d_std = data_standardized.std(axis=0)\n",
    "d_mean[:4], d_std[:4]"
   ]
  },
  {
   "cell_type": "markdown",
   "metadata": {},
   "source": [
    "### Scaling \n",
    "The values of each feature can have difference variances"
   ]
  },
  {
   "cell_type": "code",
   "execution_count": 15,
   "metadata": {},
   "outputs": [
    {
     "data": {
      "text/plain": [
       "10    1.177419\n",
       "11    1.073844\n",
       "12    1.102586\n",
       "13    1.049200\n",
       "14    0.858938\n",
       "15    0.913773\n",
       "16    1.051967\n",
       "17    1.025717\n",
       "18    0.893212\n",
       "19    1.114999\n",
       "dtype: float64"
      ]
     },
     "execution_count": 15,
     "metadata": {},
     "output_type": "execute_result"
    }
   ],
   "source": [
    "variance = data.var(axis=0)\n",
    "variance[10:20]"
   ]
  },
  {
   "cell_type": "code",
   "execution_count": 18,
   "metadata": {
    "scrolled": true
   },
   "outputs": [
    {
     "data": {
      "text/plain": [
       "array([[0.45456406, 0.95252336, 0.53808144, ..., 0.43724546, 0.63032191,\n",
       "        0.38829533],\n",
       "       [0.69586574, 0.36598131, 0.35678991, ..., 0.31044058, 0.33748702,\n",
       "        0.71328337],\n",
       "       [0.36758084, 0.53121495, 0.36275345, ..., 0.51462421, 0.59501558,\n",
       "        0.36501355],\n",
       "       ...,\n",
       "       [0.76340565, 0.27401869, 0.44232408, ..., 0.65457238, 0.50126094,\n",
       "        0.44346994],\n",
       "       [0.60151453, 0.74224299, 0.45339922, ..., 0.36486486, 0.77733274,\n",
       "        0.49067134],\n",
       "       [0.57470323, 0.62317757, 0.44573181, ..., 0.24472418, 0.38362261,\n",
       "        0.79317493]])"
      ]
     },
     "execution_count": 18,
     "metadata": {},
     "output_type": "execute_result"
    }
   ],
   "source": [
    "data_scalar = preprocessing.MinMaxScaler(feature_range=(0,1))\n",
    "data_scaled = data_scalar.fit_transform(data)\n",
    "data_scaled"
   ]
  },
  {
   "cell_type": "markdown",
   "metadata": {},
   "source": [
    "### Normalization\n",
    "Data normalization is used when you want to adjust the values in the feature vector so that they can be measured on a common scale. "
   ]
  },
  {
   "cell_type": "code",
   "execution_count": 25,
   "metadata": {},
   "outputs": [
    {
     "data": {
      "text/plain": [
       "array([[-3.65850472e-04,  8.08230889e-03,  2.54228746e-03, ...,\n",
       "        -1.54553158e-03,  3.87502847e-03, -3.97582400e-03],\n",
       "       [ 4.55451301e-03, -4.09948304e-03, -1.61367112e-03, ...,\n",
       "        -4.63035134e-03, -3.94359314e-03,  4.09948304e-03],\n",
       "       [-2.16145177e-03, -3.67818752e-04, -1.43821265e-03, ...,\n",
       "         1.65311799e-05,  3.30623597e-03, -5.00481471e-03],\n",
       "       [ 2.94864516e-04, -9.24202215e-05,  1.72517747e-03, ...,\n",
       "        -1.11784458e-03, -2.34571324e-03,  1.04742918e-03]])"
      ]
     },
     "execution_count": 25,
     "metadata": {},
     "output_type": "execute_result"
    }
   ],
   "source": [
    "data_normalized = preprocessing.normalize(data, norm='l1')\n",
    "data_normalized[:4]"
   ]
  },
  {
   "cell_type": "markdown",
   "metadata": {},
   "source": [
    "### Binarization \n",
    "Binarization is used when you want to convert your numerical feature into a Boolean vector."
   ]
  },
  {
   "cell_type": "code",
   "execution_count": 31,
   "metadata": {},
   "outputs": [
    {
     "data": {
      "text/plain": [
       "array([[0., 1., 1., ..., 0., 1., 0.],\n",
       "       [1., 0., 0., ..., 0., 0., 1.],\n",
       "       [0., 0., 0., ..., 1., 1., 0.],\n",
       "       [1., 0., 1., ..., 0., 0., 1.]])"
      ]
     },
     "execution_count": 31,
     "metadata": {},
     "output_type": "execute_result"
    }
   ],
   "source": [
    "data_binarized = preprocessing.Binarizer(threshold=0).transform(data)\n",
    "data_binarized[:4]"
   ]
  },
  {
   "cell_type": "code",
   "execution_count": null,
   "metadata": {},
   "outputs": [],
   "source": [
    "X_train = train[]\n",
    "y"
   ]
  }
 ],
 "metadata": {
  "kernelspec": {
   "display_name": "Python 3",
   "language": "python",
   "name": "python3"
  },
  "language_info": {
   "codemirror_mode": {
    "name": "ipython",
    "version": 3
   },
   "file_extension": ".py",
   "mimetype": "text/x-python",
   "name": "python",
   "nbconvert_exporter": "python",
   "pygments_lexer": "ipython3",
   "version": "3.6.5"
  }
 },
 "nbformat": 4,
 "nbformat_minor": 2
}
