{
 "cells": [
  {
   "cell_type": "code",
   "execution_count": 10,
   "metadata": {},
   "outputs": [],
   "source": [
    "import pandas as pd\n",
    "import numpy as np\n",
    "import matplotlib.pyplot as plt\n",
    "from matplotlib import style\n",
    "style.use('ggplot')\n",
    "%matplotlib inline\n",
    "import seaborn as sns"
   ]
  },
  {
   "cell_type": "code",
   "execution_count": 11,
   "metadata": {},
   "outputs": [],
   "source": [
    "style.use('seaborn-white')\n",
    "sns.set(rc={'figure.figsize':(13,10)})\n",
    "sns.set_style({'image.cmap': 'jet'})"
   ]
  },
  {
   "cell_type": "markdown",
   "metadata": {},
   "source": [
    "### Introduction to Modeling Data\n",
    "\n",
    "Chapter 1 Roadmap:\n",
    "\n",
    "- Motivating Examples\n",
    "- Data Visualization\n",
    "- Descriptive Statistics\n",
    "\n",
    "![roadtrip](img/ch01_ex02_fig01.png)"
   ]
  },
  {
   "cell_type": "code",
   "execution_count": 12,
   "metadata": {},
   "outputs": [
    {
     "data": {
      "text/plain": [
       "50.0"
      ]
     },
     "execution_count": 12,
     "metadata": {},
     "output_type": "execute_result"
    }
   ],
   "source": [
    "# range of y data\n",
    "y_range = 300 # miles\n",
    " # range of x data\n",
    "x_range = 6 # hours\n",
    "# estimating the speed\n",
    "mph = y_range / x_range \n",
    "mph"
   ]
  },
  {
   "cell_type": "markdown",
   "metadata": {},
   "source": [
    "### Visualizing a Model\n",
    "![modelvix](img/ch01_ex02_fig02.png)"
   ]
  },
  {
   "cell_type": "markdown",
   "metadata": {},
   "source": [
    "### Model Predictions"
   ]
  },
  {
   "cell_type": "code",
   "execution_count": 13,
   "metadata": {},
   "outputs": [
    {
     "data": {
      "text/plain": [
       "300"
      ]
     },
     "execution_count": 13,
     "metadata": {},
     "output_type": "execute_result"
    }
   ],
   "source": [
    "# model as python expression\n",
    "hours = 6\n",
    "miles = 50 * hours\n",
    "\n",
    "# model predicts distance is 300 miles at 6 hours\n",
    "time = 6\n",
    "distance = 50 * time \n",
    "distance"
   ]
  },
  {
   "cell_type": "code",
   "execution_count": 14,
   "metadata": {},
   "outputs": [],
   "source": [
    "def model(time):\n",
    "    return 50*time\n",
    "\n",
    "predicted_distance = model(time=10)"
   ]
  },
  {
   "cell_type": "markdown",
   "metadata": {},
   "source": [
    "### Interpolation\n",
    "\n",
    "- Is a model prediction for a point between the points we have measured<br>\n",
    "![inter](img/ch01_ex02_fig03.png)"
   ]
  },
  {
   "cell_type": "markdown",
   "metadata": {},
   "source": [
    "### Extrapolation\n",
    "\n",
    "- Is a model prediction for a point outside the points we have measured\n",
    "![extra](img/ch01_ex03_fig03.png)"
   ]
  },
  {
   "cell_type": "code",
   "execution_count": 17,
   "metadata": {},
   "outputs": [],
   "source": [
    "times = np.array([ 0.,  1.,  2.,  3.,  4.,  5.,  6.])\n",
    "distances = np.array([   0.        ,   44.04512153,  107.16353484,  148.43674052,\n",
    "        196.39705633,  254.4358147 ,  300.        ])"
   ]
  },
  {
   "cell_type": "code",
   "execution_count": 18,
   "metadata": {},
   "outputs": [
    {
     "name": "stdout",
     "output_type": "stream",
     "text": [
      "The distance traveled is 125.0\n"
     ]
    }
   ],
   "source": [
    "# Compute the total change in distance and change in time\n",
    "total_distance = distances[-1] - distances[0]\n",
    "total_time = times[-1] - times[0]\n",
    "\n",
    "# Estimate the slope of the data from the ratio of the changes\n",
    "average_speed = total_distance / total_time\n",
    "\n",
    "# Predict the distance traveled for a time not measured\n",
    "elapse_time = 2.5\n",
    "distance_traveled = average_speed * elapse_time\n",
    "print(\"The distance traveled is {}\".format(distance_traveled))"
   ]
  },
  {
   "cell_type": "code",
   "execution_count": 19,
   "metadata": {},
   "outputs": [],
   "source": [
    "def model(time, a0=0, a1=50):\n",
    "    \"\"\"\n",
    "    Purpose: \n",
    "        For a given value of time, compute the model value for distance\n",
    "    Args:\n",
    "        time (float, np.ndarray): elapse time in units of hours\n",
    "        a0 (float): default=0, coefficient for the Zeroth order term in the model, i.e. a0 + a1*x\n",
    "        a1 (float): default=50, coefficient for the 1st order term in the model, i.e. a0 + a1*x\n",
    "    Returns:\n",
    "        distance (float, np.ndarray): model values corresponding to input time array, with the same length/size.\n",
    "    \"\"\"\n",
    "    distance = a0 + (a1*time)\n",
    "    return distance"
   ]
  },
  {
   "cell_type": "code",
   "execution_count": 20,
   "metadata": {},
   "outputs": [
    {
     "name": "stdout",
     "output_type": "stream",
     "text": [
      "400\n",
      "True\n"
     ]
    }
   ],
   "source": [
    "# Select a time not measured.\n",
    "time = 8\n",
    "\n",
    "# Use the model to compute a predicted distance for that time.\n",
    "distance = model(time)\n",
    "\n",
    "# Inspect the value of the predicted distance traveled.\n",
    "print(distance)\n",
    "\n",
    "# Determine if you will make it without refueling.\n",
    "answer = (distance <= 400)\n",
    "print(answer)"
   ]
  },
  {
   "cell_type": "code",
   "execution_count": 23,
   "metadata": {},
   "outputs": [],
   "source": [
    "car1 = {'gallons': np.array([  0.        ,   1.66666667,   3.33333333,   5.        ,\n",
    "          6.66666667,   8.33333333,  10.        ,  11.66666667,\n",
    "         13.33333333,  15.        ,  16.66666667]),\n",
    "        'miles': np.array([   0.,   50.,  100.,  150.,  200.,  250.,  300.,  350.,  400.,\n",
    "         450.,  500.])}\n",
    "car2 = {'gallons': np.array([  0.        ,   1.66666667,   3.33333333,   5.        ,\n",
    "          6.66666667,   8.33333333,  10.        ,  11.66666667,\n",
    "         13.33333333,  15.        ,  16.66666667]),\n",
    "     'miles': np.array([   0.,   50.,  100.,  150.,  200.,  250.,  300.,  350.,  400.,\n",
    "         450.,  500.])}"
   ]
  },
  {
   "cell_type": "code",
   "execution_count": 25,
   "metadata": {},
   "outputs": [
    {
     "name": "stdout",
     "output_type": "stream",
     "text": [
      "the cars have the same efficiency\n"
     ]
    }
   ],
   "source": [
    "np.seterr(divide='ignore', invalid='ignore')\n",
    "# Complete the function to model the efficiency.\n",
    "def efficiency_model(miles, gallons):\n",
    "   return np.mean( miles / gallons )\n",
    "\n",
    "# Use the function to estimate the efficiency for each car.\n",
    "car1['mpg'] = efficiency_model( car1['miles'] , car1['gallons'] )\n",
    "car2['mpg'] = efficiency_model( car2['miles'] , car2['gallons'] )\n",
    "\n",
    "# Finish the logic statement to compare the car efficiencies.\n",
    "if car1['mpg'] > car2['mpg'] :\n",
    "    print('car1 is the best')\n",
    "elif car1['mpg'] < car2['mpg'] :\n",
    "    print('car2 is the best')\n",
    "else:\n",
    "    print('the cars have the same efficiency')"
   ]
  },
  {
   "cell_type": "code",
   "execution_count": null,
   "metadata": {},
   "outputs": [],
   "source": []
  },
  {
   "cell_type": "code",
   "execution_count": null,
   "metadata": {},
   "outputs": [],
   "source": []
  },
  {
   "cell_type": "raw",
   "metadata": {},
   "source": [
    "import inspect\n",
    "lines = inspect.getsource(efficiency_model)\n",
    "print(lines)"
   ]
  }
 ],
 "metadata": {
  "kernelspec": {
   "display_name": "Python 3",
   "language": "python",
   "name": "python3"
  },
  "language_info": {
   "codemirror_mode": {
    "name": "ipython",
    "version": 3
   },
   "file_extension": ".py",
   "mimetype": "text/x-python",
   "name": "python",
   "nbconvert_exporter": "python",
   "pygments_lexer": "ipython3",
   "version": "3.6.5"
  }
 },
 "nbformat": 4,
 "nbformat_minor": 2
}
