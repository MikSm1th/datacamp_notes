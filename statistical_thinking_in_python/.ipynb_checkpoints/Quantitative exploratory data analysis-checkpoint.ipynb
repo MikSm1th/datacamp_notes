{
 "cells": [
  {
   "cell_type": "markdown",
   "metadata": {},
   "source": [
    "### Introduction to summary statistics: The sample mean and median "
   ]
  },
  {
   "cell_type": "code",
   "execution_count": 1,
   "metadata": {},
   "outputs": [],
   "source": [
    "import pandas as pd\n",
    "import numpy as np\n",
    "import matplotlib.pyplot as plt\n",
    "import seaborn as sns\n",
    "sns.set()"
   ]
  },
  {
   "cell_type": "code",
   "execution_count": 2,
   "metadata": {},
   "outputs": [],
   "source": [
    "df = pd.read_csv('iris.csv', names=['sepal length(cm)','sepal width (cm)','petal length (cm)',\n",
    "                                     'petal width (cm)','species'])\n",
    "df.species = df.species.str.replace('Iris-', '')\n",
    "#df"
   ]
  },
  {
   "cell_type": "code",
   "execution_count": 3,
   "metadata": {},
   "outputs": [],
   "source": [
    "versicolor = df[df['species'] == 'versicolor']\n",
    "versicolor_petal_length = np.array(versicolor['petal length (cm)'])\n",
    "versicolor_petal_width = np.array(versicolor['petal width (cm)'])\n",
    "setosa = df[df['species'] == 'setosa']\n",
    "setosa_petal_length = np.array(setosa['petal length (cm)'])\n",
    "setosa_petal_width = np.array(setosa['petal width (cm)'])\n",
    "virginica = df[df['species'] == 'virginica']\n",
    "virginica_petal_length = np.array(virginica['petal length (cm)'])\n",
    "virginica_petal_width = np.array(virginica['petal width (cm)'])"
   ]
  },
  {
   "cell_type": "code",
   "execution_count": 4,
   "metadata": {},
   "outputs": [
    {
     "name": "stdout",
     "output_type": "stream",
     "text": [
      "I. versicolor: 4.26 cm\n"
     ]
    }
   ],
   "source": [
    "mean_length_vers = np.mean(versicolor_petal_length)\n",
    "print('I. versicolor:', mean_length_vers, 'cm')\\"
   ]
  },
  {
   "cell_type": "markdown",
   "metadata": {},
   "source": [
    "### Percentiles, outliners, and box plots"
   ]
  },
  {
   "cell_type": "code",
   "execution_count": 5,
   "metadata": {},
   "outputs": [
    {
     "data": {
      "text/plain": [
       "array([37.3025, 43.185 , 49.925 ])"
      ]
     },
     "execution_count": 5,
     "metadata": {},
     "output_type": "execute_result"
    }
   ],
   "source": [
    "df_swing = pd.read_csv('2008_swing_states.csv')\n",
    "np.percentile(df_swing['dem_share'], [25,50,75])"
   ]
  },
  {
   "cell_type": "code",
   "execution_count": 6,
   "metadata": {},
   "outputs": [
    {
     "data": {
      "text/plain": [
       "array([3.3   , 4.    , 4.35  , 4.6   , 4.9775])"
      ]
     },
     "execution_count": 6,
     "metadata": {},
     "output_type": "execute_result"
    }
   ],
   "source": [
    "percentiles = np.array([2.5, 25, 50, 75, 97.5])\n",
    "ptiles_vers = np.percentile(versicolor_petal_length, percentiles)\n",
    "ptiles_vers"
   ]
  },
  {
   "cell_type": "code",
   "execution_count": 7,
   "metadata": {},
   "outputs": [],
   "source": [
    "def ecdf(data):\n",
    "    '''Compute ECDF for a one-dimensional array of measurements'''\n",
    "    n = len(data)\n",
    "    x = np.sort(data)\n",
    "    y = np.arange(1, n+1)/n\n",
    "    return x, y"
   ]
  },
  {
   "cell_type": "code",
   "execution_count": 8,
   "metadata": {},
   "outputs": [],
   "source": [
    "x_vers, y_vers = ecdf(versicolor_petal_length)\n",
    "x_set, y_set = ecdf(setosa_petal_length)\n",
    "x_virg, y_virg = ecdf(virginica_petal_length)"
   ]
  },
  {
   "cell_type": "code",
   "execution_count": 9,
   "metadata": {},
   "outputs": [
    {
     "data": {
      "image/png": "[encoded data removed]",
      "text/plain": [
       "<Figure size 432x288 with 1 Axes>"
      ]
     },
     "metadata": {},
     "output_type": "display_data"
    }
   ],
   "source": [
    "_ = plt.plot(x_vers, y_vers, '.')\n",
    "_ = plt.xlabel('petal length (cm)')\n",
    "_ = plt.ylabel('ECDF')\n",
    "_ = plt.plot(ptiles_vers, percentiles/100, marker='D', color='red',\n",
    "         linestyle='none')\n",
    "plt.show()"
   ]
  },
  {
   "cell_type": "code",
   "execution_count": 10,
   "metadata": {},
   "outputs": [
    {
     "data": {
      "image/png": "[encoded data removed]",
      "text/plain": [
       "<Figure size 432x288 with 1 Axes>"
      ]
     },
     "metadata": {},
     "output_type": "display_data"
    }
   ],
   "source": [
    "_ = sns.boxplot(x='species', y='petal length (cm)', data = df)\n",
    "_ = plt.xlabel('species')\n",
    "_ = plt.ylabel('petal length')\n",
    "plt.show()"
   ]
  },
  {
   "cell_type": "markdown",
   "metadata": {},
   "source": [
    "### Variance and standard deviation "
   ]
  },
  {
   "cell_type": "markdown",
   "metadata": {},
   "source": [
    "#### Variance\n",
    "- The mean squared distance of the data from thier mean\n",
    "- Informally, a measure of the spread of data"
   ]
  },
  {
   "cell_type": "code",
   "execution_count": 11,
   "metadata": {},
   "outputs": [
    {
     "data": {
      "text/plain": [
       "147.44278618846064"
      ]
     },
     "execution_count": 11,
     "metadata": {},
     "output_type": "execute_result"
    }
   ],
   "source": [
    "dem_share_FL = df_swing.loc[df_swing['state'] == 'FL']['dem_share']\n",
    "np.var(dem_share_FL)"
   ]
  },
  {
   "cell_type": "markdown",
   "metadata": {},
   "source": [
    "#### Computing the standard deviation "
   ]
  },
  {
   "cell_type": "code",
   "execution_count": 12,
   "metadata": {},
   "outputs": [
    {
     "data": {
      "text/plain": [
       "(12.142602117687158, 12.142602117687158)"
      ]
     },
     "execution_count": 12,
     "metadata": {},
     "output_type": "execute_result"
    }
   ],
   "source": [
    "np.std(dem_share_FL), np.sqrt(np.var(dem_share_FL))"
   ]
  },
  {
   "cell_type": "code",
   "execution_count": 13,
   "metadata": {},
   "outputs": [
    {
     "data": {
      "text/plain": [
       "array([ 0.44,  0.24,  0.64, -0.26,  0.34,  0.24,  0.44, -0.96,  0.34,\n",
       "       -0.36, -0.76, -0.06, -0.26,  0.44, -0.66,  0.14,  0.24, -0.16,\n",
       "        0.24, -0.36,  0.54, -0.26,  0.64,  0.44,  0.04,  0.14,  0.54,\n",
       "        0.74,  0.24, -0.76, -0.46, -0.56, -0.36,  0.84,  0.24,  0.24,\n",
       "        0.44,  0.14, -0.16, -0.26,  0.14,  0.34, -0.26, -0.96, -0.06,\n",
       "       -0.06, -0.06,  0.04, -1.26, -0.16])"
      ]
     },
     "execution_count": 13,
     "metadata": {},
     "output_type": "execute_result"
    }
   ],
   "source": [
    "differences = versicolor_petal_length - np.mean(versicolor_petal_length)\n",
    "differences"
   ]
  },
  {
   "cell_type": "code",
   "execution_count": 14,
   "metadata": {},
   "outputs": [
    {
     "data": {
      "text/plain": [
       "array([0.1936, 0.0576, 0.4096, 0.0676, 0.1156, 0.0576, 0.1936, 0.9216,\n",
       "       0.1156, 0.1296, 0.5776, 0.0036, 0.0676, 0.1936, 0.4356, 0.0196,\n",
       "       0.0576, 0.0256, 0.0576, 0.1296, 0.2916, 0.0676, 0.4096, 0.1936,\n",
       "       0.0016, 0.0196, 0.2916, 0.5476, 0.0576, 0.5776, 0.2116, 0.3136,\n",
       "       0.1296, 0.7056, 0.0576, 0.0576, 0.1936, 0.0196, 0.0256, 0.0676,\n",
       "       0.0196, 0.1156, 0.0676, 0.9216, 0.0036, 0.0036, 0.0036, 0.0016,\n",
       "       1.5876, 0.0256])"
      ]
     },
     "execution_count": 14,
     "metadata": {},
     "output_type": "execute_result"
    }
   ],
   "source": [
    "diff_sq = differences ** 2\n",
    "diff_sq"
   ]
  },
  {
   "cell_type": "code",
   "execution_count": 15,
   "metadata": {},
   "outputs": [
    {
     "data": {
      "text/plain": [
       "0.21640000000000004"
      ]
     },
     "execution_count": 15,
     "metadata": {},
     "output_type": "execute_result"
    }
   ],
   "source": [
    "variance_explicit = np.mean(diff_sq)\n",
    "variance_explicit"
   ]
  },
  {
   "cell_type": "code",
   "execution_count": 16,
   "metadata": {},
   "outputs": [
    {
     "data": {
      "text/plain": [
       "0.21640000000000004"
      ]
     },
     "execution_count": 16,
     "metadata": {},
     "output_type": "execute_result"
    }
   ],
   "source": [
    "variance_np = np.var(versicolor_petal_length)\n",
    "variance_np"
   ]
  },
  {
   "cell_type": "code",
   "execution_count": 17,
   "metadata": {},
   "outputs": [
    {
     "data": {
      "text/plain": [
       "0.4651881339845203"
      ]
     },
     "execution_count": 17,
     "metadata": {},
     "output_type": "execute_result"
    }
   ],
   "source": [
    "# The standard deviation and the variance\n",
    "variance = np.var(versicolor_petal_length)\n",
    "np.sqrt(variance)"
   ]
  },
  {
   "cell_type": "code",
   "execution_count": 18,
   "metadata": {},
   "outputs": [
    {
     "data": {
      "text/plain": [
       "0.4651881339845203"
      ]
     },
     "execution_count": 18,
     "metadata": {},
     "output_type": "execute_result"
    }
   ],
   "source": [
    "np.std(versicolor_petal_length)"
   ]
  },
  {
   "cell_type": "markdown",
   "metadata": {},
   "source": [
    "### Covariance and the Pearson correlation coefficient"
   ]
  },
  {
   "cell_type": "code",
   "execution_count": 19,
   "metadata": {
    "scrolled": true
   },
   "outputs": [
    {
     "data": {
      "text/html": [
       "<div>\n",
       "<style scoped>\n",
       "    .dataframe tbody tr th:only-of-type {\n",
       "        vertical-align: middle;\n",
       "    }\n",
       "\n",
       "    .dataframe tbody tr th {\n",
       "        vertical-align: top;\n",
       "    }\n",
       "\n",
       "    .dataframe thead th {\n",
       "        text-align: right;\n",
       "    }\n",
       "</style>\n",
       "<table border=\"1\" class=\"dataframe\">\n",
       "  <thead>\n",
       "    <tr style=\"text-align: right;\">\n",
       "      <th></th>\n",
       "      <th>state</th>\n",
       "      <th>county</th>\n",
       "      <th>total_votes</th>\n",
       "      <th>dem_votes</th>\n",
       "      <th>rep_votes</th>\n",
       "      <th>dem_share</th>\n",
       "    </tr>\n",
       "  </thead>\n",
       "  <tbody>\n",
       "    <tr>\n",
       "      <th>0</th>\n",
       "      <td>PA</td>\n",
       "      <td>Erie County</td>\n",
       "      <td>127691</td>\n",
       "      <td>75775</td>\n",
       "      <td>50351</td>\n",
       "      <td>60.08</td>\n",
       "    </tr>\n",
       "    <tr>\n",
       "      <th>1</th>\n",
       "      <td>PA</td>\n",
       "      <td>Bradford County</td>\n",
       "      <td>25787</td>\n",
       "      <td>10306</td>\n",
       "      <td>15057</td>\n",
       "      <td>40.64</td>\n",
       "    </tr>\n",
       "    <tr>\n",
       "      <th>2</th>\n",
       "      <td>PA</td>\n",
       "      <td>Tioga County</td>\n",
       "      <td>17984</td>\n",
       "      <td>6390</td>\n",
       "      <td>11326</td>\n",
       "      <td>36.07</td>\n",
       "    </tr>\n",
       "    <tr>\n",
       "      <th>3</th>\n",
       "      <td>PA</td>\n",
       "      <td>McKean County</td>\n",
       "      <td>15947</td>\n",
       "      <td>6465</td>\n",
       "      <td>9224</td>\n",
       "      <td>41.21</td>\n",
       "    </tr>\n",
       "    <tr>\n",
       "      <th>4</th>\n",
       "      <td>PA</td>\n",
       "      <td>Potter County</td>\n",
       "      <td>7507</td>\n",
       "      <td>2300</td>\n",
       "      <td>5109</td>\n",
       "      <td>31.04</td>\n",
       "    </tr>\n",
       "    <tr>\n",
       "      <th>5</th>\n",
       "      <td>PA</td>\n",
       "      <td>Wayne County</td>\n",
       "      <td>22835</td>\n",
       "      <td>9892</td>\n",
       "      <td>12702</td>\n",
       "      <td>43.78</td>\n",
       "    </tr>\n",
       "    <tr>\n",
       "      <th>6</th>\n",
       "      <td>PA</td>\n",
       "      <td>Susquehanna County</td>\n",
       "      <td>19286</td>\n",
       "      <td>8381</td>\n",
       "      <td>10633</td>\n",
       "      <td>44.08</td>\n",
       "    </tr>\n",
       "    <tr>\n",
       "      <th>7</th>\n",
       "      <td>PA</td>\n",
       "      <td>Warren County</td>\n",
       "      <td>18517</td>\n",
       "      <td>8537</td>\n",
       "      <td>9685</td>\n",
       "      <td>46.85</td>\n",
       "    </tr>\n",
       "    <tr>\n",
       "      <th>8</th>\n",
       "      <td>OH</td>\n",
       "      <td>Ashtabula County</td>\n",
       "      <td>44874</td>\n",
       "      <td>25027</td>\n",
       "      <td>18949</td>\n",
       "      <td>56.94</td>\n",
       "    </tr>\n",
       "    <tr>\n",
       "      <th>9</th>\n",
       "      <td>OH</td>\n",
       "      <td>Lake County</td>\n",
       "      <td>121335</td>\n",
       "      <td>60155</td>\n",
       "      <td>59142</td>\n",
       "      <td>50.46</td>\n",
       "    </tr>\n",
       "    <tr>\n",
       "      <th>10</th>\n",
       "      <td>PA</td>\n",
       "      <td>Crawford County</td>\n",
       "      <td>38134</td>\n",
       "      <td>16780</td>\n",
       "      <td>20750</td>\n",
       "      <td>44.71</td>\n",
       "    </tr>\n",
       "    <tr>\n",
       "      <th>11</th>\n",
       "      <td>OH</td>\n",
       "      <td>Lucas County</td>\n",
       "      <td>219830</td>\n",
       "      <td>142852</td>\n",
       "      <td>73706</td>\n",
       "      <td>65.99</td>\n",
       "    </tr>\n",
       "    <tr>\n",
       "      <th>12</th>\n",
       "      <td>OH</td>\n",
       "      <td>Fulton County</td>\n",
       "      <td>21973</td>\n",
       "      <td>9900</td>\n",
       "      <td>11689</td>\n",
       "      <td>45.88</td>\n",
       "    </tr>\n",
       "    <tr>\n",
       "      <th>13</th>\n",
       "      <td>OH</td>\n",
       "      <td>Geauga County</td>\n",
       "      <td>51102</td>\n",
       "      <td>21250</td>\n",
       "      <td>29096</td>\n",
       "      <td>42.23</td>\n",
       "    </tr>\n",
       "    <tr>\n",
       "      <th>14</th>\n",
       "      <td>OH</td>\n",
       "      <td>Williams County</td>\n",
       "      <td>18397</td>\n",
       "      <td>8174</td>\n",
       "      <td>9880</td>\n",
       "      <td>45.26</td>\n",
       "    </tr>\n",
       "    <tr>\n",
       "      <th>15</th>\n",
       "      <td>PA</td>\n",
       "      <td>Wyoming County</td>\n",
       "      <td>13138</td>\n",
       "      <td>5985</td>\n",
       "      <td>6983</td>\n",
       "      <td>46.15</td>\n",
       "    </tr>\n",
       "    <tr>\n",
       "      <th>16</th>\n",
       "      <td>PA</td>\n",
       "      <td>Lackawanna County</td>\n",
       "      <td>107876</td>\n",
       "      <td>67520</td>\n",
       "      <td>39488</td>\n",
       "      <td>63.10</td>\n",
       "    </tr>\n",
       "    <tr>\n",
       "      <th>17</th>\n",
       "      <td>PA</td>\n",
       "      <td>Elk County</td>\n",
       "      <td>14271</td>\n",
       "      <td>7290</td>\n",
       "      <td>6676</td>\n",
       "      <td>52.20</td>\n",
       "    </tr>\n",
       "    <tr>\n",
       "      <th>18</th>\n",
       "      <td>PA</td>\n",
       "      <td>Forest County</td>\n",
       "      <td>2444</td>\n",
       "      <td>1038</td>\n",
       "      <td>1366</td>\n",
       "      <td>43.18</td>\n",
       "    </tr>\n",
       "    <tr>\n",
       "      <th>19</th>\n",
       "      <td>PA</td>\n",
       "      <td>Venango County</td>\n",
       "      <td>23307</td>\n",
       "      <td>9238</td>\n",
       "      <td>13718</td>\n",
       "      <td>40.24</td>\n",
       "    </tr>\n",
       "    <tr>\n",
       "      <th>20</th>\n",
       "      <td>OH</td>\n",
       "      <td>Erie County</td>\n",
       "      <td>41229</td>\n",
       "      <td>23148</td>\n",
       "      <td>17432</td>\n",
       "      <td>57.01</td>\n",
       "    </tr>\n",
       "    <tr>\n",
       "      <th>21</th>\n",
       "      <td>OH</td>\n",
       "      <td>Wood County</td>\n",
       "      <td>65022</td>\n",
       "      <td>34285</td>\n",
       "      <td>29648</td>\n",
       "      <td>53.61</td>\n",
       "    </tr>\n",
       "    <tr>\n",
       "      <th>22</th>\n",
       "      <td>PA</td>\n",
       "      <td>Cameron County</td>\n",
       "      <td>2245</td>\n",
       "      <td>879</td>\n",
       "      <td>1323</td>\n",
       "      <td>39.92</td>\n",
       "    </tr>\n",
       "    <tr>\n",
       "      <th>23</th>\n",
       "      <td>PA</td>\n",
       "      <td>Pike County</td>\n",
       "      <td>24284</td>\n",
       "      <td>11493</td>\n",
       "      <td>12518</td>\n",
       "      <td>47.87</td>\n",
       "    </tr>\n",
       "    <tr>\n",
       "      <th>24</th>\n",
       "      <td>PA</td>\n",
       "      <td>Lycoming County</td>\n",
       "      <td>49237</td>\n",
       "      <td>18381</td>\n",
       "      <td>30280</td>\n",
       "      <td>37.77</td>\n",
       "    </tr>\n",
       "    <tr>\n",
       "      <th>25</th>\n",
       "      <td>PA</td>\n",
       "      <td>Sullivan County</td>\n",
       "      <td>3120</td>\n",
       "      <td>1233</td>\n",
       "      <td>1841</td>\n",
       "      <td>40.11</td>\n",
       "    </tr>\n",
       "    <tr>\n",
       "      <th>26</th>\n",
       "      <td>OH</td>\n",
       "      <td>Lorain County</td>\n",
       "      <td>146859</td>\n",
       "      <td>85276</td>\n",
       "      <td>59068</td>\n",
       "      <td>59.10</td>\n",
       "    </tr>\n",
       "    <tr>\n",
       "      <th>27</th>\n",
       "      <td>OH</td>\n",
       "      <td>Trumbull County</td>\n",
       "      <td>106911</td>\n",
       "      <td>64145</td>\n",
       "      <td>40164</td>\n",
       "      <td>61.48</td>\n",
       "    </tr>\n",
       "    <tr>\n",
       "      <th>28</th>\n",
       "      <td>PA</td>\n",
       "      <td>Mercer County</td>\n",
       "      <td>53821</td>\n",
       "      <td>26411</td>\n",
       "      <td>26565</td>\n",
       "      <td>49.85</td>\n",
       "    </tr>\n",
       "    <tr>\n",
       "      <th>29</th>\n",
       "      <td>OH</td>\n",
       "      <td>Henry County</td>\n",
       "      <td>14840</td>\n",
       "      <td>6320</td>\n",
       "      <td>8239</td>\n",
       "      <td>43.43</td>\n",
       "    </tr>\n",
       "    <tr>\n",
       "      <th>...</th>\n",
       "      <td>...</td>\n",
       "      <td>...</td>\n",
       "      <td>...</td>\n",
       "      <td>...</td>\n",
       "      <td>...</td>\n",
       "      <td>...</td>\n",
       "    </tr>\n",
       "    <tr>\n",
       "      <th>192</th>\n",
       "      <td>FL</td>\n",
       "      <td>Highlands County</td>\n",
       "      <td>44783</td>\n",
       "      <td>18135</td>\n",
       "      <td>26221</td>\n",
       "      <td>40.89</td>\n",
       "    </tr>\n",
       "    <tr>\n",
       "      <th>193</th>\n",
       "      <td>FL</td>\n",
       "      <td>Hardee County</td>\n",
       "      <td>7412</td>\n",
       "      <td>2568</td>\n",
       "      <td>4763</td>\n",
       "      <td>35.03</td>\n",
       "    </tr>\n",
       "    <tr>\n",
       "      <th>194</th>\n",
       "      <td>FL</td>\n",
       "      <td>Manatee County</td>\n",
       "      <td>151994</td>\n",
       "      <td>70034</td>\n",
       "      <td>80721</td>\n",
       "      <td>46.46</td>\n",
       "    </tr>\n",
       "    <tr>\n",
       "      <th>195</th>\n",
       "      <td>FL</td>\n",
       "      <td>Okeechobee County</td>\n",
       "      <td>12786</td>\n",
       "      <td>5108</td>\n",
       "      <td>7561</td>\n",
       "      <td>40.32</td>\n",
       "    </tr>\n",
       "    <tr>\n",
       "      <th>196</th>\n",
       "      <td>FL</td>\n",
       "      <td>Saint Lucie County</td>\n",
       "      <td>120579</td>\n",
       "      <td>67125</td>\n",
       "      <td>52512</td>\n",
       "      <td>56.11</td>\n",
       "    </tr>\n",
       "    <tr>\n",
       "      <th>197</th>\n",
       "      <td>FL</td>\n",
       "      <td>Sarasota County</td>\n",
       "      <td>207353</td>\n",
       "      <td>102686</td>\n",
       "      <td>102897</td>\n",
       "      <td>49.95</td>\n",
       "    </tr>\n",
       "    <tr>\n",
       "      <th>198</th>\n",
       "      <td>FL</td>\n",
       "      <td>DeSoto County</td>\n",
       "      <td>10131</td>\n",
       "      <td>4383</td>\n",
       "      <td>5632</td>\n",
       "      <td>43.76</td>\n",
       "    </tr>\n",
       "    <tr>\n",
       "      <th>199</th>\n",
       "      <td>FL</td>\n",
       "      <td>Martin County</td>\n",
       "      <td>78294</td>\n",
       "      <td>33508</td>\n",
       "      <td>44143</td>\n",
       "      <td>43.15</td>\n",
       "    </tr>\n",
       "    <tr>\n",
       "      <th>200</th>\n",
       "      <td>FL</td>\n",
       "      <td>Glades County</td>\n",
       "      <td>3358</td>\n",
       "      <td>1381</td>\n",
       "      <td>1938</td>\n",
       "      <td>41.61</td>\n",
       "    </tr>\n",
       "    <tr>\n",
       "      <th>201</th>\n",
       "      <td>FL</td>\n",
       "      <td>Charlotte County</td>\n",
       "      <td>85158</td>\n",
       "      <td>39031</td>\n",
       "      <td>45205</td>\n",
       "      <td>46.34</td>\n",
       "    </tr>\n",
       "    <tr>\n",
       "      <th>202</th>\n",
       "      <td>FL</td>\n",
       "      <td>Palm Beach County</td>\n",
       "      <td>590500</td>\n",
       "      <td>361271</td>\n",
       "      <td>226037</td>\n",
       "      <td>61.51</td>\n",
       "    </tr>\n",
       "    <tr>\n",
       "      <th>203</th>\n",
       "      <td>FL</td>\n",
       "      <td>Hendry County</td>\n",
       "      <td>10879</td>\n",
       "      <td>4998</td>\n",
       "      <td>5780</td>\n",
       "      <td>46.37</td>\n",
       "    </tr>\n",
       "    <tr>\n",
       "      <th>204</th>\n",
       "      <td>FL</td>\n",
       "      <td>Lee County</td>\n",
       "      <td>269276</td>\n",
       "      <td>119701</td>\n",
       "      <td>147608</td>\n",
       "      <td>44.78</td>\n",
       "    </tr>\n",
       "    <tr>\n",
       "      <th>205</th>\n",
       "      <td>FL</td>\n",
       "      <td>Collier County</td>\n",
       "      <td>141988</td>\n",
       "      <td>54450</td>\n",
       "      <td>86379</td>\n",
       "      <td>38.66</td>\n",
       "    </tr>\n",
       "    <tr>\n",
       "      <th>206</th>\n",
       "      <td>FL</td>\n",
       "      <td>Broward County</td>\n",
       "      <td>733899</td>\n",
       "      <td>492640</td>\n",
       "      <td>237729</td>\n",
       "      <td>67.45</td>\n",
       "    </tr>\n",
       "    <tr>\n",
       "      <th>207</th>\n",
       "      <td>FL</td>\n",
       "      <td>Miami-Dade County</td>\n",
       "      <td>863486</td>\n",
       "      <td>499831</td>\n",
       "      <td>360551</td>\n",
       "      <td>58.09</td>\n",
       "    </tr>\n",
       "    <tr>\n",
       "      <th>208</th>\n",
       "      <td>FL</td>\n",
       "      <td>Monroe County</td>\n",
       "      <td>40272</td>\n",
       "      <td>20907</td>\n",
       "      <td>18933</td>\n",
       "      <td>52.48</td>\n",
       "    </tr>\n",
       "    <tr>\n",
       "      <th>209</th>\n",
       "      <td>OH</td>\n",
       "      <td>Ottawa County</td>\n",
       "      <td>23069</td>\n",
       "      <td>12049</td>\n",
       "      <td>10618</td>\n",
       "      <td>53.16</td>\n",
       "    </tr>\n",
       "    <tr>\n",
       "      <th>210</th>\n",
       "      <td>OH</td>\n",
       "      <td>Sandusky County</td>\n",
       "      <td>30373</td>\n",
       "      <td>15601</td>\n",
       "      <td>14190</td>\n",
       "      <td>52.40</td>\n",
       "    </tr>\n",
       "    <tr>\n",
       "      <th>211</th>\n",
       "      <td>OH</td>\n",
       "      <td>Summit County</td>\n",
       "      <td>269059</td>\n",
       "      <td>155105</td>\n",
       "      <td>110499</td>\n",
       "      <td>58.36</td>\n",
       "    </tr>\n",
       "    <tr>\n",
       "      <th>212</th>\n",
       "      <td>OH</td>\n",
       "      <td>Athens County</td>\n",
       "      <td>31098</td>\n",
       "      <td>20722</td>\n",
       "      <td>9742</td>\n",
       "      <td>68.02</td>\n",
       "    </tr>\n",
       "    <tr>\n",
       "      <th>213</th>\n",
       "      <td>OH</td>\n",
       "      <td>Butler County</td>\n",
       "      <td>173777</td>\n",
       "      <td>66030</td>\n",
       "      <td>105341</td>\n",
       "      <td>38.53</td>\n",
       "    </tr>\n",
       "    <tr>\n",
       "      <th>214</th>\n",
       "      <td>OH</td>\n",
       "      <td>Clinton County</td>\n",
       "      <td>19305</td>\n",
       "      <td>6558</td>\n",
       "      <td>12409</td>\n",
       "      <td>34.58</td>\n",
       "    </tr>\n",
       "    <tr>\n",
       "      <th>215</th>\n",
       "      <td>OH</td>\n",
       "      <td>Cuyahoga County</td>\n",
       "      <td>665352</td>\n",
       "      <td>458422</td>\n",
       "      <td>199880</td>\n",
       "      <td>69.64</td>\n",
       "    </tr>\n",
       "    <tr>\n",
       "      <th>216</th>\n",
       "      <td>OH</td>\n",
       "      <td>Franklin County</td>\n",
       "      <td>560325</td>\n",
       "      <td>334709</td>\n",
       "      <td>218486</td>\n",
       "      <td>60.50</td>\n",
       "    </tr>\n",
       "    <tr>\n",
       "      <th>217</th>\n",
       "      <td>OH</td>\n",
       "      <td>Hamilton County</td>\n",
       "      <td>425086</td>\n",
       "      <td>225213</td>\n",
       "      <td>195530</td>\n",
       "      <td>53.53</td>\n",
       "    </tr>\n",
       "    <tr>\n",
       "      <th>218</th>\n",
       "      <td>OH</td>\n",
       "      <td>Highland County</td>\n",
       "      <td>19186</td>\n",
       "      <td>6856</td>\n",
       "      <td>11907</td>\n",
       "      <td>36.54</td>\n",
       "    </tr>\n",
       "    <tr>\n",
       "      <th>219</th>\n",
       "      <td>OH</td>\n",
       "      <td>Hocking County</td>\n",
       "      <td>12961</td>\n",
       "      <td>6259</td>\n",
       "      <td>6364</td>\n",
       "      <td>49.58</td>\n",
       "    </tr>\n",
       "    <tr>\n",
       "      <th>220</th>\n",
       "      <td>OH</td>\n",
       "      <td>Licking County</td>\n",
       "      <td>82356</td>\n",
       "      <td>33932</td>\n",
       "      <td>46918</td>\n",
       "      <td>41.97</td>\n",
       "    </tr>\n",
       "    <tr>\n",
       "      <th>221</th>\n",
       "      <td>OH</td>\n",
       "      <td>Madison County</td>\n",
       "      <td>17454</td>\n",
       "      <td>6532</td>\n",
       "      <td>10606</td>\n",
       "      <td>38.11</td>\n",
       "    </tr>\n",
       "  </tbody>\n",
       "</table>\n",
       "<p>222 rows × 6 columns</p>\n",
       "</div>"
      ],
      "text/plain": [
       "    state              county  total_votes  dem_votes  rep_votes  dem_share\n",
       "0      PA         Erie County       127691      75775      50351      60.08\n",
       "1      PA     Bradford County        25787      10306      15057      40.64\n",
       "2      PA        Tioga County        17984       6390      11326      36.07\n",
       "3      PA       McKean County        15947       6465       9224      41.21\n",
       "4      PA       Potter County         7507       2300       5109      31.04\n",
       "5      PA        Wayne County        22835       9892      12702      43.78\n",
       "6      PA  Susquehanna County        19286       8381      10633      44.08\n",
       "7      PA       Warren County        18517       8537       9685      46.85\n",
       "8      OH    Ashtabula County        44874      25027      18949      56.94\n",
       "9      OH         Lake County       121335      60155      59142      50.46\n",
       "10     PA     Crawford County        38134      16780      20750      44.71\n",
       "11     OH        Lucas County       219830     142852      73706      65.99\n",
       "12     OH       Fulton County        21973       9900      11689      45.88\n",
       "13     OH       Geauga County        51102      21250      29096      42.23\n",
       "14     OH     Williams County        18397       8174       9880      45.26\n",
       "15     PA      Wyoming County        13138       5985       6983      46.15\n",
       "16     PA   Lackawanna County       107876      67520      39488      63.10\n",
       "17     PA          Elk County        14271       7290       6676      52.20\n",
       "18     PA       Forest County         2444       1038       1366      43.18\n",
       "19     PA      Venango County        23307       9238      13718      40.24\n",
       "20     OH         Erie County        41229      23148      17432      57.01\n",
       "21     OH         Wood County        65022      34285      29648      53.61\n",
       "22     PA      Cameron County         2245        879       1323      39.92\n",
       "23     PA         Pike County        24284      11493      12518      47.87\n",
       "24     PA     Lycoming County        49237      18381      30280      37.77\n",
       "25     PA     Sullivan County         3120       1233       1841      40.11\n",
       "26     OH       Lorain County       146859      85276      59068      59.10\n",
       "27     OH     Trumbull County       106911      64145      40164      61.48\n",
       "28     PA       Mercer County        53821      26411      26565      49.85\n",
       "29     OH        Henry County        14840       6320       8239      43.43\n",
       "..    ...                 ...          ...        ...        ...        ...\n",
       "192    FL    Highlands County        44783      18135      26221      40.89\n",
       "193    FL       Hardee County         7412       2568       4763      35.03\n",
       "194    FL      Manatee County       151994      70034      80721      46.46\n",
       "195    FL   Okeechobee County        12786       5108       7561      40.32\n",
       "196    FL  Saint Lucie County       120579      67125      52512      56.11\n",
       "197    FL     Sarasota County       207353     102686     102897      49.95\n",
       "198    FL       DeSoto County        10131       4383       5632      43.76\n",
       "199    FL       Martin County        78294      33508      44143      43.15\n",
       "200    FL       Glades County         3358       1381       1938      41.61\n",
       "201    FL    Charlotte County        85158      39031      45205      46.34\n",
       "202    FL   Palm Beach County       590500     361271     226037      61.51\n",
       "203    FL       Hendry County        10879       4998       5780      46.37\n",
       "204    FL          Lee County       269276     119701     147608      44.78\n",
       "205    FL      Collier County       141988      54450      86379      38.66\n",
       "206    FL      Broward County       733899     492640     237729      67.45\n",
       "207    FL   Miami-Dade County       863486     499831     360551      58.09\n",
       "208    FL       Monroe County        40272      20907      18933      52.48\n",
       "209    OH       Ottawa County        23069      12049      10618      53.16\n",
       "210    OH     Sandusky County        30373      15601      14190      52.40\n",
       "211    OH       Summit County       269059     155105     110499      58.36\n",
       "212    OH       Athens County        31098      20722       9742      68.02\n",
       "213    OH       Butler County       173777      66030     105341      38.53\n",
       "214    OH      Clinton County        19305       6558      12409      34.58\n",
       "215    OH     Cuyahoga County       665352     458422     199880      69.64\n",
       "216    OH     Franklin County       560325     334709     218486      60.50\n",
       "217    OH     Hamilton County       425086     225213     195530      53.53\n",
       "218    OH     Highland County        19186       6856      11907      36.54\n",
       "219    OH      Hocking County        12961       6259       6364      49.58\n",
       "220    OH      Licking County        82356      33932      46918      41.97\n",
       "221    OH      Madison County        17454       6532      10606      38.11\n",
       "\n",
       "[222 rows x 6 columns]"
      ]
     },
     "execution_count": 19,
     "metadata": {},
     "output_type": "execute_result"
    }
   ],
   "source": [
    "df_swing"
   ]
  },
  {
   "cell_type": "code",
   "execution_count": 20,
   "metadata": {},
   "outputs": [],
   "source": [
    "dem_share = df_swing['dem_share']\n",
    "total_votes = df_swing['total_votes']\n",
    "#total_votes"
   ]
  },
  {
   "cell_type": "code",
   "execution_count": 21,
   "metadata": {},
   "outputs": [
    {
     "data": {
      "image/png": "[encoded data removed]",
      "text/plain": [
       "<Figure size 432x288 with 1 Axes>"
      ]
     },
     "metadata": {},
     "output_type": "display_data"
    }
   ],
   "source": [
    "_ = plt.plot(total_votes/1000, dem_share,\n",
    "            marker='.', linestyle='none')\n",
    "_ = plt.xlabel('total votes (thousands)')\n",
    "_ = plt.ylabel('percent vote for Obama')"
   ]
  },
  {
   "cell_type": "markdown",
   "metadata": {},
   "source": [
    "### Covariance\n",
    "- A measure of how two quantities vary *together*\n",
    "$$ covariance~=~\\frac{1}{n}\\displaystyle\\sum_{i=1}^{n} (x_i-\\bar{x})(y_i-\\bar{y}) $$"
   ]
  },
  {
   "cell_type": "markdown",
   "metadata": {},
   "source": [
    "### Pearson correlation coefficient\n",
    "$$ \\rho = Pearson~correlation = \\frac{covariance}{(std~of~x)(std~of~y)} $$\n",
    "<br>\n",
    "$$ = \\frac{variablity~due~to~codependence}{independent~variability} $$"
   ]
  },
  {
   "cell_type": "code",
   "execution_count": 22,
   "metadata": {},
   "outputs": [
    {
     "data": {
      "image/png": "[encoded data removed]",
      "text/plain": [
       "<Figure size 432x288 with 1 Axes>"
      ]
     },
     "metadata": {},
     "output_type": "display_data"
    }
   ],
   "source": [
    "_ = plt.plot(versicolor_petal_length, versicolor_petal_width, marker='.', linestyle='none')\n",
    "_ = plt.xlabel('petal length')\n",
    "_ = plt.ylabel('petal width')\n",
    "plt.show()"
   ]
  },
  {
   "cell_type": "code",
   "execution_count": 26,
   "metadata": {},
   "outputs": [
    {
     "name": "stdout",
     "output_type": "stream",
     "text": [
      "[[0.22081633 0.07310204]\n",
      " [0.07310204 0.03910612]]\n"
     ]
    }
   ],
   "source": [
    "# Computing the covariance\n",
    "covariance_matrix = np.cov(versicolor_petal_length, versicolor_petal_width)\n",
    "print(covariance_matrix)"
   ]
  },
  {
   "cell_type": "code",
   "execution_count": 27,
   "metadata": {},
   "outputs": [
    {
     "name": "stdout",
     "output_type": "stream",
     "text": [
      "0.07310204081632653\n"
     ]
    }
   ],
   "source": [
    "petal_cov = covariance_matrix[0,1]\n",
    "print(petal_cov)"
   ]
  },
  {
   "cell_type": "code",
   "execution_count": 28,
   "metadata": {},
   "outputs": [
    {
     "name": "stdout",
     "output_type": "stream",
     "text": [
      "0.7866680885228169\n"
     ]
    }
   ],
   "source": [
    "def pearson_r(x,y):\n",
    "    corr_mat = np.corrcoef(x,y)\n",
    "    return corr_mat[0,1]\n",
    "\n",
    "r = pearson_r(versicolor_petal_length, versicolor_petal_width)\n",
    "print(r)"
   ]
  },
  {
   "cell_type": "code",
   "execution_count": null,
   "metadata": {},
   "outputs": [],
   "source": []
  }
 ],
 "metadata": {
  "kernelspec": {
   "display_name": "Python 3",
   "language": "python",
   "name": "python3"
  },
  "language_info": {
   "codemirror_mode": {
    "name": "ipython",
    "version": 3
   },
   "file_extension": ".py",
   "mimetype": "text/x-python",
   "name": "python",
   "nbconvert_exporter": "python",
   "pygments_lexer": "ipython3",
   "version": "3.6.5"
  }
 },
 "nbformat": 4,
 "nbformat_minor": 2
}
