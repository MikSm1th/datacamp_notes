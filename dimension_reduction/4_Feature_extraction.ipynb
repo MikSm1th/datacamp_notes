{
 "cells": [
  {
   "cell_type": "code",
   "execution_count": 1,
   "metadata": {},
   "outputs": [],
   "source": [
    "import numpy as np\n",
    "import pandas as pd\n",
    "from sklearn.model_selection import train_test_split\n",
    "import matplotlib.pyplot as plt\n",
    "import matplotlib as mpl\n",
    "import seaborn as sns\n",
    "import warnings\n",
    "warnings.filterwarnings('ignore')"
   ]
  },
  {
   "cell_type": "code",
   "execution_count": 2,
   "metadata": {},
   "outputs": [],
   "source": [
    "sns.set_style('darkgrid')\n",
    "mpl.rcParams['figure.figsize'] = [18,10]"
   ]
  },
  {
   "cell_type": "code",
   "execution_count": 3,
   "metadata": {
    "jupyter": {
     "source_hidden": true
    }
   },
   "outputs": [],
   "source": [
    "non_numeric = ['BMI_class', 'Height_class', 'Gender', 'Component', 'Branch']\n",
    "regression = ['BMI_class', 'Height_class', 'Gender', 'Component', 'Branch', 'BMI']\n",
    "\n",
    "def load_ansur(cols_to_drop, test_size, model_type='class'):\n",
    "    df_m = pd.read_csv('data/ANSUR_II_MALE.csv')\n",
    "    df_f = pd.read_csv('data/ANSUR_II_FEMALE.csv')\n",
    "    ansur_df = pd.concat([df_m, df_f], axis=0)\n",
    "    \n",
    "    if model_type == 'class': \n",
    "        X = ansur_df.drop(non_numeric, axis=1)\n",
    "        y = ansur_df['Gender']\n",
    "        X_train, X_test, y_train, y_test = train_test_split(X, y, test_size=test_size)\n",
    "    elif model_type == 'reg':\n",
    "        X = ansur_df.drop(regression, axis=1)\n",
    "        y = ansur_df[\"BMI\"]\n",
    "        X_train, X_test, y_train, y_test = train_test_split(X, y, test_size=test_size, random_state=0)\n",
    "    else:\n",
    "        print('please specify model type')\n",
    "        \n",
    "    return X, y, X_train, X_test, y_train, y_test"
   ]
  },
  {
   "cell_type": "code",
   "execution_count": 4,
   "metadata": {
    "jupyter": {
     "source_hidden": true
    }
   },
   "outputs": [],
   "source": [
    "def load_pima(cols_to_drop):\n",
    "    df = pd.read_csv('data/PimaIndians.csv')\n",
    "\n",
    "    X = df.drop(cols_to_drop, axis=1)\n",
    "    y = df['test']\n",
    "    X_train, X_test, y_train, y_test = train_test_split(X, y, test_size=0.3)\n",
    "    return X, y, X_train, X_test, y_train, y_test\n",
    "\n",
    "X, y, X_train, X_test, y_train, y_test = load_pima('test')"
   ]
  },
  {
   "cell_type": "markdown",
   "metadata": {},
   "source": [
    "# Feature extraction \n",
    "### Feature generation "
   ]
  },
  {
   "cell_type": "code",
   "execution_count": 6,
   "metadata": {},
   "outputs": [
    {
     "data": {
      "text/html": [
       "<div>\n",
       "<style scoped>\n",
       "    .dataframe tbody tr th:only-of-type {\n",
       "        vertical-align: middle;\n",
       "    }\n",
       "\n",
       "    .dataframe tbody tr th {\n",
       "        vertical-align: top;\n",
       "    }\n",
       "\n",
       "    .dataframe thead th {\n",
       "        text-align: right;\n",
       "    }\n",
       "</style>\n",
       "<table border=\"1\" class=\"dataframe\">\n",
       "  <thead>\n",
       "    <tr style=\"text-align: right;\">\n",
       "      <th></th>\n",
       "      <th>storeID</th>\n",
       "      <th>product</th>\n",
       "      <th>quantity</th>\n",
       "      <th>revenue</th>\n",
       "    </tr>\n",
       "  </thead>\n",
       "  <tbody>\n",
       "    <tr>\n",
       "      <th>0</th>\n",
       "      <td>A</td>\n",
       "      <td>Apples</td>\n",
       "      <td>1811</td>\n",
       "      <td>9300.6</td>\n",
       "    </tr>\n",
       "    <tr>\n",
       "      <th>1</th>\n",
       "      <td>A</td>\n",
       "      <td>Bananas</td>\n",
       "      <td>1003</td>\n",
       "      <td>3375.2</td>\n",
       "    </tr>\n",
       "    <tr>\n",
       "      <th>2</th>\n",
       "      <td>A</td>\n",
       "      <td>Oranges</td>\n",
       "      <td>1604</td>\n",
       "      <td>8528.5</td>\n",
       "    </tr>\n",
       "  </tbody>\n",
       "</table>\n",
       "</div>"
      ],
      "text/plain": [
       "  storeID  product  quantity  revenue\n",
       "0       A   Apples      1811   9300.6\n",
       "1       A  Bananas      1003   3375.2\n",
       "2       A  Oranges      1604   8528.5"
      ]
     },
     "execution_count": 6,
     "metadata": {},
     "output_type": "execute_result"
    }
   ],
   "source": [
    "sales_df = pd.read_csv('data/grocery_sales.csv')\n",
    "sales_df.head(3)"
   ]
  },
  {
   "cell_type": "code",
   "execution_count": 8,
   "metadata": {},
   "outputs": [
    {
     "name": "stdout",
     "output_type": "stream",
     "text": [
      "  storeID  product     price\n",
      "0       A   Apples  5.135616\n",
      "1       A  Bananas  3.365105\n",
      "2       A  Oranges  5.317020\n",
      "3       B   Apples  5.143417\n",
      "4       B  Bananas  3.898517\n"
     ]
    }
   ],
   "source": [
    "# Calculate the price from the quantity sold and revenue\n",
    "sales_df['price'] = sales_df.revenue/sales_df.quantity\n",
    "\n",
    "# Drop the quantity and revenue features\n",
    "reduced_df = sales_df.drop(['quantity', 'revenue'], axis=1)\n",
    "\n",
    "print(reduced_df.head())"
   ]
  },
  {
   "cell_type": "code",
   "execution_count": 27,
   "metadata": {},
   "outputs": [
    {
     "name": "stdout",
     "output_type": "stream",
     "text": [
      "<class 'pandas.core.frame.DataFrame'>\n",
      "Int64Index: 6068 entries, 0 to 1985\n",
      "Data columns (total 95 columns):\n",
      "abdominalextensiondepthsitting    6068 non-null int64\n",
      "acromialheight                    6068 non-null int64\n",
      "acromionradialelength             6068 non-null int64\n",
      "anklecircumference                6068 non-null int64\n",
      "axillaheight                      6068 non-null int64\n",
      "balloffootcircumference           6068 non-null int64\n",
      "balloffootlength                  6068 non-null int64\n",
      "biacromialbreadth                 6068 non-null int64\n",
      "bicepscircumferenceflexed         6068 non-null int64\n",
      "bicristalbreadth                  6068 non-null int64\n",
      "bideltoidbreadth                  6068 non-null int64\n",
      "bimalleolarbreadth                6068 non-null int64\n",
      "bitragionchinarc                  6068 non-null int64\n",
      "bitragionsubmandibulararc         6068 non-null int64\n",
      "bizygomaticbreadth                6068 non-null int64\n",
      "buttockcircumference              6068 non-null int64\n",
      "buttockdepth                      6068 non-null int64\n",
      "buttockheight                     6068 non-null int64\n",
      "buttockkneelength                 6068 non-null int64\n",
      "buttockpopliteallength            6068 non-null int64\n",
      "calfcircumference                 6068 non-null int64\n",
      "cervicaleheight                   6068 non-null int64\n",
      "chestbreadth                      6068 non-null int64\n",
      "chestcircumference                6068 non-null int64\n",
      "chestdepth                        6068 non-null int64\n",
      "chestheight                       6068 non-null int64\n",
      "crotchheight                      6068 non-null int64\n",
      "crotchlengthomphalion             6068 non-null int64\n",
      "crotchlengthposterioromphalion    6068 non-null int64\n",
      "earbreadth                        6068 non-null int64\n",
      "earlength                         6068 non-null int64\n",
      "earprotrusion                     6068 non-null int64\n",
      "elbowrestheight                   6068 non-null int64\n",
      "eyeheightsitting                  6068 non-null int64\n",
      "footbreadthhorizontal             6068 non-null int64\n",
      "footlength                        6068 non-null int64\n",
      "forearmcenterofgriplength         6068 non-null int64\n",
      "forearmcircumferenceflexed        6068 non-null int64\n",
      "forearmforearmbreadth             6068 non-null int64\n",
      "forearmhandlength                 6068 non-null int64\n",
      "functionalleglength               6068 non-null int64\n",
      "handbreadth                       6068 non-null int64\n",
      "handcircumference                 6068 non-null int64\n",
      "handlength                        6068 non-null int64\n",
      "headbreadth                       6068 non-null int64\n",
      "headcircumference                 6068 non-null int64\n",
      "headlength                        6068 non-null int64\n",
      "heelanklecircumference            6068 non-null int64\n",
      "heelbreadth                       6068 non-null int64\n",
      "hipbreadth                        6068 non-null int64\n",
      "hipbreadthsitting                 6068 non-null int64\n",
      "iliocristaleheight                6068 non-null int64\n",
      "interpupillarybreadth             6068 non-null int64\n",
      "interscyei                        6068 non-null int64\n",
      "interscyeii                       6068 non-null int64\n",
      "kneeheightmidpatella              6068 non-null int64\n",
      "kneeheightsitting                 6068 non-null int64\n",
      "lateralfemoralepicondyleheight    6068 non-null int64\n",
      "lateralmalleolusheight            6068 non-null int64\n",
      "lowerthighcircumference           6068 non-null int64\n",
      "mentonsellionlength               6068 non-null int64\n",
      "neckcircumference                 6068 non-null int64\n",
      "neckcircumferencebase             6068 non-null int64\n",
      "overheadfingertipreachsitting     6068 non-null int64\n",
      "palmlength                        6068 non-null int64\n",
      "poplitealheight                   6068 non-null int64\n",
      "radialestylionlength              6068 non-null int64\n",
      "shouldercircumference             6068 non-null int64\n",
      "shoulderelbowlength               6068 non-null int64\n",
      "shoulderlength                    6068 non-null int64\n",
      "sittingheight                     6068 non-null int64\n",
      "sleevelengthspinewrist            6068 non-null int64\n",
      "sleeveoutseam                     6068 non-null int64\n",
      "span                              6068 non-null int64\n",
      "suprasternaleheight               6068 non-null int64\n",
      "tenthribheight                    6068 non-null int64\n",
      "thighcircumference                6068 non-null int64\n",
      "thighclearance                    6068 non-null int64\n",
      "thumbtipreach                     6068 non-null int64\n",
      "tibialheight                      6068 non-null int64\n",
      "tragiontopofhead                  6068 non-null int64\n",
      "trochanterionheight               6068 non-null int64\n",
      "verticaltrunkcircumferenceusa     6068 non-null int64\n",
      "waistbacklength                   6068 non-null int64\n",
      "waistbreadth                      6068 non-null int64\n",
      "waistcircumference                6068 non-null int64\n",
      "waistdepth                        6068 non-null int64\n",
      "waistfrontlengthsitting           6068 non-null int64\n",
      "waistheightomphalion              6068 non-null int64\n",
      "wristcircumference                6068 non-null int64\n",
      "wristheight                       6068 non-null int64\n",
      "weight_kg                         6068 non-null float64\n",
      "stature_m                         6068 non-null float64\n",
      "BMI                               6068 non-null float64\n",
      "gender                            6068 non-null int64\n",
      "dtypes: float64(3), int64(92)\n",
      "memory usage: 4.4 MB\n"
     ]
    }
   ],
   "source": [
    "X, y, X_train, X_test, y_train, y_test = load_ansur(non_numeric, 0.3)\n",
    "y = y.map({\"Male\":1, \"Female\":0})\n",
    "df = X\n",
    "df['gender'] = y\n",
    "#df.info()"
   ]
  },
  {
   "cell_type": "markdown",
   "metadata": {},
   "source": [
    "### Principle component analysis"
   ]
  },
  {
   "cell_type": "code",
   "execution_count": 28,
   "metadata": {},
   "outputs": [
    {
     "name": "stdout",
     "output_type": "stream",
     "text": [
      "[[-3.51674371e+00  1.59374878e+00 -8.08230517e-01 ... -4.36363115e-02\n",
      "   5.28128161e-02  1.52702201e-02]\n",
      " [ 8.30842190e-01  2.06436542e+00 -1.25006217e+00 ...  5.15906913e-02\n",
      "  -2.67285268e-02  1.98695000e-02]\n",
      " [-5.71342970e+00 -1.17930607e+00 -1.09541044e+00 ... -7.09899034e-02\n",
      "  -3.26406702e-03 -6.79468060e-02]\n",
      " ...\n",
      " [ 3.92273351e+00 -2.42152121e+00  2.42973003e+00 ...  1.08307643e-01\n",
      "  -1.30813641e-01  1.82733652e-02]\n",
      " [ 1.08510311e+01 -1.41402737e+00  1.45659251e+00 ...  1.51538913e-01\n",
      "   2.51262482e-02  6.86466609e-02]\n",
      " [ 7.75056165e+00  1.05226348e+00  3.32876020e-01 ...  5.31085541e-02\n",
      "   2.37015728e-02  1.09083700e-02]]\n"
     ]
    }
   ],
   "source": [
    "from sklearn.preprocessing import StandardScaler\n",
    "\n",
    "scaler = StandardScaler()\n",
    "std_df = scaler.fit_transform(df)\n",
    "\n",
    "from sklearn.decomposition import PCA\n",
    "\n",
    "pca = PCA()\n",
    "print(pca.fit_transform(std_df))"
   ]
  },
  {
   "cell_type": "code",
   "execution_count": null,
   "metadata": {},
   "outputs": [],
   "source": []
  },
  {
   "cell_type": "code",
   "execution_count": null,
   "metadata": {},
   "outputs": [],
   "source": []
  },
  {
   "cell_type": "code",
   "execution_count": null,
   "metadata": {},
   "outputs": [],
   "source": []
  },
  {
   "cell_type": "code",
   "execution_count": null,
   "metadata": {},
   "outputs": [],
   "source": [
    "!jupyter nbconvert --to html 3_Screening_for_model_accuracy.ipynb"
   ]
  },
  {
   "cell_type": "code",
   "execution_count": null,
   "metadata": {},
   "outputs": [],
   "source": [
    "!../gitbsh > /dev/null 2>&1"
   ]
  }
 ],
 "metadata": {
  "kernelspec": {
   "display_name": "Python 3",
   "language": "python",
   "name": "python3"
  },
  "language_info": {
   "codemirror_mode": {
    "name": "ipython",
    "version": 3
   },
   "file_extension": ".py",
   "mimetype": "text/x-python",
   "name": "python",
   "nbconvert_exporter": "python",
   "pygments_lexer": "ipython3",
   "version": "3.6.7"
  }
 },
 "nbformat": 4,
 "nbformat_minor": 4
}
