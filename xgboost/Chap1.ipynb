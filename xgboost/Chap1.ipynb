{
 "cells": [
  {
   "cell_type": "code",
   "execution_count": 1,
   "metadata": {},
   "outputs": [],
   "source": [
    "import numpy as np\n",
    "import pandas as pd\n",
    "from sklearn.model_selection import train_test_split\n",
    "import matplotlib.pyplot as plt\n",
    "import matplotlib as mpl\n",
    "import seaborn as sns\n",
    "import warnings\n",
    "warnings.filterwarnings('ignore')"
   ]
  },
  {
   "cell_type": "code",
   "execution_count": 2,
   "metadata": {},
   "outputs": [],
   "source": [
    "sns.set_style('darkgrid')\n",
    "mpl.rcParams['figure.figsize'] = [12,8]"
   ]
  },
  {
   "cell_type": "markdown",
   "metadata": {},
   "source": [
    "### Introducing XGBoost\n",
    "- Opitmied gradient-boosting machine-learning library\n",
    "- Originally written in C++\n",
    "- Has APIs in several languages:\n",
    "    - Python, R, Scala, Julia, Java\n",
    "\n",
    "#### What make XGBoost so popular?\n",
    "- Speed and performance\n",
    "- Core algorithm is parallelizable\n",
    "- Consistently outperforms single-algorithm methods\n",
    "- State of the art performance in many ML tasks\n",
    "\n",
    "#### XGBoost: a quick example\n",
    "```python\n",
    "import xgboost as xgb\n",
    "import pandas as pd\n",
    "import numpy as np\n",
    "from sklearn.model_selection import train_test_split\n",
    "\n",
    "class_data = pd.read_csv('classification.csv')\n",
    "X, y = class_data.iloc[:,:-1], class_data.iloc[;,-1]\n",
    "X_train, X_test, y_train, y_test = train_test_split(X, y,\n",
    "                                   test_size=0.2,\n",
    "                                   random_state=123)\n",
    "\n",
    "xg_cl = xgb.XGBClassifier(objective='binary:logistic',\n",
    "                          n_estimators=10,\n",
    "                          seed=123)\n",
    "\n",
    "xg_cl.fit(X_train, y_train)\n",
    "\n",
    "preds = xg_cl.predict(X_test)\n",
    "accuracy = float(np.sum(preds==y_test))/y_test.shape[0]\n",
    "\n",
    "print('accuracy: %f' % (accuracy))\n",
    "```"
   ]
  },
  {
   "cell_type": "code",
   "execution_count": null,
   "metadata": {},
   "outputs": [],
   "source": []
  }
 ],
 "metadata": {
  "kernelspec": {
   "display_name": "Python 3",
   "language": "python",
   "name": "python3"
  },
  "language_info": {
   "codemirror_mode": {
    "name": "ipython",
    "version": 3
   },
   "file_extension": ".py",
   "mimetype": "text/x-python",
   "name": "python",
   "nbconvert_exporter": "python",
   "pygments_lexer": "ipython3",
   "version": "3.6.7"
  }
 },
 "nbformat": 4,
 "nbformat_minor": 2
}
