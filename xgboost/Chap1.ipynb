{
 "cells": [
  {
   "cell_type": "code",
   "execution_count": 1,
   "metadata": {},
   "outputs": [],
   "source": [
    "import numpy as np\n",
    "import pandas as pd\n",
    "from sklearn.model_selection import train_test_split\n",
    "import matplotlib.pyplot as plt\n",
    "import matplotlib as mpl\n",
    "import seaborn as sns\n",
    "import warnings\n",
    "warnings.filterwarnings('ignore')"
   ]
  },
  {
   "cell_type": "code",
   "execution_count": 2,
   "metadata": {},
   "outputs": [],
   "source": [
    "sns.set_style('darkgrid')\n",
    "mpl.rcParams['figure.figsize'] = [12,8]"
   ]
  },
  {
   "cell_type": "markdown",
   "metadata": {},
   "source": [
    "### Introducing XGBoost\n",
    "- Opitmied gradient-boosting machine-learning library\n",
    "- Originally written in C++\n",
    "- Has APIs in several languages:\n",
    "    - Python, R, Scala, Julia, Java\n",
    "\n",
    "#### What make XGBoost so popular?\n",
    "- Speed and performance\n",
    "- Core algorithm is parallelizable\n",
    "- Consistently outperforms single-algorithm methods\n",
    "- State of the art performance in many ML tasks\n",
    "\n",
    "#### XGBoost: a quick example\n",
    "```python\n",
    "import xgboost as xgb\n",
    "import pandas as pd\n",
    "import numpy as np\n",
    "from sklearn.model_selection import train_test_split\n",
    "\n",
    "class_data = pd.read_csv('classification.csv')\n",
    "X, y = class_data.iloc[:,:-1], class_data.iloc[;,-1]\n",
    "X_train, X_test, y_train, y_test = train_test_split(X, y,\n",
    "                                   test_size=0.2,\n",
    "                                   random_state=123)\n",
    "\n",
    "xg_cl = xgb.XGBClassifier(objective='binary:logistic',\n",
    "                          n_estimators=10,\n",
    "                          seed=123)\n",
    "\n",
    "xg_cl.fit(X_train, y_train)\n",
    "\n",
    "preds = xg_cl.predict(X_test)\n",
    "accuracy = float(np.sum(preds==y_test))/y_test.shape[0]\n",
    "\n",
    "print('accuracy: %f' % (accuracy))\n",
    "```"
   ]
  },
  {
   "cell_type": "code",
   "execution_count": 3,
   "metadata": {},
   "outputs": [],
   "source": [
    "def encode_objects(df, column):\n",
    "    \"\"\"\n",
    "    Simple label encoding for a dataframe column\n",
    "    \n",
    "    Parameters: \n",
    "    df : pandas DataFrame\n",
    "    col: column to be encoded\n",
    "  \n",
    "    Returns: \n",
    "    df[col_enc]: new column with values encoded  \n",
    "    \n",
    "    \"\"\"\n",
    "    from sklearn.preprocessing import LabelEncoder\n",
    "    le = LabelEncoder()\n",
    "    df['{}_enc'.format(column)] = le.fit_transform(df[column])\n",
    "    df.drop(column, axis=1, inplace=True)"
   ]
  },
  {
   "cell_type": "code",
   "execution_count": 14,
   "metadata": {},
   "outputs": [],
   "source": [
    "churn_data = pd.read_csv('data/telco_churn.csv')\n",
    "churn_data_obj_columns = churn_data.select_dtypes(include=['object'])\n",
    "for col in churn_data_obj_columns:\n",
    "    encode_objects(churn_data, col)\n",
    "churn_data = churn_data.drop(labels = 'customerID_enc', axis=1)\n",
    "y = churn_data[\"Churn_enc\"].values\n",
    "X = churn_data.drop(labels = [\"Churn_enc\"],axis = 1)"
   ]
  },
  {
   "cell_type": "code",
   "execution_count": 16,
   "metadata": {},
   "outputs": [
    {
     "name": "stdout",
     "output_type": "stream",
     "text": [
      "accuracy: 0.784244\n"
     ]
    }
   ],
   "source": [
    "# Import xgboost\n",
    "import xgboost as xgb\n",
    "\n",
    "# Create arrays for the features and the target: X, y\n",
    "X, y = churn_data.iloc[:,:-1], churn_data.iloc[:,-1]\n",
    "\n",
    "# Create the training and test sets\n",
    "# X_train, X_test, y_train, y_test= train_test_split(X, y, test_size=0.2, random_state=123)\n",
    "\n",
    "# Instantiate the XGBClassifier: xg_cl\n",
    "xg_cl = xgb.XGBClassifier(objective='binary:logistic', n_estimators=10, seed=123)\n",
    "\n",
    "# Fit the classifier to the training set\n",
    "xg_cl.fit(X_train, y_train)\n",
    "\n",
    "# Predict the labels of the test set: preds\n",
    "preds = xg_cl.predict(X_test)\n",
    "\n",
    "# Compute the accuracy: accuracy\n",
    "accuracy = float(np.sum(preds==y_test))/y_test.shape[0]\n",
    "print(\"accuracy: %f\" % (accuracy))"
   ]
  },
  {
   "cell_type": "markdown",
   "metadata": {},
   "source": [
    "### Decison trees as base learners\n",
    "- Base learner - Individual learning algorithm in an ensemble algorithm\n",
    "- Composed of a series of binary questions\n",
    "- Predictions happen at the leaves of the tree\n",
    "- Constructed iteratively (one decision at a time)\n",
    "    - Until a stopping criterion is met\n",
    "\n",
    "### CART: Classification and Regression Trees\n",
    "- Each leaf always contains a real-valued score\n",
    "- Can later be converted into categories \n"
   ]
  },
  {
   "cell_type": "code",
   "execution_count": 18,
   "metadata": {},
   "outputs": [],
   "source": [
    "from sklearn.datasets import load_breast_cancer\n",
    "X = load_breast_cancer().data\n",
    "y = load_breast_cancer().target"
   ]
  },
  {
   "cell_type": "code",
   "execution_count": 22,
   "metadata": {},
   "outputs": [
    {
     "name": "stdout",
     "output_type": "stream",
     "text": [
      "accuracy: 0.9736842105263158\n"
     ]
    }
   ],
   "source": [
    "# Import the necessary modules\n",
    "from sklearn.model_selection import train_test_split\n",
    "from sklearn.tree import DecisionTreeClassifier\n",
    "\n",
    "# Create the training and test sets\n",
    "X_train, X_test, y_train, y_test = train_test_split(X, y, test_size=0.2, random_state=123)\n",
    "\n",
    "# Instantiate the classifier: dt_clf_4\n",
    "dt_clf_4 = DecisionTreeClassifier(max_depth=4)\n",
    "\n",
    "# Fit the classifier to the training set\n",
    "dt_clf_4.fit(X_train, y_train)\n",
    "\n",
    "# Predict the labels of the test set: y_pred_4\n",
    "y_pred_4 = dt_clf_4.predict(X_test)\n",
    "\n",
    "# Compute the accuracy of the predictions: accuracy\n",
    "accuracy = float(np.sum(y_pred_4==y_test))/y_test.shape[0]\n",
    "print(\"accuracy:\", accuracy)"
   ]
  },
  {
   "cell_type": "markdown",
   "metadata": {},
   "source": [
    "### Boosting overview\n",
    "- Not a specific machine learning algorithm \n",
    "- Concept that can be applied to a set of machine learning models\n",
    "    - \"Meta-algorithm\"\n",
    "- Ensemble meta-algorithm ues to convert many weak learners into a strong learner\n",
    "\n",
    "### Weak learners and strong learners\n",
    "- Weak learner: ML algorithm that is slightly better than chance\n",
    "    - Example: Decision tree whose predictions are slightly better that 50%\n",
    "- Boosting converts a collection of weak learners into a strong learner\n",
    "- Strong learner: Any algorithm that can be tuned to achieve good performance\n",
    "\n",
    "### How boosting is accomplished\n",
    "- Iteratively learning a set of weak models on subsets of the data\n",
    "- Weighing each weak prediction according to each weak learner's performance\n",
    "- Combine the weighted predictions to obtain a single weighted prediction\n",
    "\n",
    "### Model evaluation through cross-validation\n",
    "- Cross validation: Robust method for estimating the performance of a model on unseen data \n",
    "- Generates many non-overlapping train/test splits on training data\n",
    "- Reports the average test set performance across all data splits\n",
    "\n",
    "```python\n",
    "import xgboost as xgb\n",
    "import pandas as pd\n",
    "\n",
    "churn_data = pd.read_csv('classificatio_data.csv')\n",
    "\n",
    "churn_dmatrix = xgb.DMatrix(data=churn_data.iloc[:, :-1],\n",
    "                            label=churn_data.month_5_still_here)\n",
    "\n",
    "params = {'objective':'binary:logistic', 'max_depth':4}\n",
    "\n",
    "cv_results = xgb.cv(dtrain=churn_dmatrix, params=params, nfold=4,\n",
    "                    num_boost_round=10, metrics = 'error', as_pandas=True)\n",
    "\n",
    "print(\"Accuracy: %f\" %((1-cv_results['test-error-mean']).iloc[-1]))\n",
    "```"
   ]
  },
  {
   "cell_type": "code",
   "execution_count": 23,
   "metadata": {},
   "outputs": [
    {
     "name": "stdout",
     "output_type": "stream",
     "text": [
      "   train-error-mean  train-error-std  test-error-mean  test-error-std\n",
      "0          0.217876         0.003688         0.220787        0.010877\n",
      "1          0.202968         0.005986         0.205311        0.008783\n",
      "2          0.200838         0.004909         0.204033        0.006955\n",
      "3          0.199205         0.002299         0.206730        0.006264\n",
      "4          0.197430         0.001693         0.204743        0.007826\n",
      "0.7952573333333334\n"
     ]
    }
   ],
   "source": [
    "churn_data = pd.read_csv('data/telco_churn.csv')\n",
    "churn_data_obj_columns = churn_data.select_dtypes(include=['object'])\n",
    "for col in churn_data_obj_columns:\n",
    "    encode_objects(churn_data, col)\n",
    "churn_data = churn_data.drop(labels = 'customerID_enc', axis=1)\n",
    "y = churn_data[\"Churn_enc\"].values\n",
    "X = churn_data.drop(labels = [\"Churn_enc\"],axis = 1)\n",
    "\n",
    "# Create the DMatrix from X and y: churn_dmatrix\n",
    "churn_dmatrix = xgb.DMatrix(data=X, label=y)\n",
    "\n",
    "# Create the parameter dictionary: params\n",
    "params = {\"objective\":\"reg:logistic\", \"max_depth\":3}\n",
    "\n",
    "# Perform cross-validation: cv_results\n",
    "cv_results = xgb.cv(dtrain=churn_dmatrix, params=params, \n",
    "                  nfold=3, num_boost_round=5, \n",
    "                  metrics=\"error\", as_pandas=True, seed=123)\n",
    "\n",
    "# Print cv_results\n",
    "print(cv_results)\n",
    "\n",
    "# Print the accuracy\n",
    "print(((1-cv_results[\"test-error-mean\"]).iloc[-1]))"
   ]
  },
  {
   "cell_type": "code",
   "execution_count": 24,
   "metadata": {},
   "outputs": [
    {
     "name": "stdout",
     "output_type": "stream",
     "text": [
      "   train-auc-mean  train-auc-std  test-auc-mean  test-auc-std\n",
      "0        0.812836       0.003338       0.807141      0.005519\n",
      "1        0.834186       0.004590       0.826842      0.006371\n",
      "2        0.840441       0.002271       0.830180      0.006882\n",
      "3        0.844604       0.001277       0.833729      0.007002\n",
      "4        0.846892       0.000626       0.834883      0.007649\n",
      "0.8348826666666667\n"
     ]
    }
   ],
   "source": [
    "# Perform cross_validation: cv_results\n",
    "cv_results = xgb.cv(dtrain=churn_dmatrix, params=params, \n",
    "                  nfold=3, num_boost_round=5, \n",
    "                  metrics=\"auc\", as_pandas=True, seed=123)\n",
    "\n",
    "# Print cv_results\n",
    "print(cv_results)\n",
    "\n",
    "# Print the AUC\n",
    "print((cv_results[\"test-auc-mean\"]).iloc[-1])"
   ]
  },
  {
   "cell_type": "markdown",
   "metadata": {},
   "source": [
    "### When should I use XGBoost?\n",
    "- You have a large number of training examples\n",
    "    - Greater than 1000 training samples and less 100 features\n",
    "    - The number of features < number of training samples\n",
    "- You have a mixture of categorical and numeric features\n",
    "    - Or just numeric features\n",
    "### When to NOT use XGBoost\n",
    "- Image recognition\n",
    "- Computer vision\n",
    "- Natural language processing and understanding problems"
   ]
  }
 ],
 "metadata": {
  "kernelspec": {
   "display_name": "Python 3",
   "language": "python",
   "name": "python3"
  },
  "language_info": {
   "codemirror_mode": {
    "name": "ipython",
    "version": 3
   },
   "file_extension": ".py",
   "mimetype": "text/x-python",
   "name": "python",
   "nbconvert_exporter": "python",
   "pygments_lexer": "ipython3",
   "version": "3.6.7"
  }
 },
 "nbformat": 4,
 "nbformat_minor": 2
}
