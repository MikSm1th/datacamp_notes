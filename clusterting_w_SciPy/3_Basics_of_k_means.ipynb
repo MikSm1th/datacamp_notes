{
 "cells": [
  {
   "cell_type": "code",
   "execution_count": null,
   "metadata": {},
   "outputs": [],
   "source": [
    "import numpy as np\n",
    "import pandas as pd\n",
    "from sklearn.model_selection import train_test_split\n",
    "import matplotlib.pyplot as plt\n",
    "import matplotlib as mpl\n",
    "import seaborn as sns\n",
    "import warnings\n",
    "warnings.filterwarnings('ignore')"
   ]
  },
  {
   "cell_type": "code",
   "execution_count": null,
   "metadata": {},
   "outputs": [],
   "source": [
    "sns.set_style('darkgrid')\n",
    "mpl.rcParams['figure.figsize'] = [18,10]"
   ]
  },
  {
   "cell_type": "markdown",
   "metadata": {},
   "source": [
    "### Basics of k-means clustering\n",
    "\n",
    "### Why k-means clustering?\n",
    "- A critical drawback of hierarchical clustering: runtime\n",
    "- K means runs significantly faster on large datasets\n",
    "\n",
    "### Step 1; Generate cluster centers\n",
    "```python\n",
    "kmeans(obs, k_or_guess, iter, tresh, check_finite)\n",
    "```\n",
    "- `obs`: standardized observations\n",
    "- `k_or_guess`: number of clusters\n",
    "- `iter`: number of iterations (default: 20)\n",
    "- `thres`: theshold(default: 1e-50)\n",
    "- `check_finite`: whether to check if observations contain only finite numbers (default: True)\n",
    "Returns two objects: cluster centers, distortion\n",
    "\n",
    "### Step 2: Generate cluster labels\n",
    "```python\n",
    "vq(obs, code_book, check_finite=True)\n",
    "```\n",
    "- `obs`: standardized observations\n",
    "- `code_book`: cluster centers\n",
    "- `check_finite`: whether to check if observations contain only finite numbers (default: True)\n",
    "Returns two objects: a list of cluster labels, a list of distortions\n",
    "\n",
    "### A note on distortions\n",
    "- `kmeans` returns a single value of distortions\n",
    "- `vq` returns a list of distortions"
   ]
  },
  {
   "cell_type": "code",
   "execution_count": null,
   "metadata": {},
   "outputs": [],
   "source": [
    "x_coordinate = [17, 20, 35, 14, 37, 33, 14, 30, 35, 17, 11, 21, 13, 10, 81, 84, 87, 83, 90, 97, 94, 88, 89, 93, 92, 82, 81, 92, 91, 22, 23, 25, 25, 27, 17, 17]\n",
    "y_coordinate = [  4,   6,   0,   0,   4,   3,   1,   6,   5,   4,   6,  10,   8, 10,  97,  94,  99,  95,  95,  97,  99,  99,  94,  99,  90,  98, 100,  93,  98,  15,  10,   0,  10,   7,  17,  15]"
   ]
  },
  {
   "cell_type": "code",
   "execution_count": null,
   "metadata": {},
   "outputs": [],
   "source": [
    "from scipy.cluster.vq import whiten\n",
    "df = pd.DataFrame({'x_coordinate': x_coordinate,\n",
    "                  'y_coordinate': y_coordinate,\n",
    "                  'x_scaled': whiten(x_coordinate),\n",
    "                  'y_scaled': whiten(y_coordinate)})"
   ]
  },
  {
   "cell_type": "code",
   "execution_count": null,
   "metadata": {},
   "outputs": [],
   "source": []
  }
 ],
 "metadata": {
  "kernelspec": {
   "display_name": "Python 3",
   "language": "python",
   "name": "python3"
  },
  "language_info": {
   "codemirror_mode": {
    "name": "ipython",
    "version": 3
   },
   "file_extension": ".py",
   "mimetype": "text/x-python",
   "name": "python",
   "nbconvert_exporter": "python",
   "pygments_lexer": "ipython3",
   "version": "3.6.7"
  }
 },
 "nbformat": 4,
 "nbformat_minor": 4
}
