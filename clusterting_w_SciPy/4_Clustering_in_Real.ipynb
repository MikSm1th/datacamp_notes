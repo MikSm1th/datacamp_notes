{
 "cells": [
  {
   "cell_type": "code",
   "execution_count": 1,
   "metadata": {},
   "outputs": [],
   "source": [
    "import numpy as np\n",
    "import pandas as pd\n",
    "from sklearn.model_selection import train_test_split\n",
    "import matplotlib.pyplot as plt\n",
    "import matplotlib as mpl\n",
    "import seaborn as sns\n",
    "import warnings\n",
    "warnings.filterwarnings('ignore')"
   ]
  },
  {
   "cell_type": "code",
   "execution_count": 2,
   "metadata": {},
   "outputs": [],
   "source": [
    "sns.set_style('darkgrid')\n",
    "mpl.rcParams['figure.figsize'] = [18,10]"
   ]
  },
  {
   "cell_type": "markdown",
   "metadata": {},
   "source": [
    "### Dominant colors in images\n",
    "- All images consist of pixels \n",
    "- Each pixel has three values :RGB\n",
    "- Perform k-means on standardized RGB values to find cluster centers\n",
    "- Uses: Identify features in satellite images\n",
    "\n",
    "### Tools to find dominant colors\n",
    "- Convert image to pixels: `matplotlib.image.imread`\n",
    "- Display colors of cluster centers: `matplotlib.pyplot.imshow`"
   ]
  },
  {
   "cell_type": "code",
   "execution_count": 3,
   "metadata": {},
   "outputs": [
    {
     "data": {
      "text/plain": [
       "(810, 1305, 3)"
      ]
     },
     "execution_count": 3,
     "metadata": {},
     "output_type": "execute_result"
    }
   ],
   "source": [
    "import matplotlib.image as img\n",
    "image = img.imread('data/sea.jpg')\n",
    "image.shape"
   ]
  },
  {
   "cell_type": "code",
   "execution_count": 5,
   "metadata": {},
   "outputs": [],
   "source": [
    "r = []\n",
    "g = []\n",
    "b = []\n",
    "\n",
    "for row in image:\n",
    "    for pixel in row: \n",
    "        # A pixel contains RGB values\n",
    "        temp_r, temp_g, temp_b = pixel\n",
    "        r.append(temp_r)\n",
    "        g.append(temp_g)\n",
    "        b.append(temp_b)"
   ]
  },
  {
   "cell_type": "code",
   "execution_count": 10,
   "metadata": {},
   "outputs": [],
   "source": [
    "from scipy.cluster.vq import whiten"
   ]
  },
  {
   "cell_type": "code",
   "execution_count": 11,
   "metadata": {},
   "outputs": [
    {
     "data": {
      "text/html": [
       "<div>\n",
       "<style scoped>\n",
       "    .dataframe tbody tr th:only-of-type {\n",
       "        vertical-align: middle;\n",
       "    }\n",
       "\n",
       "    .dataframe tbody tr th {\n",
       "        vertical-align: top;\n",
       "    }\n",
       "\n",
       "    .dataframe thead th {\n",
       "        text-align: right;\n",
       "    }\n",
       "</style>\n",
       "<table border=\"1\" class=\"dataframe\">\n",
       "  <thead>\n",
       "    <tr style=\"text-align: right;\">\n",
       "      <th></th>\n",
       "      <th>red</th>\n",
       "      <th>blue</th>\n",
       "      <th>green</th>\n",
       "      <th>scaled_red</th>\n",
       "      <th>scaled_green</th>\n",
       "      <th>scaled_blue</th>\n",
       "    </tr>\n",
       "  </thead>\n",
       "  <tbody>\n",
       "    <tr>\n",
       "      <th>0</th>\n",
       "      <td>230</td>\n",
       "      <td>230</td>\n",
       "      <td>230</td>\n",
       "      <td>2.209515</td>\n",
       "      <td>2.883211</td>\n",
       "      <td>3.151454</td>\n",
       "    </tr>\n",
       "    <tr>\n",
       "      <th>1</th>\n",
       "      <td>230</td>\n",
       "      <td>230</td>\n",
       "      <td>230</td>\n",
       "      <td>2.209515</td>\n",
       "      <td>2.883211</td>\n",
       "      <td>3.151454</td>\n",
       "    </tr>\n",
       "    <tr>\n",
       "      <th>2</th>\n",
       "      <td>230</td>\n",
       "      <td>230</td>\n",
       "      <td>230</td>\n",
       "      <td>2.209515</td>\n",
       "      <td>2.883211</td>\n",
       "      <td>3.151454</td>\n",
       "    </tr>\n",
       "    <tr>\n",
       "      <th>3</th>\n",
       "      <td>230</td>\n",
       "      <td>230</td>\n",
       "      <td>230</td>\n",
       "      <td>2.209515</td>\n",
       "      <td>2.883211</td>\n",
       "      <td>3.151454</td>\n",
       "    </tr>\n",
       "    <tr>\n",
       "      <th>4</th>\n",
       "      <td>230</td>\n",
       "      <td>230</td>\n",
       "      <td>230</td>\n",
       "      <td>2.209515</td>\n",
       "      <td>2.883211</td>\n",
       "      <td>3.151454</td>\n",
       "    </tr>\n",
       "    <tr>\n",
       "      <th>...</th>\n",
       "      <td>...</td>\n",
       "      <td>...</td>\n",
       "      <td>...</td>\n",
       "      <td>...</td>\n",
       "      <td>...</td>\n",
       "      <td>...</td>\n",
       "    </tr>\n",
       "    <tr>\n",
       "      <th>1057045</th>\n",
       "      <td>26</td>\n",
       "      <td>55</td>\n",
       "      <td>46</td>\n",
       "      <td>0.249771</td>\n",
       "      <td>0.576642</td>\n",
       "      <td>0.753609</td>\n",
       "    </tr>\n",
       "    <tr>\n",
       "      <th>1057046</th>\n",
       "      <td>24</td>\n",
       "      <td>53</td>\n",
       "      <td>44</td>\n",
       "      <td>0.230558</td>\n",
       "      <td>0.551571</td>\n",
       "      <td>0.726205</td>\n",
       "    </tr>\n",
       "    <tr>\n",
       "      <th>1057047</th>\n",
       "      <td>21</td>\n",
       "      <td>52</td>\n",
       "      <td>44</td>\n",
       "      <td>0.201738</td>\n",
       "      <td>0.551571</td>\n",
       "      <td>0.712503</td>\n",
       "    </tr>\n",
       "    <tr>\n",
       "      <th>1057048</th>\n",
       "      <td>21</td>\n",
       "      <td>52</td>\n",
       "      <td>44</td>\n",
       "      <td>0.201738</td>\n",
       "      <td>0.551571</td>\n",
       "      <td>0.712503</td>\n",
       "    </tr>\n",
       "    <tr>\n",
       "      <th>1057049</th>\n",
       "      <td>25</td>\n",
       "      <td>56</td>\n",
       "      <td>48</td>\n",
       "      <td>0.240165</td>\n",
       "      <td>0.601714</td>\n",
       "      <td>0.767311</td>\n",
       "    </tr>\n",
       "  </tbody>\n",
       "</table>\n",
       "<p>1057050 rows × 6 columns</p>\n",
       "</div>"
      ],
      "text/plain": [
       "         red  blue  green  scaled_red  scaled_green  scaled_blue\n",
       "0        230   230    230    2.209515      2.883211     3.151454\n",
       "1        230   230    230    2.209515      2.883211     3.151454\n",
       "2        230   230    230    2.209515      2.883211     3.151454\n",
       "3        230   230    230    2.209515      2.883211     3.151454\n",
       "4        230   230    230    2.209515      2.883211     3.151454\n",
       "...      ...   ...    ...         ...           ...          ...\n",
       "1057045   26    55     46    0.249771      0.576642     0.753609\n",
       "1057046   24    53     44    0.230558      0.551571     0.726205\n",
       "1057047   21    52     44    0.201738      0.551571     0.712503\n",
       "1057048   21    52     44    0.201738      0.551571     0.712503\n",
       "1057049   25    56     48    0.240165      0.601714     0.767311\n",
       "\n",
       "[1057050 rows x 6 columns]"
      ]
     },
     "execution_count": 11,
     "metadata": {},
     "output_type": "execute_result"
    }
   ],
   "source": [
    "pixels = pd.DataFrame({'red': r,\n",
    "                      'blue': b,\n",
    "                      'green': g,\n",
    "                      'scaled_red': whiten(r),\n",
    "                      'scaled_green': whiten(g),\n",
    "                      'scaled_blue': whiten(b)})"
   ]
  },
  {
   "cell_type": "code",
   "execution_count": 12,
   "metadata": {},
   "outputs": [],
   "source": [
    "from scipy.cluster.vq import kmeans, vq"
   ]
  },
  {
   "cell_type": "code",
   "execution_count": 13,
   "metadata": {},
   "outputs": [
    {
     "data": {
      "image/png": "[encoded data removed]",
      "text/plain": [
       "<Figure size 1296x720 with 1 Axes>"
      ]
     },
     "metadata": {},
     "output_type": "display_data"
    }
   ],
   "source": [
    "distortions = []\n",
    "num_clusters = range(1, 11)\n",
    "\n",
    "# Create a list of distortions from the kmeans method\n",
    "for i in num_clusters: \n",
    "    cluster_centers, distortion = kmeans(pixels[['scaled_red', 'scaled_blue', 'scaled_green']], i)\n",
    "    distortions.append(distortion)\n",
    "    \n",
    "# Create a data frame with two list - number of clusters and distortions \n",
    "elbow_plot = pd.DataFrame({'num_clusters': num_clusters,\n",
    "                          'distortions': distortions})\n",
    "\n",
    "# Create a line plot of num_clusters and distortions\n",
    "sns.lineplot(x='num_clusters', y='distortions', data = elbow_plot)\n",
    "plt.xticks(num_clusters)\n",
    "plt.show()"
   ]
  },
  {
   "cell_type": "markdown",
   "metadata": {},
   "source": [
    "### Find dominant colors"
   ]
  },
  {
   "cell_type": "code",
   "execution_count": 14,
   "metadata": {},
   "outputs": [],
   "source": [
    "cluster_centers, _ = kmeans(pixels[['scaled_red', 'scaled_blue', 'scaled_green']], 2)"
   ]
  },
  {
   "cell_type": "code",
   "execution_count": 17,
   "metadata": {},
   "outputs": [],
   "source": [
    "colors = []\n",
    "\n",
    "# Find Standard Deviations \n",
    "r_std, g_std, b_std = pixels[['red', 'green', 'blue']].std()\n",
    "\n",
    "# Scale actual RGB values in range of 0-1\n",
    "for cluster_center in cluster_centers:\n",
    "    scaled_r, scaled_g, scaled_b = cluster_center\n",
    "    colors.append((\n",
    "        scaled_r * r_std/255,\n",
    "        scaled_g * g_std/255,\n",
    "        scaled_b * b_std/255\n",
    "    ))"
   ]
  },
  {
   "cell_type": "markdown",
   "metadata": {},
   "source": [
    "### Display dominant colors"
   ]
  },
  {
   "cell_type": "code",
   "execution_count": 18,
   "metadata": {},
   "outputs": [
    {
     "name": "stdout",
     "output_type": "stream",
     "text": [
      "[(0.08012482861586387, 0.37300684380669996, 0.2573556985103397), (0.892953171123333, 0.9834286890957886, 0.8213044431555168)]\n"
     ]
    }
   ],
   "source": [
    "#Dimensions: 2 x 3 (N x 3 matrix)\n",
    "print(colors)"
   ]
  },
  {
   "cell_type": "code",
   "execution_count": 19,
   "metadata": {},
   "outputs": [
    {
     "data": {
      "image/png": "[encoded data removed]",
      "text/plain": [
       "<Figure size 1296x720 with 1 Axes>"
      ]
     },
     "metadata": {},
     "output_type": "display_data"
    }
   ],
   "source": [
    "#Dimensions 1 x 2 x 3 (1 x N x 3 matrix)\n",
    "plt.imshow([colors])\n",
    "plt.show()"
   ]
  },
  {
   "cell_type": "code",
   "execution_count": 25,
   "metadata": {},
   "outputs": [],
   "source": [
    "r = []\n",
    "g = []\n",
    "b = []"
   ]
  },
  {
   "cell_type": "code",
   "execution_count": 26,
   "metadata": {},
   "outputs": [
    {
     "name": "stdout",
     "output_type": "stream",
     "text": [
      "(169, 269, 3)\n"
     ]
    }
   ],
   "source": [
    "# Import image class of matplotlib\n",
    "import matplotlib.image as img\n",
    "\n",
    "# Read batman image and print dimensions\n",
    "batman_image = img.imread('data/batman.jpg')\n",
    "print(batman_image.shape)\n",
    "\n",
    "# Store RGB values of all pixels in lists r, g and b\n",
    "for pixel in batman_image:\n",
    "    for temp_r, temp_g, temp_b in pixel:\n",
    "        r.append(temp_r)\n",
    "        g.append(temp_g)\n",
    "        b.append(temp_b)"
   ]
  },
  {
   "cell_type": "code",
   "execution_count": null,
   "metadata": {},
   "outputs": [],
   "source": []
  }
 ],
 "metadata": {
  "kernelspec": {
   "display_name": "Python 3",
   "language": "python",
   "name": "python3"
  },
  "language_info": {
   "codemirror_mode": {
    "name": "ipython",
    "version": 3
   },
   "file_extension": ".py",
   "mimetype": "text/x-python",
   "name": "python",
   "nbconvert_exporter": "python",
   "pygments_lexer": "ipython3",
   "version": "3.6.7"
  }
 },
 "nbformat": 4,
 "nbformat_minor": 4
}
