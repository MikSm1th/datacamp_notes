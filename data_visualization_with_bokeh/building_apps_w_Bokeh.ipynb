{
 "cells": [
  {
   "cell_type": "markdown",
   "metadata": {},
   "source": [
    "### Introducing the Bokeh Server"
   ]
  },
  {
   "cell_type": "code",
   "execution_count": 1,
   "metadata": {},
   "outputs": [],
   "source": [
    "import pandas as pd\n",
    "import numpy as np\n",
    "import warnings\n",
    "warnings.filterwarnings('ignore')"
   ]
  },
  {
   "cell_type": "code",
   "execution_count": 2,
   "metadata": {},
   "outputs": [],
   "source": [
    "from bokeh.io import curdoc, output_file, show\n",
    "from bokeh.layouts import column\n",
    "from bokeh.models import ColumnDataSource, Slider\n",
    "from bokeh.plotting import figure\n",
    "from numpy.random import random"
   ]
  },
  {
   "cell_type": "markdown",
   "metadata": {},
   "source": [
    "### Basic App Outline"
   ]
  },
  {
   "cell_type": "code",
   "execution_count": 3,
   "metadata": {},
   "outputs": [],
   "source": [
    "# ### outline.py\n",
    "# from bokeh.io import curdoc\n",
    "\n",
    "# # Create plots and widgets\n",
    "\n",
    "# # Add callbacks\n",
    "\n",
    "# # Arange plots and widgets in layouts\n",
    "\n",
    "# curdoc().add_root(layout)"
   ]
  },
  {
   "cell_type": "markdown",
   "metadata": {},
   "source": [
    "### Running Bokeh Applications\n",
    "`bokeh serve --show myapp.py`\n",
    "- 'Directory' style apps run similarly:\n",
    "`bokeh serve --show myappdir/`"
   ]
  },
  {
   "cell_type": "code",
   "execution_count": 4,
   "metadata": {},
   "outputs": [],
   "source": [
    "# Perform necessary imports\n",
    "\n",
    "# Create a new plot: plot\n",
    "plot = figure()\n",
    "\n",
    "# Add a line to the plot\n",
    "plot.line([1,2,3,4,5],[2,5,4,6,7])\n",
    "\n",
    "# Add the plot to the current document\n",
    "curdoc().add_root(plot)"
   ]
  },
  {
   "cell_type": "code",
   "execution_count": 5,
   "metadata": {},
   "outputs": [],
   "source": [
    "# Perform the necessary imports\n",
    "from bokeh.layouts import widgetbox\n",
    "from bokeh.models import Slider \n",
    "\n",
    "# Create a slider: slider\n",
    "slider = Slider(title='my slider', start=0, end=10, step=0.1, value=2)\n",
    "\n",
    "# Create a widgetbox layout: layout\n",
    "layout = widgetbox(slider)\n",
    "\n",
    "# Add the layout to the current document\n",
    "curdoc().add_root(layout)"
   ]
  },
  {
   "cell_type": "code",
   "execution_count": 6,
   "metadata": {},
   "outputs": [],
   "source": [
    "# Create first slider: slider1\n",
    "slider1 = Slider(title='slider1', start=0, end=10, step=0.1, value=2)\n",
    "\n",
    "# Create second slider: slider2\n",
    "slider2 = Slider(title='slider2', start=10, end=100, step=1, value=20)\n",
    "\n",
    "# Add slider1 and slider2 to a widgetbox\n",
    "layout = widgetbox(slider1, slider2)\n",
    "\n",
    "# Add the layout to the current document\n",
    "curdoc().add_root(layout)"
   ]
  },
  {
   "cell_type": "markdown",
   "metadata": {},
   "source": [
    "#### Connecting sliders to Plots "
   ]
  },
  {
   "cell_type": "code",
   "execution_count": 7,
   "metadata": {},
   "outputs": [],
   "source": [
    "# slider.py \n",
    "\n",
    "N = 300\n",
    "source = ColumnDataSource(data={'x': random(N), 'y': random(N)})\n",
    "\n",
    "#Create plots and widgets\n",
    "plot = figure()\n",
    "plot.circle(x='x', y='y', source=source)\n",
    "\n",
    "slider = Slider(start=100, end=1000, value=N,\n",
    "               step=10, title='Number of points')\n",
    "\n",
    "# Add callback to widgets\n",
    "def callback(attr, old, new):\n",
    "    N = slider.value\n",
    "    source.data={'x': random(N), 'y':random(N)}\n",
    "slider.on_change('value', callback)\n",
    "\n",
    "# Arrange plots and widgets in layouts\n",
    "layout = column(slider, plot)\n",
    "\n",
    "curdoc().add_root(layout)"
   ]
  },
  {
   "cell_type": "code",
   "execution_count": 8,
   "metadata": {},
   "outputs": [],
   "source": [
    "df = pd.read_csv('y.csv', header=None, dtype=np.float, usecols=[0,1,2,3,4])\n",
    "#df"
   ]
  },
  {
   "cell_type": "code",
   "execution_count": 14,
   "metadata": {},
   "outputs": [],
   "source": [
    "plot=figure()\n",
    "x = np.linspace(0.3, 10, 300)\n",
    "y = df.values.flatten()\n",
    "\n",
    "# Create ColumnDataSource: source\n",
    "source = ColumnDataSource(data={'x': x, 'y': y})\n",
    "\n",
    "# Add a line to the plot\n",
    "plot.line('x','y', source=source)\n",
    "\n",
    "slider = Slider(start=1, end=10, value=1,\n",
    "               step=1, title='scale')\n",
    "\n",
    "def callback(attr, old, new):\n",
    "    scale = slider.value\n",
    "    new_y = np.sin(scale/x)\n",
    "    source.data={'x': x, 'y': new_y}\n",
    "    \n",
    "slider.on_change('value', callback)\n",
    "\n",
    "# Create a column layout: layout\n",
    "layout = column(widgetbox(slider), plot)\n",
    "show(layout)\n",
    "# Add the layout to the current document\n",
    "#curdoc().add_root(layout)"
   ]
  },
  {
   "cell_type": "code",
   "execution_count": null,
   "metadata": {},
   "outputs": [],
   "source": []
  }
 ],
 "metadata": {
  "kernelspec": {
   "display_name": "Python 3",
   "language": "python",
   "name": "python3"
  },
  "language_info": {
   "codemirror_mode": {
    "name": "ipython",
    "version": 3
   },
   "file_extension": ".py",
   "mimetype": "text/x-python",
   "name": "python",
   "nbconvert_exporter": "python",
   "pygments_lexer": "ipython3",
   "version": "3.6.5"
  }
 },
 "nbformat": 4,
 "nbformat_minor": 2
}
