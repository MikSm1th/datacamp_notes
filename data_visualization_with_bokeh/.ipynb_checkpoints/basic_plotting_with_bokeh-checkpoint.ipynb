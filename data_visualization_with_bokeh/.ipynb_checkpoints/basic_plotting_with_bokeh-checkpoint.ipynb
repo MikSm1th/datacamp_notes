{
 "cells": [
  {
   "cell_type": "markdown",
   "metadata": {},
   "source": [
    "### Plotting with Glyphs"
   ]
  },
  {
   "cell_type": "markdown",
   "metadata": {},
   "source": [
    "#### What are Glyphs\n",
    "- Visual shapes\n",
    " - Circles, squares, triangles\n",
    " - Rectangles, lines, wedges\n",
    "- With properties attached to data \n",
    " - Coordinates(x,y)\n",
    " - Size, color, transparency"
   ]
  },
  {
   "cell_type": "code",
   "execution_count": 1,
   "metadata": {},
   "outputs": [],
   "source": [
    "from bokeh.io import output_file, show\n",
    "from bokeh.plotting import figure\n",
    "plot = figure(plot_width=400, tools='pan,box_zoom')\n",
    "plot.circle([1,2,3,4,5],[8,6,5,2,3])\n",
    "output_file('circle.html')\n",
    "show(plot)"
   ]
  },
  {
   "cell_type": "markdown",
   "metadata": {},
   "source": [
    "#### Glyph properties \n",
    "- Lists, arrays, sequences of values\n",
    "- Single fixed values"
   ]
  },
  {
   "cell_type": "code",
   "execution_count": 2,
   "metadata": {},
   "outputs": [],
   "source": [
    "import pandas as pd\n",
    "import numpy as np"
   ]
  },
  {
   "cell_type": "code",
   "execution_count": 3,
   "metadata": {},
   "outputs": [
    {
     "data": {
      "text/html": [
       "<div>\n",
       "<style scoped>\n",
       "    .dataframe tbody tr th:only-of-type {\n",
       "        vertical-align: middle;\n",
       "    }\n",
       "\n",
       "    .dataframe tbody tr th {\n",
       "        vertical-align: top;\n",
       "    }\n",
       "\n",
       "    .dataframe thead th {\n",
       "        text-align: right;\n",
       "    }\n",
       "</style>\n",
       "<table border=\"1\" class=\"dataframe\">\n",
       "  <thead>\n",
       "    <tr style=\"text-align: right;\">\n",
       "      <th></th>\n",
       "      <th>Country</th>\n",
       "      <th>Continent</th>\n",
       "      <th>female literacy</th>\n",
       "      <th>fertility</th>\n",
       "      <th>population</th>\n",
       "    </tr>\n",
       "  </thead>\n",
       "  <tbody>\n",
       "    <tr>\n",
       "      <th>0</th>\n",
       "      <td>Chine</td>\n",
       "      <td>ASI</td>\n",
       "      <td>90.5</td>\n",
       "      <td>1.769</td>\n",
       "      <td>1.324655e+09</td>\n",
       "    </tr>\n",
       "    <tr>\n",
       "      <th>1</th>\n",
       "      <td>Inde</td>\n",
       "      <td>ASI</td>\n",
       "      <td>50.8</td>\n",
       "      <td>2.682</td>\n",
       "      <td>1.139965e+09</td>\n",
       "    </tr>\n",
       "    <tr>\n",
       "      <th>2</th>\n",
       "      <td>USA</td>\n",
       "      <td>NAM</td>\n",
       "      <td>99</td>\n",
       "      <td>2.077</td>\n",
       "      <td>3.040600e+08</td>\n",
       "    </tr>\n",
       "  </tbody>\n",
       "</table>\n",
       "</div>"
      ],
      "text/plain": [
       "  Country  Continent female literacy fertility    population\n",
       "0    Chine       ASI            90.5     1.769  1.324655e+09\n",
       "1     Inde       ASI            50.8     2.682  1.139965e+09\n",
       "2      USA       NAM              99     2.077  3.040600e+08"
      ]
     },
     "execution_count": 3,
     "metadata": {},
     "output_type": "execute_result"
    }
   ],
   "source": [
    "df = pd.read_csv('literacy_birth_rate.csv')\n",
    "df.head(3)"
   ]
  },
  {
   "cell_type": "code",
   "execution_count": 4,
   "metadata": {},
   "outputs": [],
   "source": [
    "female_literacy = np.array(df['female literacy'][:161]).astype('float')\n",
    "fertility = np.array(df['fertility'][:161]).astype('float')\n",
    "#female_literacy, fertility"
   ]
  },
  {
   "cell_type": "code",
   "execution_count": 5,
   "metadata": {},
   "outputs": [],
   "source": [
    "# Import figure from bokeh.plotting\n",
    "from bokeh.plotting import figure\n",
    "\n",
    "# Import output_file and show from bokeh.io\n",
    "from bokeh.io import output_file, show\n",
    "\n",
    "# Create the figure: p\n",
    "p = figure(x_axis_label='fertility (children per woman)', \n",
    "           y_axis_label='female_literacy (% population)')\n",
    "\n",
    "# Add a circle glyph to the figure p\n",
    "p.circle(fertility, female_literacy)\n",
    "\n",
    "# Call the output_file() function and specify the name of the file\n",
    "output_file('fert_lit.html')\n",
    "\n",
    "# Display the plot\n",
    "show(p)"
   ]
  },
  {
   "cell_type": "code",
   "execution_count": 6,
   "metadata": {},
   "outputs": [],
   "source": [
    "#df.Continent"
   ]
  },
  {
   "cell_type": "code",
   "execution_count": 7,
   "metadata": {},
   "outputs": [
    {
     "data": {
      "text/plain": [
       "(array([48.8, 57.8, 22.8, 56.1, 88.1, 66.3, 59.6, 82.8, 63.9, 66.8, 44.1,\n",
       "        59.3, 40.1, 44.3, 65.3, 67.8, 57. , 21.6, 65.8, 15.1, 18.2, 61. ,\n",
       "        88.8, 33. , 21.9, 71. , 26.4, 66.1, 28.1, 59.9, 53.7, 81.3, 28.9,\n",
       "        54.5, 41.1, 53. , 49.5, 87.7, 95.1, 83.5, 34.3, 36.5, 83.2, 84.8,\n",
       "        85.6, 89.1, 67.8, 79.3, 83.3]),\n",
       " array([5.173, 2.816, 5.211, 5.908, 2.505, 5.52 , 4.058, 4.859, 2.342,\n",
       "        6.254, 2.334, 4.22 , 4.967, 4.514, 4.62 , 4.541, 5.637, 5.841,\n",
       "        5.455, 7.069, 5.405, 5.737, 3.363, 4.89 , 6.081, 1.841, 5.329,\n",
       "        5.33 , 5.378, 4.45 , 4.166, 2.642, 5.165, 4.528, 4.697, 5.011,\n",
       "        4.388, 3.29 , 3.264, 2.822, 4.969, 5.659, 3.24 , 1.792, 3.45 ,\n",
       "        5.283, 3.885, 2.663, 3.718]))"
      ]
     },
     "execution_count": 7,
     "metadata": {},
     "output_type": "execute_result"
    }
   ],
   "source": [
    "female_literacy_africa = np.array(df.loc[df['Continent'] == 'AF']['female literacy']).astype('float')\n",
    "fertility_africa = np.array(df.loc[df['Continent']  == 'AF']['fertility']).astype('float')\n",
    "female_literacy_africa, fertility_africa"
   ]
  },
  {
   "cell_type": "code",
   "execution_count": 8,
   "metadata": {},
   "outputs": [
    {
     "data": {
      "text/plain": [
       "(array([90.2, 91.5, 93.4, 97.7, 84.6, 94.9, 98.7, 68.7, 81.7, 99.8, 88.3,\n",
       "        86. , 83.5, 93.5, 81.4, 77.9, 96.2, 92.8, 98.5, 90.8, 98.2, 88.4,\n",
       "        96.5, 98. ]),\n",
       " array([1.827, 2.156, 2.404, 2.223, 2.53 , 2.498, 1.926, 4.018, 2.513,\n",
       "        1.505, 2.612, 3.371, 3.19 , 2.977, 2.295, 2.683, 1.943, 2.516,\n",
       "        2.089, 2.362, 1.647, 2.373, 3.371, 1.732]))"
      ]
     },
     "execution_count": 8,
     "metadata": {},
     "output_type": "execute_result"
    }
   ],
   "source": [
    "female_literacy_latinamerica = np.array(df.loc[df['Continent'] == 'LAT']['female literacy']).astype('float')\n",
    "fertility_latinamerica = np.array(df.loc[df['Continent']  == 'LAT']['fertility']).astype('float')\n",
    "female_literacy_latinamerica, fertility_latinamerica"
   ]
  },
  {
   "cell_type": "code",
   "execution_count": 9,
   "metadata": {},
   "outputs": [],
   "source": [
    "# Create the figure: p\n",
    "p = figure(x_axis_label='fertility', y_axis_label='female_literacy (% population)')\n",
    "\n",
    "# Add a circle glyph to the figure p\n",
    "p.circle(fertility_latinamerica, female_literacy_latinamerica)\n",
    "\n",
    "# Add an x glyph to the figure p\n",
    "p.x(fertility_africa, female_literacy_africa)\n",
    "\n",
    "# Specify the name of the file\n",
    "output_file('fert_lit_separate.html')\n",
    "\n",
    "# Display the plot\n",
    "show(p)"
   ]
  },
  {
   "cell_type": "code",
   "execution_count": 10,
   "metadata": {},
   "outputs": [],
   "source": [
    "# Create the figure: p\n",
    "p = figure(x_axis_label='fertility (children per woman)', y_axis_label='female_literacy (% population)')\n",
    "\n",
    "# Add a blue circle glyph to the figure p\n",
    "p.circle(fertility_latinamerica, female_literacy_latinamerica, color='blue', size=10, alpha=0.8)\n",
    "\n",
    "# Add a red circle glyph to the figure p\n",
    "p.circle(fertility_africa, female_literacy_africa, color='red', size=10, alpha=0.8)\n",
    "\n",
    "# Specify the name of the file\n",
    "output_file('fert_lit_separate_colors.html')\n",
    "\n",
    "# Display the plot\n",
    "show(p)"
   ]
  },
  {
   "cell_type": "markdown",
   "metadata": {},
   "source": [
    "### Additional Glyphs"
   ]
  },
  {
   "cell_type": "markdown",
   "metadata": {},
   "source": [
    "#### Lines"
   ]
  },
  {
   "cell_type": "code",
   "execution_count": 11,
   "metadata": {},
   "outputs": [],
   "source": [
    "from bokeh.io import output_file, show\n",
    "from bokeh.plotting import figure\n",
    "x = [1,2,3,4,5]\n",
    "y = [8,6,5,2,3]\n",
    "plot = figure()\n",
    "plot.line(x,y, line_width=3)\n",
    "output_file('line.html')\n",
    "show(plot)"
   ]
  },
  {
   "cell_type": "code",
   "execution_count": 12,
   "metadata": {},
   "outputs": [],
   "source": [
    "from bokeh.io import output_file, show\n",
    "from bokeh.plotting import figure\n",
    "x = [1,2,3,4,5]\n",
    "y = [8,6,5,2,3]\n",
    "plot = figure()\n",
    "plot.line(x,y, line_width=3)\n",
    "plot.circle(x,y, fill_color='white', size=10)\n",
    "output_file('line.html')\n",
    "show(plot)"
   ]
  },
  {
   "cell_type": "markdown",
   "metadata": {},
   "source": [
    "### Patches\n",
    "- Useful for showing geographic regions\n",
    "- Data given as 'list of lists'"
   ]
  },
  {
   "cell_type": "code",
   "execution_count": 13,
   "metadata": {},
   "outputs": [],
   "source": [
    "from bokeh.io import output_file, show\n",
    "from bokeh.plotting import figure\n",
    "xs=[[1,1,2,2],[2,2,4],[2,2,3,3]]\n",
    "ys=[[2,5,5,2],[3,5,5],[2,3,4,2]]\n",
    "plot = figure()\n",
    "plot.patches(xs,ys,\n",
    "            fill_color=['red','blue','green'],\n",
    "            line_color='white')\n",
    "output_file('patches.html')\n",
    "show(plot)"
   ]
  },
  {
   "cell_type": "code",
   "execution_count": 14,
   "metadata": {},
   "outputs": [],
   "source": [
    "import json\n",
    "with open('ohio.json') as f:\n",
    "    maps = json.load(f)\n",
    "OHmap = maps['geometry']['coordinates'][4][0]\n",
    "Ohio_lng = [OHmap[i][0] for i in range(len(OHmap))]\n",
    "Ohio_lat = [OHmap[i][1] for i in range(len(OHmap))]\n",
    "#Ohio_lat"
   ]
  },
  {
   "cell_type": "code",
   "execution_count": 15,
   "metadata": {},
   "outputs": [],
   "source": [
    "with open('colorado.json') as f:\n",
    "    maps = json.load(f)\n",
    "comap = maps['geometry']['coordinates'][0]"
   ]
  },
  {
   "cell_type": "code",
   "execution_count": 16,
   "metadata": {},
   "outputs": [],
   "source": [
    "co_lons = [comap[i][0] for i in range(len(comap))]\n",
    "co_lats = [comap[i][1] for i in range(len(comap))]\n",
    "#co_lats"
   ]
  },
  {
   "cell_type": "code",
   "execution_count": 17,
   "metadata": {},
   "outputs": [],
   "source": [
    "with open('arizona.json') as f:\n",
    "    maps = json.load(f)\n",
    "azmap = maps['geometry']['coordinates'][0]\n",
    "#azmap"
   ]
  },
  {
   "cell_type": "code",
   "execution_count": 18,
   "metadata": {},
   "outputs": [],
   "source": [
    "az_lons = [azmap[i][0] for i in range(len(azmap))]\n",
    "az_lats = [azmap[i][1] for i in range(len(azmap))]\n",
    "#az_lats"
   ]
  },
  {
   "cell_type": "code",
   "execution_count": 19,
   "metadata": {},
   "outputs": [],
   "source": [
    "with open('utah.json') as f:\n",
    "    maps = json.load(f)\n",
    "utmap = maps['geometry']['coordinates'][0]\n",
    "ut_lons = [utmap[i][0] for i in range(len(utmap))]\n",
    "ut_lats = [utmap[i][1] for i in range(len(utmap))]\n",
    "#ut_lats"
   ]
  },
  {
   "cell_type": "code",
   "execution_count": 20,
   "metadata": {},
   "outputs": [],
   "source": [
    "with open('new_mexico.json') as f:\n",
    "    maps = json.load(f)\n",
    "nmmap = maps['geometry']['coordinates'][0]\n",
    "nm_lons = [nmmap[i][0] for i in range(len(nmmap))]\n",
    "nm_lats = [nmmap[i][1] for i in range(len(nmmap))]\n",
    "#nm_lats"
   ]
  },
  {
   "cell_type": "code",
   "execution_count": 21,
   "metadata": {},
   "outputs": [],
   "source": [
    "x = [Ohio_lng]\n",
    "y = [Ohio_lat]\n",
    "plot = figure()\n",
    "plot.patches(x,y,\n",
    "            fill_color='skyblue',\n",
    "            line_color='black')\n",
    "output_file('Ohio.html')\n",
    "show(plot)"
   ]
  },
  {
   "cell_type": "markdown",
   "metadata": {},
   "source": [
    "### Lines"
   ]
  },
  {
   "cell_type": "code",
   "execution_count": 22,
   "metadata": {},
   "outputs": [
    {
     "data": {
      "text/plain": [
       "(array([ 31.68,  29.66,  31.12, ..., 438.75, 435.62, 424.83]), 0   2000-03-01\n",
       " 1   2000-03-02\n",
       " 2   2000-03-03\n",
       " 3   2000-03-06\n",
       " 4   2000-03-07\n",
       " Name: date, dtype: datetime64[ns])"
      ]
     },
     "execution_count": 22,
     "metadata": {},
     "output_type": "execute_result"
    }
   ],
   "source": [
    "aapl = pd.read_csv('aapl.csv', index_col=0, parse_dates=['date'])\n",
    "price = np.array(aapl.adj_close)\n",
    "date = aapl.date\n",
    "price, date[:5]"
   ]
  },
  {
   "cell_type": "code",
   "execution_count": 23,
   "metadata": {},
   "outputs": [],
   "source": [
    "# Import figure from bokeh.plotting\n",
    "from bokeh.plotting import figure\n",
    "\n",
    "# Create a figure with x_axis_type=\"datetime\": p\n",
    "p = figure(x_axis_type = 'datetime', x_axis_label='Date', y_axis_label='US Dollars')\n",
    "\n",
    "# Plot date along the x axis and price along the y axis\n",
    "p.line(date, price)\n",
    "\n",
    "# Specify the name of the output file and show the result\n",
    "output_file('line.html')\n",
    "show(p)"
   ]
  },
  {
   "cell_type": "code",
   "execution_count": 24,
   "metadata": {},
   "outputs": [],
   "source": [
    "# Import figure from bokeh.plotting\n",
    "from bokeh.plotting import figure\n",
    "\n",
    "# Create a figure with x_axis_type='datetime': p\n",
    "p = figure(x_axis_type='datetime', x_axis_label='Date', y_axis_label='US Dollars')\n",
    "\n",
    "# Plot date along the x-axis and price along the y-axis\n",
    "p.line(date, price)\n",
    "\n",
    "# With date on the x-axis and price on the y-axis, add a white circle glyph of size 4\n",
    "p.circle(date, price, fill_color='white', size=4)\n",
    "\n",
    "# Specify the name of the output file and show the result\n",
    "output_file('line.html')\n",
    "show(p)"
   ]
  },
  {
   "cell_type": "code",
   "execution_count": 26,
   "metadata": {},
   "outputs": [],
   "source": [
    "# Create a list of az_lons, co_lons, nm_lons and ut_lons: x\n",
    "x = [az_lons, co_lons, nm_lons, ut_lons]\n",
    "\n",
    "# Create a list of az_lats, co_lats, nm_lats and ut_lats: y\n",
    "y = [az_lats, co_lats, nm_lats, ut_lats]\n",
    "\n",
    "# Add patches to figure p with line_color=white for x and y\n",
    "p = figure()\n",
    "p.patches(x, y, line_color='white')\n",
    "\n",
    "# Specify the name of the output file and show the result\n",
    "output_file('four_corners.html')\n",
    "show(p)"
   ]
  },
  {
   "cell_type": "markdown",
   "metadata": {},
   "source": [
    "### Data formats"
   ]
  },
  {
   "cell_type": "code",
   "execution_count": 27,
   "metadata": {},
   "outputs": [],
   "source": [
    "x = np.linspace(0,10,1000)\n",
    "y = np.sin(x) + np.random.random(1000) * 0.2\n",
    "plot = figure()\n",
    "plot.line(x,y)\n",
    "output_file('numpy.html')\n",
    "show(plot)"
   ]
  },
  {
   "cell_type": "code",
   "execution_count": 28,
   "metadata": {},
   "outputs": [],
   "source": [
    "from bokeh.sampledata.iris import flowers\n",
    "plot = figure()\n",
    "plot.circle(flowers['petal_length'],\n",
    "           flowers['sepal_length'],\n",
    "           size=10)\n",
    "output_file('pandas.html')\n",
    "show(plot)"
   ]
  },
  {
   "cell_type": "markdown",
   "metadata": {},
   "source": [
    "#### Column Data Source\n",
    "- Common fundamental data structure for Bokeh\n",
    "- Maps string column name to sequences of data\n",
    "- Often created automatically for you\n",
    "- Can be shared between glyphs to link selections\n",
    "- Extra columns can be used with hover tooltips"
   ]
  },
  {
   "cell_type": "code",
   "execution_count": 29,
   "metadata": {},
   "outputs": [
    {
     "data": {
      "text/plain": [
       "{'x': [1, 2, 3, 4, 5], 'y': [8, 6, 5, 2, 3]}"
      ]
     },
     "execution_count": 29,
     "metadata": {},
     "output_type": "execute_result"
    }
   ],
   "source": [
    "from bokeh.models import ColumnDataSource\n",
    "source = ColumnDataSource(data={\n",
    "                            'x':[1,2,3,4,5],\n",
    "                            'y':[8,6,5,2,3]})\n",
    "source.data"
   ]
  },
  {
   "cell_type": "code",
   "execution_count": 30,
   "metadata": {},
   "outputs": [
    {
     "data": {
      "text/html": [
       "<div>\n",
       "<style scoped>\n",
       "    .dataframe tbody tr th:only-of-type {\n",
       "        vertical-align: middle;\n",
       "    }\n",
       "\n",
       "    .dataframe tbody tr th {\n",
       "        vertical-align: top;\n",
       "    }\n",
       "\n",
       "    .dataframe thead th {\n",
       "        text-align: right;\n",
       "    }\n",
       "</style>\n",
       "<table border=\"1\" class=\"dataframe\">\n",
       "  <thead>\n",
       "    <tr style=\"text-align: right;\">\n",
       "      <th></th>\n",
       "      <th>sepal_length</th>\n",
       "      <th>sepal_width</th>\n",
       "      <th>petal_length</th>\n",
       "      <th>petal_width</th>\n",
       "      <th>species</th>\n",
       "    </tr>\n",
       "  </thead>\n",
       "  <tbody>\n",
       "    <tr>\n",
       "      <th>0</th>\n",
       "      <td>5.1</td>\n",
       "      <td>3.5</td>\n",
       "      <td>1.4</td>\n",
       "      <td>0.2</td>\n",
       "      <td>setosa</td>\n",
       "    </tr>\n",
       "    <tr>\n",
       "      <th>1</th>\n",
       "      <td>4.9</td>\n",
       "      <td>3.0</td>\n",
       "      <td>1.4</td>\n",
       "      <td>0.2</td>\n",
       "      <td>setosa</td>\n",
       "    </tr>\n",
       "    <tr>\n",
       "      <th>2</th>\n",
       "      <td>4.7</td>\n",
       "      <td>3.2</td>\n",
       "      <td>1.3</td>\n",
       "      <td>0.2</td>\n",
       "      <td>setosa</td>\n",
       "    </tr>\n",
       "    <tr>\n",
       "      <th>3</th>\n",
       "      <td>4.6</td>\n",
       "      <td>3.1</td>\n",
       "      <td>1.5</td>\n",
       "      <td>0.2</td>\n",
       "      <td>setosa</td>\n",
       "    </tr>\n",
       "    <tr>\n",
       "      <th>4</th>\n",
       "      <td>5.0</td>\n",
       "      <td>3.6</td>\n",
       "      <td>1.4</td>\n",
       "      <td>0.2</td>\n",
       "      <td>setosa</td>\n",
       "    </tr>\n",
       "  </tbody>\n",
       "</table>\n",
       "</div>"
      ],
      "text/plain": [
       "   sepal_length  sepal_width  petal_length  petal_width species\n",
       "0           5.1          3.5           1.4          0.2  setosa\n",
       "1           4.9          3.0           1.4          0.2  setosa\n",
       "2           4.7          3.2           1.3          0.2  setosa\n",
       "3           4.6          3.1           1.5          0.2  setosa\n",
       "4           5.0          3.6           1.4          0.2  setosa"
      ]
     },
     "execution_count": 30,
     "metadata": {},
     "output_type": "execute_result"
    }
   ],
   "source": [
    "from bokeh.sampledata.iris import flowers as df\n",
    "df.head()"
   ]
  },
  {
   "cell_type": "code",
   "execution_count": 31,
   "metadata": {},
   "outputs": [],
   "source": [
    "source = ColumnDataSource(df)"
   ]
  },
  {
   "cell_type": "code",
   "execution_count": null,
   "metadata": {},
   "outputs": [],
   "source": []
  }
 ],
 "metadata": {
  "kernelspec": {
   "display_name": "Python 3",
   "language": "python",
   "name": "python3"
  },
  "language_info": {
   "codemirror_mode": {
    "name": "ipython",
    "version": 3
   },
   "file_extension": ".py",
   "mimetype": "text/x-python",
   "name": "python",
   "nbconvert_exporter": "python",
   "pygments_lexer": "ipython3",
   "version": "3.6.5"
  }
 },
 "nbformat": 4,
 "nbformat_minor": 2
}
