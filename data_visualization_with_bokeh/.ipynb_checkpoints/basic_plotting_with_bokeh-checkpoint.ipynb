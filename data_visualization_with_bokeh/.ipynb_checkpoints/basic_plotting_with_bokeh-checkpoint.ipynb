{
 "cells": [
  {
   "cell_type": "markdown",
   "metadata": {},
   "source": [
    "### Plotting with Glyphs"
   ]
  },
  {
   "cell_type": "markdown",
   "metadata": {},
   "source": [
    "#### What are Glyphs\n",
    "- Visual shapes\n",
    " - Circles, squares, triangles\n",
    " - Rectangles, lines, wedges\n",
    "- With properties attached to data \n",
    " - Coordinates(x,y)\n",
    " - Size, color, transparency"
   ]
  },
  {
   "cell_type": "code",
   "execution_count": 2,
   "metadata": {},
   "outputs": [],
   "source": [
    "from bokeh.io import output_file, show\n",
    "from bokeh.plotting import figure\n",
    "plot = figure(plot_width=400, tools='pan,box_zoom')\n",
    "plot.circle([1,2,3,4,5],[8,6,5,2,3])\n",
    "output_file('circle.html')\n",
    "show(plot)"
   ]
  },
  {
   "cell_type": "markdown",
   "metadata": {},
   "source": [
    "#### Glyph properties \n",
    "- Lists, arrays, sequences of values\n",
    "- Single fixed values"
   ]
  },
  {
   "cell_type": "code",
   "execution_count": 3,
   "metadata": {},
   "outputs": [],
   "source": [
    "import pandas as pd\n",
    "import numpy as np"
   ]
  },
  {
   "cell_type": "code",
   "execution_count": 12,
   "metadata": {},
   "outputs": [
    {
     "data": {
      "text/html": [
       "<div>\n",
       "<style scoped>\n",
       "    .dataframe tbody tr th:only-of-type {\n",
       "        vertical-align: middle;\n",
       "    }\n",
       "\n",
       "    .dataframe tbody tr th {\n",
       "        vertical-align: top;\n",
       "    }\n",
       "\n",
       "    .dataframe thead th {\n",
       "        text-align: right;\n",
       "    }\n",
       "</style>\n",
       "<table border=\"1\" class=\"dataframe\">\n",
       "  <thead>\n",
       "    <tr style=\"text-align: right;\">\n",
       "      <th></th>\n",
       "      <th>Country</th>\n",
       "      <th>Continent</th>\n",
       "      <th>female literacy</th>\n",
       "      <th>fertility</th>\n",
       "      <th>population</th>\n",
       "    </tr>\n",
       "  </thead>\n",
       "  <tbody>\n",
       "    <tr>\n",
       "      <th>0</th>\n",
       "      <td>Chine</td>\n",
       "      <td>ASI</td>\n",
       "      <td>90.5</td>\n",
       "      <td>1.769</td>\n",
       "      <td>1.324655e+09</td>\n",
       "    </tr>\n",
       "    <tr>\n",
       "      <th>1</th>\n",
       "      <td>Inde</td>\n",
       "      <td>ASI</td>\n",
       "      <td>50.8</td>\n",
       "      <td>2.682</td>\n",
       "      <td>1.139965e+09</td>\n",
       "    </tr>\n",
       "    <tr>\n",
       "      <th>2</th>\n",
       "      <td>USA</td>\n",
       "      <td>NAM</td>\n",
       "      <td>99</td>\n",
       "      <td>2.077</td>\n",
       "      <td>3.040600e+08</td>\n",
       "    </tr>\n",
       "  </tbody>\n",
       "</table>\n",
       "</div>"
      ],
      "text/plain": [
       "  Country  Continent female literacy fertility    population\n",
       "0    Chine       ASI            90.5     1.769  1.324655e+09\n",
       "1     Inde       ASI            50.8     2.682  1.139965e+09\n",
       "2      USA       NAM              99     2.077  3.040600e+08"
      ]
     },
     "execution_count": 12,
     "metadata": {},
     "output_type": "execute_result"
    }
   ],
   "source": [
    "df = pd.read_csv('literacy_birth_rate.csv')\n",
    "df.head(3)"
   ]
  },
  {
   "cell_type": "code",
   "execution_count": 14,
   "metadata": {},
   "outputs": [],
   "source": [
    "female_literacy = np.array(df['female literacy'][:161]).astype('float')\n",
    "fertility = np.array(df['fertility'][:161]).astype('float')\n",
    "#female_literacy, fertility"
   ]
  },
  {
   "cell_type": "code",
   "execution_count": 18,
   "metadata": {},
   "outputs": [],
   "source": [
    "# Import figure from bokeh.plotting\n",
    "from bokeh.plotting import figure\n",
    "\n",
    "# Import output_file and show from bokeh.io\n",
    "from bokeh.io import output_file, show\n",
    "\n",
    "# Create the figure: p\n",
    "p = figure(x_axis_label='fertility (children per woman)', \n",
    "           y_axis_label='female_literacy (% population)')\n",
    "\n",
    "# Add a circle glyph to the figure p\n",
    "p.circle(fertility, female_literacy)\n",
    "\n",
    "# Call the output_file() function and specify the name of the file\n",
    "output_file('fert_lit.html')\n",
    "\n",
    "# Display the plot\n",
    "show(p)"
   ]
  },
  {
   "cell_type": "code",
   "execution_count": 21,
   "metadata": {},
   "outputs": [],
   "source": [
    "#df.Continent"
   ]
  },
  {
   "cell_type": "code",
   "execution_count": 26,
   "metadata": {},
   "outputs": [
    {
     "data": {
      "text/plain": [
       "(array([48.8, 57.8, 22.8, 56.1, 88.1, 66.3, 59.6, 82.8, 63.9, 66.8, 44.1,\n",
       "        59.3, 40.1, 44.3, 65.3, 67.8, 57. , 21.6, 65.8, 15.1, 18.2, 61. ,\n",
       "        88.8, 33. , 21.9, 71. , 26.4, 66.1, 28.1, 59.9, 53.7, 81.3, 28.9,\n",
       "        54.5, 41.1, 53. , 49.5, 87.7, 95.1, 83.5, 34.3, 36.5, 83.2, 84.8,\n",
       "        85.6, 89.1, 67.8, 79.3, 83.3]),\n",
       " array([5.173, 2.816, 5.211, 5.908, 2.505, 5.52 , 4.058, 4.859, 2.342,\n",
       "        6.254, 2.334, 4.22 , 4.967, 4.514, 4.62 , 4.541, 5.637, 5.841,\n",
       "        5.455, 7.069, 5.405, 5.737, 3.363, 4.89 , 6.081, 1.841, 5.329,\n",
       "        5.33 , 5.378, 4.45 , 4.166, 2.642, 5.165, 4.528, 4.697, 5.011,\n",
       "        4.388, 3.29 , 3.264, 2.822, 4.969, 5.659, 3.24 , 1.792, 3.45 ,\n",
       "        5.283, 3.885, 2.663, 3.718]))"
      ]
     },
     "execution_count": 26,
     "metadata": {},
     "output_type": "execute_result"
    }
   ],
   "source": [
    "female_literacy_africa = np.array(df.loc[df['Continent'] == 'AF']['female literacy']).astype('float')\n",
    "fertility_africa = np.array(df.loc[df['Continent']  == 'AF']['fertility']).astype('float')\n",
    "female_literacy_africa, fertility_africa"
   ]
  },
  {
   "cell_type": "code",
   "execution_count": 27,
   "metadata": {},
   "outputs": [
    {
     "data": {
      "text/plain": [
       "(array([90.2, 91.5, 93.4, 97.7, 84.6, 94.9, 98.7, 68.7, 81.7, 99.8, 88.3,\n",
       "        86. , 83.5, 93.5, 81.4, 77.9, 96.2, 92.8, 98.5, 90.8, 98.2, 88.4,\n",
       "        96.5, 98. ]),\n",
       " array([1.827, 2.156, 2.404, 2.223, 2.53 , 2.498, 1.926, 4.018, 2.513,\n",
       "        1.505, 2.612, 3.371, 3.19 , 2.977, 2.295, 2.683, 1.943, 2.516,\n",
       "        2.089, 2.362, 1.647, 2.373, 3.371, 1.732]))"
      ]
     },
     "execution_count": 27,
     "metadata": {},
     "output_type": "execute_result"
    }
   ],
   "source": [
    "female_literacy_latinamerica = np.array(df.loc[df['Continent'] == 'LAT']['female literacy']).astype('float')\n",
    "fertility_latinamerica = np.array(df.loc[df['Continent']  == 'LAT']['fertility']).astype('float')\n",
    "female_literacy_latinamerica, fertility_latinamerica"
   ]
  },
  {
   "cell_type": "code",
   "execution_count": 30,
   "metadata": {},
   "outputs": [],
   "source": [
    "# Create the figure: p\n",
    "p = figure(x_axis_label='fertility', y_axis_label='female_literacy (% population)')\n",
    "\n",
    "# Add a circle glyph to the figure p\n",
    "p.circle(fertility_latinamerica, female_literacy_latinamerica)\n",
    "\n",
    "# Add an x glyph to the figure p\n",
    "p.x(fertility_africa, female_literacy_africa)\n",
    "\n",
    "# Specify the name of the file\n",
    "output_file('fert_lit_separate.html')\n",
    "\n",
    "# Display the plot\n",
    "show(p)"
   ]
  },
  {
   "cell_type": "code",
   "execution_count": 31,
   "metadata": {},
   "outputs": [],
   "source": [
    "# Create the figure: p\n",
    "p = figure(x_axis_label='fertility (children per woman)', y_axis_label='female_literacy (% population)')\n",
    "\n",
    "# Add a blue circle glyph to the figure p\n",
    "p.circle(fertility_latinamerica, female_literacy_latinamerica, color='blue', size=10, alpha=0.8)\n",
    "\n",
    "# Add a red circle glyph to the figure p\n",
    "p.circle(fertility_africa, female_literacy_africa, color='red', size=10, alpha=0.8)\n",
    "\n",
    "# Specify the name of the file\n",
    "output_file('fert_lit_separate_colors.html')\n",
    "\n",
    "# Display the plot\n",
    "show(p)"
   ]
  },
  {
   "cell_type": "markdown",
   "metadata": {},
   "source": [
    "### Additional Glyphs"
   ]
  },
  {
   "cell_type": "markdown",
   "metadata": {},
   "source": [
    "#### Lines"
   ]
  },
  {
   "cell_type": "code",
   "execution_count": 32,
   "metadata": {},
   "outputs": [],
   "source": [
    "from bokeh.io import output_file, show\n",
    "from bokeh.plotting import figure\n",
    "x = [1,2,3,4,5]\n",
    "y = [8,6,5,2,3]\n",
    "plot = figure()\n",
    "plot.line(x,y, line_width=3)\n",
    "output_file('line.html')\n",
    "show(plot)"
   ]
  },
  {
   "cell_type": "code",
   "execution_count": 33,
   "metadata": {},
   "outputs": [],
   "source": [
    "from bokeh.io import output_file, show\n",
    "from bokeh.plotting import figure\n",
    "x = [1,2,3,4,5]\n",
    "y = [8,6,5,2,3]\n",
    "plot = figure()\n",
    "plot.line(x,y, line_width=3)\n",
    "plot.circle(x,y, fill_color='white', size=10)\n",
    "output_file('line.html')\n",
    "show(plot)"
   ]
  },
  {
   "cell_type": "markdown",
   "metadata": {},
   "source": [
    "### Patches\n",
    "- Useful for "
   ]
  }
 ],
 "metadata": {
  "kernelspec": {
   "display_name": "Python 3",
   "language": "python",
   "name": "python3"
  },
  "language_info": {
   "codemirror_mode": {
    "name": "ipython",
    "version": 3
   },
   "file_extension": ".py",
   "mimetype": "text/x-python",
   "name": "python",
   "nbconvert_exporter": "python",
   "pygments_lexer": "ipython3",
   "version": "3.6.5"
  }
 },
 "nbformat": 4,
 "nbformat_minor": 2
}
