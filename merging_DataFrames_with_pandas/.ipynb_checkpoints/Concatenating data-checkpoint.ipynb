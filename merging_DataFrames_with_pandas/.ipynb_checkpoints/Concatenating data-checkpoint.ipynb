{
 "cells": [
  {
   "cell_type": "markdown",
   "metadata": {},
   "source": [
    "### Appending and concatenating Series"
   ]
  },
  {
   "cell_type": "markdown",
   "metadata": {},
   "source": [
    "#### append()\n",
    "- .append(): Series & DataFrame *method*\n",
    "- Invocation:\n",
    " - s1.append(s2) <br>\n",
    "- Stacks rows of s2 below s1\n",
    "- Method for Series & DataFrames"
   ]
  },
  {
   "cell_type": "markdown",
   "metadata": {},
   "source": [
    "#### concat()\n",
    "- concat(): pandas module *function*\n",
    "- Invocation;\n",
    " - pd.concat([s1, s2, s3])\n",
    "- Can stack row-wise or column-wise"
   ]
  },
  {
   "cell_type": "code",
   "execution_count": 2,
   "metadata": {},
   "outputs": [],
   "source": [
    "import pandas as pd\n",
    "bronze = pd.read_csv('summer_olympic_medals/bronze_top5.csv', index_col=0)\n",
    "silver = pd.read_csv('summer_olympic_medals/silver_top5.csv', index_col=0)\n",
    "gold = pd.read_csv('summer_olympic_medals/gold_top5.csv', index_col=0)"
   ]
  },
  {
   "cell_type": "code",
   "execution_count": 3,
   "metadata": {},
   "outputs": [],
   "source": [
    "jan = pd.read_csv('Sales/sales-jan-2015.csv', parse_dates=True, index_col='Date')\n",
    "feb = pd.read_csv('Sales/sales-feb-2015.csv', parse_dates=True, index_col='Date')\n",
    "mar = pd.read_csv('Sales/sales-mar-2015.csv', parse_dates=True, index_col='Date')"
   ]
  },
  {
   "cell_type": "code",
   "execution_count": 4,
   "metadata": {},
   "outputs": [],
   "source": [
    "jan_units = jan['Units']\n",
    "feb_units = feb['Units']\n",
    "mar_units = mar['Units']"
   ]
  },
  {
   "cell_type": "code",
   "execution_count": 5,
   "metadata": {},
   "outputs": [],
   "source": [
    "quarter1 = jan_units.append(feb_units).append(mar_units)"
   ]
  },
  {
   "cell_type": "code",
   "execution_count": 6,
   "metadata": {},
   "outputs": [
    {
     "data": {
      "text/plain": [
       "Date\n",
       "2015-01-27 07:11:55    18\n",
       "2015-02-02 08:33:01     3\n",
       "2015-02-02 20:54:49     9\n",
       "Name: Units, dtype: int64"
      ]
     },
     "execution_count": 6,
     "metadata": {},
     "output_type": "execute_result"
    }
   ],
   "source": [
    "quarter1.loc['jan 27, 2015':'feb 2, 2015']"
   ]
  },
  {
   "cell_type": "code",
   "execution_count": 7,
   "metadata": {},
   "outputs": [
    {
     "data": {
      "text/plain": [
       "Date\n",
       "2015-02-26 08:57:45     4\n",
       "2015-02-26 08:58:51     1\n",
       "2015-03-06 10:11:45    17\n",
       "2015-03-06 02:03:56    17\n",
       "Name: Units, dtype: int64"
      ]
     },
     "execution_count": 7,
     "metadata": {},
     "output_type": "execute_result"
    }
   ],
   "source": [
    "quarter1.loc['feb 26, 2015':'mar 7, 2015']"
   ]
  },
  {
   "cell_type": "code",
   "execution_count": 8,
   "metadata": {},
   "outputs": [
    {
     "data": {
      "text/plain": [
       "642"
      ]
     },
     "execution_count": 8,
     "metadata": {},
     "output_type": "execute_result"
    }
   ],
   "source": [
    "quarter1.sum()"
   ]
  },
  {
   "cell_type": "code",
   "execution_count": null,
   "metadata": {},
   "outputs": [],
   "source": []
  }
 ],
 "metadata": {
  "kernelspec": {
   "display_name": "Python 3",
   "language": "python",
   "name": "python3"
  },
  "language_info": {
   "codemirror_mode": {
    "name": "ipython",
    "version": 3
   },
   "file_extension": ".py",
   "mimetype": "text/x-python",
   "name": "python",
   "nbconvert_exporter": "python",
   "pygments_lexer": "ipython3",
   "version": "3.6.5"
  }
 },
 "nbformat": 4,
 "nbformat_minor": 2
}
