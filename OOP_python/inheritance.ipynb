{
 "cells": [
  {
   "cell_type": "markdown",
   "metadata": {},
   "source": [
    "### Inheritance"
   ]
  },
  {
   "cell_type": "markdown",
   "metadata": {},
   "source": [
    "### Extending our DataShells\n",
    "- Inheritance - A class that takes on attributes from another, 'parent' class and adds some more of its own functionality. "
   ]
  },
  {
   "cell_type": "markdown",
   "metadata": {},
   "source": [
    "Is a and Has a Relationship\n",
    "- A Pterodactyl **is-a** Dinosaur\n",
    "- A Tyrannosuarus **is-a** Dinosaur\n",
    "- Is a Pterodactyl a dinosaur? Yes, pterodactyl inherits from dinosaur.\n",
    "- Is a Tyrannosaurus a pterodactyl, No, but they're both dinosaurs.\n",
    "- Is a dinosaur a pterodactyl? No, so it doesn't work the other way, either."
   ]
  },
  {
   "cell_type": "markdown",
   "metadata": {},
   "source": [
    "### Inheriting a DataShell"
   ]
  },
  {
   "cell_type": "code",
   "execution_count": 1,
   "metadata": {},
   "outputs": [
    {
     "name": "stdout",
     "output_type": "stream",
     "text": [
      "<__main__.Mammal object at 0x0000000004B4BE80>\n",
      "<__main__.Reptile object at 0x0000000004B4BF98>\n"
     ]
    }
   ],
   "source": [
    "# Create a class Animal\n",
    "class Animal:\n",
    "\tdef __init__(self, name):\n",
    "\t\tself.name = name\n",
    "\n",
    "# Create a class Mammal, which inherits from Animal\n",
    "class Mammal(Animal):\n",
    "\tdef __init__(self, name, animal_type):\n",
    "\t\tself.animal_type = animal_type \n",
    "\n",
    "# Create a class Reptile, which also inherits from Animal\n",
    "class Reptile(Animal):\n",
    "\tdef __init__(self, name, animal_type):\n",
    "\t\tself.animal_type = animal_type\n",
    "\n",
    "# Instantiate a mammal with name 'Daisy' and animal_type 'dog': daisy\n",
    "daisy = Mammal('Daisy', 'dog')\n",
    "\n",
    "# Instantiate a reptile with name 'Stella' and animal_type 'alligator': stella\n",
    "stella = Reptile('Stella', 'alligator')\n",
    "\n",
    "# Print both objects\n",
    "print(daisy)\n",
    "print(stella)"
   ]
  },
  {
   "cell_type": "code",
   "execution_count": 2,
   "metadata": {},
   "outputs": [
    {
     "name": "stdout",
     "output_type": "stream",
     "text": [
      "Stella Spinal cord: True\n",
      "Stella temperature regularization: False\n",
      "Daisy Spinal cord: True\n",
      "Daisy temperature regularization: True\n"
     ]
    }
   ],
   "source": [
    "# Create a class Vertebrate\n",
    "class Vertebrate:\n",
    "    spinal_cord = True \n",
    "    def __init__(self, name):\n",
    "        self.name = name\n",
    "\n",
    "# Create a class Mammal, which inherits from Vertebrate\n",
    "class Mammal(Vertebrate):\n",
    "    def __init__(self, name, animal_type):\n",
    "        self.animal_type = animal_type\n",
    "        self.temperature_regulation = True\n",
    "\n",
    "# Create a class Reptile, which also inherits from Vertebrate\n",
    "class Reptile(Vertebrate):\n",
    "    def __init__(self, name, animal_type):\n",
    "        self.animal_type = animal_type\n",
    "        self.temperature_regulation = False\n",
    "\n",
    "# Instantiate a mammal with name 'Daisy' and animal_type 'dog': daisy\n",
    "daisy = Mammal('Daisy', 'dog')\n",
    "\n",
    "# Instantiate a reptile with name 'Stella' and animal_type 'alligator': stella\n",
    "stella = Reptile('Stella', 'alligator')\n",
    "\n",
    "# Print stella's attributes spinal_cord and temperature_regulation\n",
    "print(\"Stella Spinal cord: \" + str(stella.spinal_cord))\n",
    "print(\"Stella temperature regularization: \" + str(stella.temperature_regulation))\n",
    "\n",
    "# Print daisy's attributes spinal_cord and temperature_regulation\n",
    "print(\"Daisy Spinal cord: \" + str(daisy.spinal_cord))\n",
    "print(\"Daisy temperature regularization: \" + str(daisy.temperature_regulation))"
   ]
  },
  {
   "cell_type": "markdown",
   "metadata": {},
   "source": [
    "### Inheritance with DataShells"
   ]
  },
  {
   "cell_type": "code",
   "execution_count": 3,
   "metadata": {},
   "outputs": [],
   "source": [
    "import numpy as np"
   ]
  },
  {
   "cell_type": "code",
   "execution_count": 4,
   "metadata": {},
   "outputs": [],
   "source": [
    "class DataShell:\n",
    "    \n",
    "    #constructor\n",
    "    def __init__(self, filename):\n",
    "        self.filename = filename# attribute\n",
    "        \n",
    "    # method    \n",
    "    def create_datashell(self):\n",
    "        data_array = np.genfromtxt(self.filename, delimiter=',', dtype=None, encoding='utf-8')\n",
    "        self.array = data_array\n",
    "        return self.array\n",
    "    \n",
    "    # method\n",
    "    def rename_column(self, old_colname, new_colname):\n",
    "        for index, value in enumerate(self.array[0]):\n",
    "            if value == old_colname.encode('UTF-8'):\n",
    "                self.array[0][index] = new_colname\n",
    "        return self.array\n",
    "\n",
    "    # method    \n",
    "    def show_shell(self):\n",
    "        print(self.array)\n",
    "\n",
    "    # method    \n",
    "    def five_figure_summary(self, col_pos):\n",
    "        statistics = stats.describe(self.array[1:, col_pos].astype(np.float))\n",
    "        return f\"Five-figure stats of column {col_pos}: {statistics}\""
   ]
  },
  {
   "cell_type": "code",
   "execution_count": 5,
   "metadata": {},
   "outputs": [],
   "source": [
    "class DataStDev(DataShell):\n",
    "    \n",
    "    def __init__(self, filename):\n",
    "        DataShell.filename = filename\n",
    "\n",
    "    def get_stdev(self, col_position):\n",
    "        column = self.array[1:, col_position].astype(np.float)\n",
    "        stdev = np.ndarray.std(column, axis=0)\n",
    "        return f\"Standard Deviation of column {col_position}: {stdev}\""
   ]
  },
  {
   "cell_type": "code",
   "execution_count": 6,
   "metadata": {},
   "outputs": [
    {
     "data": {
      "text/plain": [
       "'Standard Deviation of column 1: 5.932029552301218'"
      ]
     },
     "execution_count": 6,
     "metadata": {},
     "output_type": "execute_result"
    }
   ],
   "source": [
    "car_data = 'mtcars.csv'\n",
    "my_st_dev_shell = DataStDev(car_data)\n",
    "my_st_dev_shell.create_datashell()\n",
    "my_st_dev_shell.get_stdev(1)"
   ]
  },
  {
   "cell_type": "code",
   "execution_count": 7,
   "metadata": {},
   "outputs": [
    {
     "name": "stdout",
     "output_type": "stream",
     "text": [
      "<__main__.DataShell object at 0x0000000004DCF080>\n"
     ]
    }
   ],
   "source": [
    "# Load numpy as np and pandas as pd\n",
    "import numpy as np\n",
    "import pandas as pd\n",
    "\n",
    "# Create class: DataShell\n",
    "class DataShell:\n",
    "    def __init__ (self, inputFile):\n",
    "        self.file = inputFile\n",
    "\n",
    "# Instantiate DataShell as my_data_shell\n",
    "my_data_shell = DataShell('us_life_expectancy.csv')\n",
    "\n",
    "# Print my_data_shell\n",
    "print(my_data_shell)"
   ]
  },
  {
   "cell_type": "code",
   "execution_count": 8,
   "metadata": {},
   "outputs": [
    {
     "name": "stdout",
     "output_type": "stream",
     "text": [
      "         country code  year  life_expectancy\n",
      "0  United States  USA  1880        39.410000\n",
      "1  United States  USA  1890        45.209999\n",
      "2  United States  USA  1901        49.299999\n",
      "3  United States  USA  1902        50.500000\n"
     ]
    }
   ],
   "source": [
    "# Create class CsvDataShell, which inherits from DataShell\n",
    "class CsvDataShell(DataShell):\n",
    "    # Initialization method with arguments self, inputFile\n",
    "    def __init__(self, inputFile):\n",
    "        # Instance variable data\n",
    "        self.data = pd.read_csv(inputFile)\n",
    "\n",
    "# Instantiate CsvDataShell as us_data_shell, passing us_life_expectancy as argument\n",
    "us_data_shell = CsvDataShell('us_life_expectancy.csv')\n",
    "\n",
    "# Print us_data_shell.data\n",
    "print(us_data_shell.data[:4])"
   ]
  },
  {
   "cell_type": "markdown",
   "metadata": {},
   "source": [
    "### Composition"
   ]
  },
  {
   "cell_type": "code",
   "execution_count": 9,
   "metadata": {},
   "outputs": [],
   "source": [
    "class DataShellComposed:\n",
    "    def __init__(self, filename):\n",
    "        self.filename = filename\n",
    "    \n",
    "    def create_datashell(self):\n",
    "        self.df = pd.read_csv(self.filename)\n",
    "        return self.df"
   ]
  },
  {
   "cell_type": "code",
   "execution_count": 10,
   "metadata": {},
   "outputs": [
    {
     "name": "stdout",
     "output_type": "stream",
     "text": [
      "<class 'pandas.core.frame.DataFrame'>\n"
     ]
    }
   ],
   "source": [
    "car_data = 'mtcars.csv'\n",
    "my_data_shell = DataShellComposed(car_data)\n",
    "my_data_shell.create_datashell()\n",
    "print(type(my_data_shell.df))"
   ]
  },
  {
   "cell_type": "code",
   "execution_count": 11,
   "metadata": {},
   "outputs": [],
   "source": [
    "us_life_expectancy = 'us_life_expectancy.csv'"
   ]
  },
  {
   "cell_type": "code",
   "execution_count": 12,
   "metadata": {},
   "outputs": [
    {
     "name": "stdout",
     "output_type": "stream",
     "text": [
      "              year  life_expectancy\n",
      "count   117.000000       117.000000\n",
      "mean   1956.752137        66.556684\n",
      "std      34.398252         9.551079\n",
      "min    1880.000000        39.410000\n",
      "25%    1928.000000        58.500000\n",
      "50%    1957.000000        69.599998\n",
      "75%    1986.000000        74.772003\n",
      "max    2015.000000        79.244003\n"
     ]
    }
   ],
   "source": [
    "# Define abstract class DataShell\n",
    "class DataShell:\n",
    "    # Class variable family\n",
    "    family = 'DataShell'\n",
    "    # Initialization method with arguments, and instance variables\n",
    "    def __init__(self, name, filepath): \n",
    "        self.name = name\n",
    "        self.filepath = filepath\n",
    "\n",
    "# Define class CsvDataShell      \n",
    "class CsvDataShell(DataShell):\n",
    "    # Initialization method with arguments self, name, filepath\n",
    "    def __init__(self, name, filepath):\n",
    "        # Instance variable data\n",
    "        self.data = pd.read_csv(filepath)\n",
    "        # Instance variable stats\n",
    "        self.stats = self.data.describe()\n",
    "\n",
    "# Instantiate CsvDataShell as us_data_shell\n",
    "us_data_shell = CsvDataShell(\"US\", us_life_expectancy)\n",
    "\n",
    "# Print us_data_shell.stats\n",
    "print(us_data_shell.stats)"
   ]
  },
  {
   "cell_type": "code",
   "execution_count": 13,
   "metadata": {},
   "outputs": [],
   "source": [
    "france_life_expectancy = 'france_life_expectancy.csv'"
   ]
  },
  {
   "cell_type": "code",
   "execution_count": 14,
   "metadata": {},
   "outputs": [
    {
     "name": "stdout",
     "output_type": "stream",
     "text": [
      "              year  life_expectancy\n",
      "count   117.000000       117.000000\n",
      "mean   1956.752137        66.556684\n",
      "std      34.398252         9.551079\n",
      "min    1880.000000        39.410000\n",
      "25%    1928.000000        58.500000\n",
      "50%    1957.000000        69.599998\n",
      "75%    1986.000000        74.772003\n",
      "max    2015.000000        79.244003\n",
      "       country,code,year,life_expectancy\n",
      "count                                200\n",
      "unique                               200\n",
      "top                France,FRA,1833,38.84\n",
      "freq                                   1\n"
     ]
    }
   ],
   "source": [
    "# Define abstract class DataShell\n",
    "class DataShell:\n",
    "    family = 'DataShell'\n",
    "    def __init__(self, name, filepath): \n",
    "        self.name = name\n",
    "        self.filepath = filepath\n",
    "\n",
    "# Define class CsvDataShell\n",
    "class CsvDataShell(DataShell):\n",
    "    def __init__(self, name, filepath):\n",
    "        self.data = pd.read_csv(filepath)\n",
    "        self.stats = self.data.describe()\n",
    "\n",
    "# Define class TsvDataShell\n",
    "class TsvDataShell(DataShell):\n",
    "    # Initialization method with arguments self, name, filepath\n",
    "    def __init__(self, name, filepath):\n",
    "        # Instance variable data\n",
    "        self.data = pd.read_table(filepath)\n",
    "        # Instance variable stats\n",
    "        self.stats = self.data.describe()\n",
    "\n",
    "# Instantiate CsvDataShell as us_data_shell, print us_data_shell.stats\n",
    "us_data_shell = CsvDataShell(\"US\", us_life_expectancy)\n",
    "print(us_data_shell.stats)\n",
    "\n",
    "# Instantiate TsvDataShell as france_data_shell, print france_data_shell.stats\n",
    "france_data_shell = TsvDataShell(\"France\", france_life_expectancy)\n",
    "print(france_data_shell.stats)"
   ]
  },
  {
   "cell_type": "code",
   "execution_count": null,
   "metadata": {},
   "outputs": [],
   "source": []
  }
 ],
 "metadata": {
  "kernelspec": {
   "display_name": "Python 3",
   "language": "python",
   "name": "python3"
  },
  "language_info": {
   "codemirror_mode": {
    "name": "ipython",
    "version": 3
   },
   "file_extension": ".py",
   "mimetype": "text/x-python",
   "name": "python",
   "nbconvert_exporter": "python",
   "pygments_lexer": "ipython3",
   "version": "3.6.5"
  }
 },
 "nbformat": 4,
 "nbformat_minor": 2
}
