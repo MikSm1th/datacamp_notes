{
 "cells": [
  {
   "cell_type": "markdown",
   "metadata": {},
   "source": [
    "### Working with a DataSet to Create DataFrames"
   ]
  },
  {
   "cell_type": "code",
   "execution_count": 1,
   "metadata": {},
   "outputs": [],
   "source": [
    "import pandas as pd\n",
    "import numpy as np\n",
    "import warnings\n",
    "warnings.filterwarnings('ignore')"
   ]
  },
  {
   "cell_type": "code",
   "execution_count": 2,
   "metadata": {},
   "outputs": [],
   "source": [
    "class DataShell:\n",
    "    \n",
    "    #constructor\n",
    "    def __init__(self, filename):\n",
    "        self.filename = filename# attribute\n",
    "        \n",
    "    # method    \n",
    "    def create_datashell(self):\n",
    "        self.array = np.genfromtxt(self.filename, delimiter=',', dtype=None)\n",
    "    \n",
    "    # method\n",
    "    #def rename_column(self, old_colname, new_colname):\n",
    "\n",
    "    # method    \n",
    "    def show_shell(self):\n",
    "        print(self.array)\n",
    "\n",
    "    # method    \n",
    "    #def five_figure_summary(self, col_pos):\n"
   ]
  },
  {
   "cell_type": "code",
   "execution_count": 3,
   "metadata": {},
   "outputs": [
    {
     "name": "stdout",
     "output_type": "stream",
     "text": [
      "<__main__.DataShell object at 0x0000000005371128>\n"
     ]
    }
   ],
   "source": [
    "car_data = DataShell('mtcars.csv')\n",
    "print(car_data)"
   ]
  },
  {
   "cell_type": "code",
   "execution_count": 4,
   "metadata": {},
   "outputs": [],
   "source": [
    "car_data.create_datashell()"
   ]
  },
  {
   "cell_type": "code",
   "execution_count": 5,
   "metadata": {},
   "outputs": [
    {
     "name": "stdout",
     "output_type": "stream",
     "text": [
      "<class 'numpy.ndarray'>\n"
     ]
    }
   ],
   "source": [
    "print(type(car_data.array))"
   ]
  },
  {
   "cell_type": "code",
   "execution_count": 6,
   "metadata": {},
   "outputs": [
    {
     "name": "stdout",
     "output_type": "stream",
     "text": [
      "[[b'model' b'mpg' b'cyl' b'disp' b'hp' b'drat' b'wt' b'qsec' b'vs' b'am'\n",
      "  b'gear' b'carb']\n",
      " [b'Mazda RX4' b'21' b'6' b'160' b'110' b'3.9' b'2.62' b'16.46' b'0' b'1'\n",
      "  b'4' b'4']\n",
      " [b'Mazda RX4 Wag' b'21' b'6' b'160' b'110' b'3.9' b'2.875' b'17.02' b'0'\n",
      "  b'1' b'4' b'4']]\n"
     ]
    }
   ],
   "source": [
    "print(car_data.array[:3])"
   ]
  },
  {
   "cell_type": "code",
   "execution_count": 8,
   "metadata": {},
   "outputs": [],
   "source": [
    "integer_list = [1, 2, 3, 4, 5, 6, 7, 8, 9, 10]"
   ]
  },
  {
   "cell_type": "code",
   "execution_count": 9,
   "metadata": {},
   "outputs": [
    {
     "name": "stdout",
     "output_type": "stream",
     "text": [
      "[1, 2, 3, 4, 5, 6, 7, 8, 9, 10]\n",
      "5.5\n"
     ]
    }
   ],
   "source": [
    "# Create class: DataShell\n",
    "class DataShell:\n",
    "  \n",
    "\t# Initialize class with self and dataList as arguments\n",
    "    def __init__(self, dataList):\n",
    "      \t# Set data as instance variable, and assign it the value of dataList\n",
    "        self.data = dataList\n",
    "        \n",
    "\t# Define method that returns data: show\n",
    "    def show(self):\n",
    "        return self.data\n",
    "        \n",
    "    # Define method that prints average of data: avg \n",
    "    def avg(self):\n",
    "        # Declare avg and assign it the average of data\n",
    "        avg = sum(self.data)/float(len(self.data))\n",
    "        # Return avg\n",
    "        return avg\n",
    "        \n",
    "# Instantiate DataShell taking integer_list as argument: my_data_shell\n",
    "my_data_shell = DataShell(integer_list)\n",
    "\n",
    "# Print output of your object's show method\n",
    "print(my_data_shell.show())\n",
    "\n",
    "# Print output of your object's avg method\n",
    "print(my_data_shell.avg())"
   ]
  },
  {
   "cell_type": "code",
   "execution_count": 11,
   "metadata": {},
   "outputs": [],
   "source": [
    "us_life_expectancy = 'us_life_expectancy.csv'"
   ]
  },
  {
   "cell_type": "code",
   "execution_count": 12,
   "metadata": {},
   "outputs": [
    {
     "name": "stdout",
     "output_type": "stream",
     "text": [
      "           country code  year  life_expectancy\n",
      "0    United States  USA  1880        39.410000\n",
      "1    United States  USA  1890        45.209999\n",
      "2    United States  USA  1901        49.299999\n",
      "3    United States  USA  1902        50.500000\n",
      "4    United States  USA  1903        50.599998\n",
      "5    United States  USA  1904        49.599998\n",
      "6    United States  USA  1905        50.299999\n",
      "7    United States  USA  1906        50.099998\n",
      "8    United States  USA  1907        50.200001\n",
      "9    United States  USA  1908        51.900002\n",
      "10   United States  USA  1909        52.799999\n",
      "11   United States  USA  1910        51.799999\n",
      "12   United States  USA  1911        53.400002\n",
      "13   United States  USA  1912        54.099998\n",
      "14   United States  USA  1913        53.500000\n",
      "15   United States  USA  1914        54.599998\n",
      "16   United States  USA  1915        55.099998\n",
      "17   United States  USA  1916        54.200001\n",
      "18   United States  USA  1917        54.000000\n",
      "19   United States  USA  1918        47.200001\n",
      "20   United States  USA  1919        55.299999\n",
      "21   United States  USA  1920        55.400002\n",
      "22   United States  USA  1921        58.200001\n",
      "23   United States  USA  1922        58.099998\n",
      "24   United States  USA  1923        57.500000\n",
      "25   United States  USA  1924        58.500000\n",
      "26   United States  USA  1925        58.500000\n",
      "27   United States  USA  1926        57.900002\n",
      "28   United States  USA  1927        59.400002\n",
      "29   United States  USA  1928        58.299999\n",
      "..             ...  ...   ...              ...\n",
      "87   United States  USA  1986        74.772003\n",
      "88   United States  USA  1987        74.876999\n",
      "89   United States  USA  1988        74.988998\n",
      "90   United States  USA  1989        75.112999\n",
      "91   United States  USA  1990        75.251999\n",
      "92   United States  USA  1991        75.405998\n",
      "93   United States  USA  1992        75.568001\n",
      "94   United States  USA  1993        75.734001\n",
      "95   United States  USA  1994        75.903000\n",
      "96   United States  USA  1995        76.070000\n",
      "97   United States  USA  1996        76.230003\n",
      "98   United States  USA  1997        76.384003\n",
      "99   United States  USA  1998        76.531998\n",
      "100  United States  USA  1999        76.674004\n",
      "101  United States  USA  2000        76.815002\n",
      "102  United States  USA  2001        76.962997\n",
      "103  United States  USA  2002        77.121002\n",
      "104  United States  USA  2003        77.292000\n",
      "105  United States  USA  2004        77.474998\n",
      "106  United States  USA  2005        77.667000\n",
      "107  United States  USA  2006        77.859001\n",
      "108  United States  USA  2007        78.045998\n",
      "109  United States  USA  2008        78.223000\n",
      "110  United States  USA  2009        78.387001\n",
      "111  United States  USA  2010        78.539001\n",
      "112  United States  USA  2011        78.681999\n",
      "113  United States  USA  2012        78.820999\n",
      "114  United States  USA  2013        78.959999\n",
      "115  United States  USA  2014        79.099998\n",
      "116  United States  USA  2015        79.244003\n",
      "\n",
      "[117 rows x 4 columns]\n"
     ]
    }
   ],
   "source": [
    "# Load numpy as np and pandas as pd\n",
    "import numpy as np\n",
    "import pandas as pd\n",
    "\n",
    "# Create class: DataShell\n",
    "class DataShell:\n",
    "  \n",
    "    # Initialize class with self and inputFile\n",
    "    def __init__(self, inputFile):\n",
    "        self.file = inputFile\n",
    "        \n",
    "    # Define generate_csv method, with self argument\n",
    "    def generate_csv(self):\n",
    "        self.data_as_csv = pd.read_csv(self.file)\n",
    "        return self.data_as_csv\n",
    "\n",
    "# Instantiate DataShell with us_life_expectancy as input argument\n",
    "data_shell = DataShell(us_life_expectancy)\n",
    "\n",
    "# Call data_shell's generate_csv method, assign it to df\n",
    "df = data_shell.generate_csv()\n",
    "\n",
    "# Print df\n",
    "print(df)"
   ]
  },
  {
   "cell_type": "markdown",
   "metadata": {},
   "source": [
    "### Renaming columns and the Five-Figure Summary"
   ]
  },
  {
   "cell_type": "code",
   "execution_count": 28,
   "metadata": {},
   "outputs": [],
   "source": [
    "from scipy import stats"
   ]
  },
  {
   "cell_type": "code",
   "execution_count": 33,
   "metadata": {},
   "outputs": [],
   "source": [
    "class DataShell:\n",
    "    \n",
    "    #constructor\n",
    "    def __init__(self, filename):\n",
    "        self.filename = filename# attribute\n",
    "        \n",
    "    # method    \n",
    "    def create_datashell(self):\n",
    "        self.array = np.genfromtxt(self.filename, delimiter=',', dtype=None)\n",
    "    \n",
    "    # method\n",
    "    def rename_column(self, old_colname, new_colname):\n",
    "        for index, value in enumerate(self.array[0]):\n",
    "            if value == old_colname.encode('UTF-8'):\n",
    "                self.array[0][index] = new_colname\n",
    "        return self.array\n",
    "\n",
    "    # method    \n",
    "    def show_shell(self):\n",
    "        print(self.array)\n",
    "\n",
    "    # method    \n",
    "    def five_figure_summary(self, col_pos):\n",
    "        statistics = stats.describe(self.array[1:, col_pos].astype(np.float))\n",
    "        return f\"Five-figure stats of column {col_pos}: {statistics}\""
   ]
  },
  {
   "cell_type": "code",
   "execution_count": 34,
   "metadata": {},
   "outputs": [],
   "source": [
    "my_data_shell = DataShell('mtcars.csv')\n",
    "my_data_shell.create_datashell()"
   ]
  },
  {
   "cell_type": "code",
   "execution_count": 35,
   "metadata": {},
   "outputs": [
    {
     "name": "stdout",
     "output_type": "stream",
     "text": [
      "[[b'model' b'mpg' b'cylinders' b'disp' b'hp' b'drat' b'wt' b'qsec' b'vs'\n",
      "  b'am' b'gear' b'carb']\n",
      " [b'Mazda RX4' b'21' b'6' b'160' b'110' b'3.9' b'2.62' b'16.46' b'0' b'1'\n",
      "  b'4' b'4']\n",
      " [b'Mazda RX4 Wag' b'21' b'6' b'160' b'110' b'3.9' b'2.875' b'17.02' b'0'\n",
      "  b'1' b'4' b'4']\n",
      " [b'Datsun 710' b'22.8' b'4' b'108' b'93' b'3.85' b'2.32' b'18.61' b'1'\n",
      "  b'1' b'4' b'1']]\n"
     ]
    }
   ],
   "source": [
    "my_data_shell.rename_column('cyl', 'cylinders')\n",
    "print(my_data_shell.array[:4])"
   ]
  },
  {
   "cell_type": "code",
   "execution_count": 36,
   "metadata": {},
   "outputs": [
    {
     "data": {
      "text/plain": [
       "'Five-figure stats of column 1: DescribeResult(nobs=32, minmax=(10.4, 33.9), mean=20.090625000000003, variance=36.32410282258064, skewness=0.6404398640318834, kurtosis=-0.20053320971549793)'"
      ]
     },
     "execution_count": 36,
     "metadata": {},
     "output_type": "execute_result"
    }
   ],
   "source": [
    "my_data_shell.five_figure_summary(1)"
   ]
  },
  {
   "cell_type": "code",
   "execution_count": 37,
   "metadata": {},
   "outputs": [
    {
     "name": "stdout",
     "output_type": "stream",
     "text": [
      "           country code  year  life_expectancy\n",
      "0    United States  USA  1880        39.410000\n",
      "1    United States  USA  1890        45.209999\n",
      "2    United States  USA  1901        49.299999\n",
      "3    United States  USA  1902        50.500000\n",
      "4    United States  USA  1903        50.599998\n",
      "5    United States  USA  1904        49.599998\n",
      "6    United States  USA  1905        50.299999\n",
      "7    United States  USA  1906        50.099998\n",
      "8    United States  USA  1907        50.200001\n",
      "9    United States  USA  1908        51.900002\n",
      "10   United States  USA  1909        52.799999\n",
      "11   United States  USA  1910        51.799999\n",
      "12   United States  USA  1911        53.400002\n",
      "13   United States  USA  1912        54.099998\n",
      "14   United States  USA  1913        53.500000\n",
      "15   United States  USA  1914        54.599998\n",
      "16   United States  USA  1915        55.099998\n",
      "17   United States  USA  1916        54.200001\n",
      "18   United States  USA  1917        54.000000\n",
      "19   United States  USA  1918        47.200001\n",
      "20   United States  USA  1919        55.299999\n",
      "21   United States  USA  1920        55.400002\n",
      "22   United States  USA  1921        58.200001\n",
      "23   United States  USA  1922        58.099998\n",
      "24   United States  USA  1923        57.500000\n",
      "25   United States  USA  1924        58.500000\n",
      "26   United States  USA  1925        58.500000\n",
      "27   United States  USA  1926        57.900002\n",
      "28   United States  USA  1927        59.400002\n",
      "29   United States  USA  1928        58.299999\n",
      "..             ...  ...   ...              ...\n",
      "87   United States  USA  1986        74.772003\n",
      "88   United States  USA  1987        74.876999\n",
      "89   United States  USA  1988        74.988998\n",
      "90   United States  USA  1989        75.112999\n",
      "91   United States  USA  1990        75.251999\n",
      "92   United States  USA  1991        75.405998\n",
      "93   United States  USA  1992        75.568001\n",
      "94   United States  USA  1993        75.734001\n",
      "95   United States  USA  1994        75.903000\n",
      "96   United States  USA  1995        76.070000\n",
      "97   United States  USA  1996        76.230003\n",
      "98   United States  USA  1997        76.384003\n",
      "99   United States  USA  1998        76.531998\n",
      "100  United States  USA  1999        76.674004\n",
      "101  United States  USA  2000        76.815002\n",
      "102  United States  USA  2001        76.962997\n",
      "103  United States  USA  2002        77.121002\n",
      "104  United States  USA  2003        77.292000\n",
      "105  United States  USA  2004        77.474998\n",
      "106  United States  USA  2005        77.667000\n",
      "107  United States  USA  2006        77.859001\n",
      "108  United States  USA  2007        78.045998\n",
      "109  United States  USA  2008        78.223000\n",
      "110  United States  USA  2009        78.387001\n",
      "111  United States  USA  2010        78.539001\n",
      "112  United States  USA  2011        78.681999\n",
      "113  United States  USA  2012        78.820999\n",
      "114  United States  USA  2013        78.959999\n",
      "115  United States  USA  2014        79.099998\n",
      "116  United States  USA  2015        79.244003\n",
      "\n",
      "[117 rows x 4 columns]\n"
     ]
    }
   ],
   "source": [
    "# Import numpy as np, pandas as pd\n",
    "import numpy as np\n",
    "import pandas as pd\n",
    "\n",
    "# Create class: DataShell\n",
    "class DataShell:\n",
    "  \n",
    "    # Define initialization method\n",
    "    def __init__(self, filepath):\n",
    "        # Set filepath as instance variable  \n",
    "        self.filepath = filepath\n",
    "        # Set data_as_csv as instance variable\n",
    "        self.data_as_csv = pd.read_csv(filepath)\n",
    "\n",
    "# Instantiate DataShell as us_data_shell\n",
    "us_data_shell = DataShell(us_life_expectancy)\n",
    "\n",
    "# Print your object's data_as_csv attribute\n",
    "print(us_data_shell.data_as_csv)"
   ]
  },
  {
   "cell_type": "code",
   "execution_count": 38,
   "metadata": {},
   "outputs": [
    {
     "name": "stdout",
     "output_type": "stream",
     "text": [
      "country             object\n",
      "code                object\n",
      "year                 int64\n",
      "life_expectancy    float64\n",
      "dtype: object\n",
      "country             object\n",
      "country_code        object\n",
      "year                 int64\n",
      "life_expectancy    float64\n",
      "dtype: object\n"
     ]
    }
   ],
   "source": [
    "# Create class DataShell\n",
    "class DataShell:\n",
    "  \n",
    "    # Define initialization method\n",
    "    def __init__(self, filepath):\n",
    "        self.filepath = filepath\n",
    "        self.data_as_csv = pd.read_csv(filepath)\n",
    "    \n",
    "    # Define method rename_column, with arguments self, column_name, and new_column_name\n",
    "    def rename_column(self, column_name, new_column_name):\n",
    "        self.data_as_csv.columns = self.data_as_csv.columns.str.replace(column_name, new_column_name)\n",
    "\n",
    "# Instantiate DataShell as us_data_shell with argument us_life_expectancy\n",
    "us_data_shell = DataShell(us_life_expectancy)\n",
    "\n",
    "# Print the datatype of your object's data_as_csv attribute\n",
    "print(us_data_shell.data_as_csv.dtypes)\n",
    "\n",
    "# Rename your objects column 'code' to 'country_code'\n",
    "us_data_shell.rename_column('code', 'country_code')\n",
    "\n",
    "# Again, print the datatype of your object's data_as_csv attribute\n",
    "print(us_data_shell.data_as_csv.dtypes)"
   ]
  },
  {
   "cell_type": "code",
   "execution_count": 39,
   "metadata": {},
   "outputs": [
    {
     "name": "stdout",
     "output_type": "stream",
     "text": [
      "              year  life_expectancy\n",
      "count   117.000000       117.000000\n",
      "mean   1956.752137        66.556684\n",
      "std      34.398252         9.551079\n",
      "min    1880.000000        39.410000\n",
      "25%    1928.000000        58.500000\n",
      "50%    1957.000000        69.599998\n",
      "75%    1986.000000        74.772003\n",
      "max    2015.000000        79.244003\n"
     ]
    }
   ],
   "source": [
    "# Create class DataShell\n",
    "class DataShell:\n",
    "\n",
    "    # Define initialization method\n",
    "    def __init__(self, filepath):\n",
    "        self.filepath = filepath\n",
    "        self.data_as_csv = pd.read_csv(filepath)\n",
    "\n",
    "    # Define method rename_column, with arguments self, column_name, and new_column_name\n",
    "    def rename_column(self, column_name, new_column_name):\n",
    "        self.data_as_csv.columns = self.data_as_csv.columns.str.replace(column_name, new_column_name)\n",
    "        \n",
    "    # Define get_stats method, with argument self\n",
    "    def get_stats(self):\n",
    "        # Return a description data_as_csv\n",
    "        return self.data_as_csv.describe()\n",
    "    \n",
    "# Instantiate DataShell as us_data_shell\n",
    "us_data_shell = DataShell(us_life_expectancy)\n",
    "\n",
    "# Print the output of your objects get_stats method\n",
    "print(us_data_shell.get_stats())"
   ]
  },
  {
   "cell_type": "code",
   "execution_count": null,
   "metadata": {},
   "outputs": [],
   "source": []
  }
 ],
 "metadata": {
  "kernelspec": {
   "display_name": "Python 3",
   "language": "python",
   "name": "python3"
  },
  "language_info": {
   "codemirror_mode": {
    "name": "ipython",
    "version": 3
   },
   "file_extension": ".py",
   "mimetype": "text/x-python",
   "name": "python",
   "nbconvert_exporter": "python",
   "pygments_lexer": "ipython3",
   "version": "3.6.5"
  }
 },
 "nbformat": 4,
 "nbformat_minor": 2
}
