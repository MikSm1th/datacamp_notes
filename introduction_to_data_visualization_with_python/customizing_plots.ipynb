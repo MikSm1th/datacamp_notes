{
 "cells": [
  {
   "cell_type": "markdown",
   "metadata": {},
   "source": [
    "# Customizing plots"
   ]
  },
  {
   "cell_type": "code",
   "execution_count": 1,
   "metadata": {},
   "outputs": [],
   "source": [
    "import numpy as np\n",
    "import pandas as pd\n",
    "import matplotlib.pyplot as plt \n",
    "import seaborn as sns\n",
    "from sklearn import datasets\n",
    "import warnings\n",
    "warnings.filterwarnings('ignore')"
   ]
  },
  {
   "cell_type": "code",
   "execution_count": 2,
   "metadata": {},
   "outputs": [],
   "source": [
    "sns.set(rc={'figure.figsize':(11,8)})"
   ]
  },
  {
   "cell_type": "code",
   "execution_count": 3,
   "metadata": {},
   "outputs": [
    {
     "ename": "TypeError",
     "evalue": "'Index' object is not callable",
     "output_type": "error",
     "traceback": [
      "\u001b[1;31m---------------------------------------------------------------------------\u001b[0m",
      "\u001b[1;31mTypeError\u001b[0m                                 Traceback (most recent call last)",
      "\u001b[1;32m<ipython-input-3-47234636212c>\u001b[0m in \u001b[0;36m<module>\u001b[1;34m\u001b[0m\n\u001b[0;32m      1\u001b[0m \u001b[0mweather\u001b[0m \u001b[1;33m=\u001b[0m \u001b[0mpd\u001b[0m\u001b[1;33m.\u001b[0m\u001b[0mread_csv\u001b[0m\u001b[1;33m(\u001b[0m\u001b[1;34m'pittsburgh2013.csv'\u001b[0m\u001b[1;33m,\u001b[0m \u001b[0mparse_dates\u001b[0m\u001b[1;33m=\u001b[0m\u001b[1;33m[\u001b[0m\u001b[1;34m'Date'\u001b[0m\u001b[1;33m]\u001b[0m\u001b[1;33m)\u001b[0m\u001b[1;33m\u001b[0m\u001b[0m\n\u001b[1;32m----> 2\u001b[1;33m \u001b[0mweather\u001b[0m\u001b[1;33m.\u001b[0m\u001b[0mcolumns\u001b[0m\u001b[1;33m(\u001b[0m\u001b[1;33m)\u001b[0m\u001b[1;33m\u001b[0m\u001b[0m\n\u001b[0m",
      "\u001b[1;31mTypeError\u001b[0m: 'Index' object is not callable"
     ]
    }
   ],
   "source": [
    "weather = pd.read_csv('pittsburgh2013.csv', parse_dates=['Date'])\n",
    "weather.columns()"
   ]
  },
  {
   "cell_type": "code",
   "execution_count": null,
   "metadata": {},
   "outputs": [],
   "source": [
    "max_temp = np.array(weather['Max TemperatureF'])\n",
    "min_temp = np.array(weather['Min TemperatureF'])\n",
    "t = weather['Date']"
   ]
  },
  {
   "cell_type": "code",
   "execution_count": null,
   "metadata": {},
   "outputs": [],
   "source": [
    "plt.plot(t, max_temp, 'r')\n",
    "plt.plot(t, min_temp, 'b')\n",
    "plt.xlabel('Date')\n",
    "plt.ylabel('Max & Min Temp')\n",
    "plt.show()"
   ]
  },
  {
   "cell_type": "code",
   "execution_count": null,
   "metadata": {},
   "outputs": [],
   "source": [
    "_ = plt.subplot(2,1,1)\n",
    "_ = plt.plot(t, max_temp, 'r')\n",
    "_ = plt.xlabel('Date')\n",
    "_ = plt.ylabel('Max Temp')\n",
    "_ = plt.subplot(2,1,2)\n",
    "_ = plt.plot(t, min_temp, 'b')\n",
    "_ = plt.xlabel('Date')\n",
    "_ = plt.ylabel('Min Temp')\n",
    "plt.show()"
   ]
  },
  {
   "cell_type": "markdown",
   "metadata": {},
   "source": [
    "### The subplot() command \n",
    "- Syntax: `subplot(nrow, ncols, nsubplot)` \n",
    "- Subplot ordering:\n",
    " - Row-wise from top left\n",
    " - Indexed from 1 "
   ]
  },
  {
   "cell_type": "code",
   "execution_count": null,
   "metadata": {},
   "outputs": [],
   "source": [
    "degrees = pd.read_csv('percent-bachelors-degrees-women-usa.csv')\n",
    "degrees.head(3)"
   ]
  },
  {
   "cell_type": "code",
   "execution_count": null,
   "metadata": {},
   "outputs": [],
   "source": [
    "year = np.array(degrees.Year)\n",
    "physical_sciences = np.array(degrees['Physical Sciences'])\n",
    "computer_science = np.array(degrees['Computer Science'])\n",
    "health = np.array(degrees['Health Professions'])\n",
    "education = np.array(degrees['Education'])"
   ]
  },
  {
   "cell_type": "code",
   "execution_count": null,
   "metadata": {},
   "outputs": [],
   "source": [
    "plt.plot(year, physical_sciences, color='blue')\n",
    "plt.plot(year, computer_science, color='red')\n",
    "plt.show()"
   ]
  },
  {
   "cell_type": "code",
   "execution_count": null,
   "metadata": {},
   "outputs": [],
   "source": [
    "plt.axes([0.05,0.05,0.425,0.9])\n",
    "plt.plot(year, physical_sciences, color='blue')\n",
    "plt.axes([0.525,0.05,0.425,0.9])\n",
    "plt.plot(year, computer_science, color='red')\n",
    "plt.show()"
   ]
  },
  {
   "cell_type": "code",
   "execution_count": null,
   "metadata": {},
   "outputs": [],
   "source": [
    "plt.subplot(1,2,1)\n",
    "plt.plot(year, physical_sciences, color='blue')\n",
    "plt.title('Physical Sciences')\n",
    "plt.subplot(1,2,2)\n",
    "plt.plot(year, computer_science, color='red')\n",
    "plt.title('Computer Science')\n",
    "plt.tight_layout()\n",
    "plt.show()"
   ]
  },
  {
   "cell_type": "code",
   "execution_count": null,
   "metadata": {},
   "outputs": [],
   "source": [
    "# Create a figure with 2x2 subplot layout and make the top left subplot active\n",
    "plt.subplot(2,2,1)\n",
    "\n",
    "# Plot in blue the % of degrees awarded to women in the Physical Sciences\n",
    "plt.plot(year, physical_sciences, color='blue')\n",
    "plt.title('Physical Sciences')\n",
    "\n",
    "# Make the top right subplot active in the current 2x2 subplot grid \n",
    "plt.subplot(2,2,2)\n",
    "\n",
    "# Plot in red the % of degrees awarded to women in Computer Science\n",
    "plt.plot(year, computer_science, color='red')\n",
    "plt.title('Computer Science')\n",
    "\n",
    "# Make the bottom left subplot active in the current 2x2 subplot grid\n",
    "plt.subplot(2,2,3)\n",
    "\n",
    "# Plot in green the % of degrees awarded to women in Health Professions\n",
    "plt.plot(year, health, color='green')\n",
    "plt.title('Health Professions')\n",
    "\n",
    "# Make the bottom right subplot active in the current 2x2 subplot grid\n",
    "plt.subplot(2,2,4)\n",
    "\n",
    "# Plot in yellow the % of degrees awarded to women in Education\n",
    "plt.plot(year, education, color='yellow')\n",
    "plt.title('Education')\n",
    "\n",
    "# Improve the spacing between subplots and display them\n",
    "plt.tight_layout()\n",
    "plt.show()"
   ]
  },
  {
   "cell_type": "markdown",
   "metadata": {},
   "source": [
    "### Customizing axes"
   ]
  },
  {
   "cell_type": "markdown",
   "metadata": {},
   "source": [
    "#### Controlling axis extents\n",
    "- `axis([xmin, xmax, ymin, ymax])` sets axis extents\n",
    "- Control over individual axis extents\n",
    " - `xlim([xmin,xmax])`\n",
    " - `ylim([ymin, ymax])`\n",
    "- Can use tuples, lists for extents\n",
    " - eg: `xlim((-2,3))` or `xlim([-2,3])`"
   ]
  },
  {
   "cell_type": "code",
   "execution_count": null,
   "metadata": {},
   "outputs": [],
   "source": [
    "GDP = pd.read_csv('gdp_usa.csv', parse_dates=['DATE'], index_col='DATE')\n",
    "GDP = GDP.resample('A').last()\n",
    "GDP.index = GDP.index.year\n",
    "GDP.tail()"
   ]
  },
  {
   "cell_type": "code",
   "execution_count": null,
   "metadata": {},
   "outputs": [],
   "source": [
    "# Plot the % of degrees awarded to women in Computer Science and the Physical Sciences\n",
    "plt.plot(year,computer_science, color='red') \n",
    "plt.plot(year, physical_sciences, color='blue')\n",
    "\n",
    "# Add the axis labels\n",
    "plt.xlabel('Year')\n",
    "plt.ylabel('Degrees awarded to women (%)')\n",
    "\n",
    "# Set the x-axis range\n",
    "plt.xlim(1990, 2010)\n",
    "\n",
    "# Set the y-axis range\n",
    "plt.ylim(0, 50)\n",
    "\n",
    "# Add a title and display the plot\n",
    "plt.title('Degrees awarded to women (1990-2010)\\nComputer Science (red)\\nPhysical Sciences (blue)')"
   ]
  },
  {
   "cell_type": "code",
   "execution_count": null,
   "metadata": {},
   "outputs": [],
   "source": [
    "# Plot in blue the % of degrees awarded to women in Computer Science\n",
    "plt.plot(year,computer_science, color='blue')\n",
    "\n",
    "# Plot in red the % of degrees awarded to women in the Physical Sciences\n",
    "plt.plot(year, physical_sciences,color='red')\n",
    "\n",
    "# Set the x-axis and y-axis limits\n",
    "plt.axis([1990, 2010, 0, 50])\n",
    "\n",
    "# Save the figure as 'axis_limits.png'\n",
    "plt.savefig('axis_limits.png')\n",
    "\n",
    "# Show the figure\n",
    "plt.show()"
   ]
  },
  {
   "cell_type": "markdown",
   "metadata": {},
   "source": [
    "### Legends, "
   ]
  },
  {
   "cell_type": "code",
   "execution_count": null,
   "metadata": {},
   "outputs": [],
   "source": [
    "from sklearn.datasets import load_iris\n",
    "iris = load_iris()\n",
    "iris.keys()"
   ]
  },
  {
   "cell_type": "code",
   "execution_count": null,
   "metadata": {},
   "outputs": [],
   "source": [
    "df = pd.DataFrame(iris.data, columns=iris.feature_names)\n",
    "df['target'] = iris.target\n",
    "print(iris.target_names)\n",
    "df.tail()"
   ]
  },
  {
   "cell_type": "code",
   "execution_count": null,
   "metadata": {},
   "outputs": [],
   "source": [
    "setosa_len = df.loc[df['target'] == 0, 'sepal length (cm)']\n",
    "setosa_wid = df.loc[df['target'] == 0, 'sepal width (cm)']"
   ]
  },
  {
   "cell_type": "code",
   "execution_count": null,
   "metadata": {},
   "outputs": [],
   "source": [
    "versicolor_len = df.loc[df['target'] == 1, 'sepal length (cm)']\n",
    "versicolor_wid = df.loc[df['target'] == 1, 'sepal width (cm)']"
   ]
  },
  {
   "cell_type": "code",
   "execution_count": null,
   "metadata": {},
   "outputs": [],
   "source": [
    "virginica_len = df.loc[df['target'] == 2, 'sepal length (cm)']\n",
    "virginica_wid = df.loc[df['target'] == 2, 'sepal width (cm)']"
   ]
  },
  {
   "cell_type": "code",
   "execution_count": null,
   "metadata": {},
   "outputs": [],
   "source": [
    "plt.scatter(setosa_len, setosa_wid, \n",
    "           marker='o', color='red', label='setosa');\n",
    "plt.scatter(versicolor_len, versicolor_wid,\n",
    "           marker='o', color='green', label='versicolor');\n",
    "plt.scatter(virginica_len, virginica_wid,\n",
    "           marker='o', color='blue', label='virginica');\n",
    "plt.legend(loc='upper right');\n",
    "plt.title('Iris data');\n",
    "plt.xlabel('sepal length (cm)');\n",
    "plt.ylabel('sepal width (cm)');"
   ]
  },
  {
   "cell_type": "markdown",
   "metadata": {},
   "source": [
    "### Plot annotations\n",
    "- Text lables and arrows using annotate() method\n",
    "- Flexible specification of coordinates\n",
    "- Keyword arrowprops: dict of arrow properties\n",
    " - width\n",
    " - color\n"
   ]
  },
  {
   "cell_type": "code",
   "execution_count": null,
   "metadata": {},
   "outputs": [],
   "source": [
    "plt.scatter(setosa_len, setosa_wid, \n",
    "           marker='o', color='red', label='setosa');\n",
    "plt.scatter(versicolor_len, versicolor_wid,\n",
    "           marker='o', color='green', label='versicolor');\n",
    "plt.scatter(virginica_len, virginica_wid,\n",
    "           marker='o', color='blue', label='virginica');\n",
    "#plt.legend(loc='upper right');\n",
    "plt.annotate('setosa', xy=(5.0, 3.5));\n",
    "plt.annotate('virginica', xy=(7.25, 3.5));\n",
    "plt.annotate('versicolor', xy=(5.0, 2.0));\n",
    "plt.title('Iris data');\n",
    "plt.xlabel('sepal length (cm)');\n",
    "plt.ylabel('sepal width (cm)');"
   ]
  },
  {
   "cell_type": "code",
   "execution_count": null,
   "metadata": {},
   "outputs": [],
   "source": [
    "plt.scatter(setosa_len, setosa_wid, \n",
    "           marker='o', color='red', label='setosa');\n",
    "plt.scatter(versicolor_len, versicolor_wid,\n",
    "           marker='o', color='green', label='versicolor');\n",
    "plt.scatter(virginica_len, virginica_wid,\n",
    "           marker='o', color='blue', label='virginica');\n",
    "#plt.legend(loc='upper right');\n",
    "plt.annotate('setosa', xy=(5.0, 3.5), xytext=(4.25,4.0), arrowprops={'color':'red'});\n",
    "plt.annotate('virginica', xy=(7.25, 3.5), xytext=(6.5, 4.0), arrowprops={'color':'blue'});\n",
    "plt.annotate('versicolor', xy=(5.0, 2.0), xytext=(5.5, 1.97), arrowprops={'color':'green'});\n",
    "plt.title('Iris data');\n",
    "plt.xlabel('sepal length (cm)');\n",
    "plt.ylabel('sepal width (cm)');"
   ]
  },
  {
   "cell_type": "markdown",
   "metadata": {},
   "source": [
    "#### Working with plot styles\n",
    "- Style sheets in Matplotlib\n",
    "- Defaults for lines, points, backgrounds, etc\n",
    "- Switch styles globally with plt.style.use()"
   ]
  },
  {
   "cell_type": "code",
   "execution_count": null,
   "metadata": {},
   "outputs": [],
   "source": [
    "plt.style.use('ggplot')\n",
    "plt.scatter(setosa_len, setosa_wid, \n",
    "           marker='o', color='red', label='setosa');\n",
    "plt.scatter(versicolor_len, versicolor_wid,\n",
    "           marker='o', color='green', label='versicolor');\n",
    "plt.scatter(virginica_len, virginica_wid,\n",
    "           marker='o', color='blue', label='virginica');\n",
    "#plt.legend(loc='upper right');\n",
    "plt.annotate('setosa', xy=(5.0, 3.5), xytext=(4.25,4.0), arrowprops={'color':'red'});\n",
    "plt.annotate('virginica', xy=(7.25, 3.5), xytext=(6.5, 4.0), arrowprops={'color':'blue'});\n",
    "plt.annotate('versicolor', xy=(5.0, 2.0), xytext=(5.5, 1.97), arrowprops={'color':'green'});\n",
    "plt.title('Iris data');\n",
    "plt.xlabel('sepal length (cm)');\n",
    "plt.ylabel('sepal width (cm)');"
   ]
  },
  {
   "cell_type": "code",
   "execution_count": null,
   "metadata": {},
   "outputs": [],
   "source": [
    "plt.style.use('fivethirtyeight')\n",
    "plt.scatter(setosa_len, setosa_wid, \n",
    "           marker='o', color='red', label='setosa');\n",
    "plt.scatter(versicolor_len, versicolor_wid,\n",
    "           marker='o', color='green', label='versicolor');\n",
    "plt.scatter(virginica_len, virginica_wid,\n",
    "           marker='o', color='blue', label='virginica');\n",
    "#plt.legend(loc='upper right');\n",
    "plt.annotate('setosa', xy=(5.0, 3.5), xytext=(4.25,4.0), arrowprops={'color':'red'});\n",
    "plt.annotate('virginica', xy=(7.25, 3.5), xytext=(6.5, 4.0), arrowprops={'color':'blue'});\n",
    "plt.annotate('versicolor', xy=(5.0, 2.0), xytext=(5.5, 1.97), arrowprops={'color':'green'});\n",
    "plt.title('Iris data');\n",
    "plt.xlabel('sepal length (cm)');\n",
    "plt.ylabel('sepal width (cm)');"
   ]
  },
  {
   "cell_type": "markdown",
   "metadata": {},
   "source": [
    "#### Using legend()"
   ]
  },
  {
   "cell_type": "code",
   "execution_count": null,
   "metadata": {},
   "outputs": [],
   "source": [
    "# Specify the label 'Computer Science'\n",
    "plt.plot(year, computer_science, color='red', label='Computer Science') \n",
    "\n",
    "# Specify the label 'Physical Sciences' \n",
    "plt.plot(year, physical_sciences, color='blue', label='Physical Sciences')\n",
    "\n",
    "# Add a legend at the lower center\n",
    "plt.legend(loc='lower center')\n",
    "\n",
    "# Add axis labels and title\n",
    "plt.xlabel('Year')\n",
    "plt.ylabel('Enrollment (%)')\n",
    "plt.title('Undergraduate enrollment of women')\n",
    "plt.show()"
   ]
  },
  {
   "cell_type": "markdown",
   "metadata": {},
   "source": [
    "#### Using annotate()"
   ]
  },
  {
   "cell_type": "code",
   "execution_count": null,
   "metadata": {},
   "outputs": [],
   "source": [
    "# Plot with legend as before\n",
    "plt.plot(year, computer_science, color='red', label='Computer Science') \n",
    "plt.plot(year, physical_sciences, color='blue', label='Physical Sciences')\n",
    "plt.legend(loc='lower right')\n",
    "\n",
    "# Compute the maximum enrollment of women in Computer Science: cs_max\n",
    "cs_max = computer_science.max()\n",
    "\n",
    "# Calculate the year in which there was maximum enrollment of women in Computer Science: yr_max\n",
    "yr_max = year[computer_science.argmax()]\n",
    "\n",
    "# Add a black arrow annotation\n",
    "plt.annotate('Maximum', xy=(yr_max, cs_max), xytext=(yr_max+5, cs_max+5), arrowprops={'facecolor':'k'});\n",
    "\n",
    "# Add axis labels and title\n",
    "plt.xlabel('Year')\n",
    "plt.ylabel('Enrollment (%)')\n",
    "plt.title('Undergraduate enrollment of women')\n",
    "plt.show()"
   ]
  },
  {
   "cell_type": "markdown",
   "metadata": {},
   "source": [
    "#### Modifying styles"
   ]
  },
  {
   "cell_type": "code",
   "execution_count": null,
   "metadata": {},
   "outputs": [],
   "source": [
    "# Set the style to 'ggplot'\n",
    "plt.style.use('ggplot')\n",
    "\n",
    "# Create a figure with 2x2 subplot layout\n",
    "plt.subplot(2, 2, 1) \n",
    "\n",
    "# Plot the enrollment % of women in the Physical Sciences\n",
    "plt.plot(year, physical_sciences, color='blue')\n",
    "plt.title('Physical Sciences')\n",
    "\n",
    "# Plot the enrollment % of women in Computer Science\n",
    "plt.subplot(2, 2, 2)\n",
    "plt.plot(year, computer_science, color='red')\n",
    "plt.title('Computer Science')\n",
    "\n",
    "# Add annotation\n",
    "cs_max = computer_science.max()\n",
    "yr_max = year[computer_science.argmax()]\n",
    "plt.annotate('Maximum', xy=(yr_max, cs_max), xytext=(yr_max-1, cs_max-10), arrowprops=dict(facecolor='black'))\n",
    "\n",
    "# Plot the enrollmment % of women in Health professions\n",
    "plt.subplot(2, 2, 3)\n",
    "plt.plot(year, health, color='green')\n",
    "plt.title('Health Professions')\n",
    "\n",
    "# Plot the enrollment % of women in Education\n",
    "plt.subplot(2, 2, 4)\n",
    "plt.plot(year, education, color='yellow')\n",
    "plt.title('Education')\n",
    "\n",
    "# Improve spacing between subplots and display them\n",
    "plt.tight_layout()\n",
    "plt.show()"
   ]
  },
  {
   "cell_type": "code",
   "execution_count": null,
   "metadata": {},
   "outputs": [],
   "source": []
  }
 ],
 "metadata": {
  "kernelspec": {
   "display_name": "Python 3",
   "language": "python",
   "name": "python3"
  },
  "language_info": {
   "codemirror_mode": {
    "name": "ipython",
    "version": 3
   },
   "file_extension": ".py",
   "mimetype": "text/x-python",
   "name": "python",
   "nbconvert_exporter": "python",
   "pygments_lexer": "ipython3",
   "version": "3.6.5"
  }
 },
 "nbformat": 4,
 "nbformat_minor": 2
}
