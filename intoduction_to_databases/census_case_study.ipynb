{
 "cells": [
  {
   "cell_type": "markdown",
   "metadata": {},
   "source": [
    "## Census case study\n",
    "- Preparing SQLAlchemy and the Database\n",
    "- Loading Data int the Database\n",
    "- Solving Data Science Problems with Queries"
   ]
  },
  {
   "cell_type": "markdown",
   "metadata": {},
   "source": [
    "### Part 1: Preparing SQLAlchemy and the Database\n",
    "- Create an Engine and MetaData object"
   ]
  },
  {
   "cell_type": "code",
   "execution_count": 1,
   "metadata": {},
   "outputs": [],
   "source": [
    "from sqlalchemy import create_engine, MetaData\n",
    "engine = create_engine('sqlite:///census.sqlite')\n",
    "metadata = MetaData()"
   ]
  },
  {
   "cell_type": "markdown",
   "metadata": {},
   "source": [
    "- Create and save the census table"
   ]
  },
  {
   "cell_type": "code",
   "execution_count": 2,
   "metadata": {},
   "outputs": [],
   "source": [
    "from sqlalchemy import (Table, Column, String, Integer, Float, Boolean)\n",
    "\n",
    "# employees = Table('employees', metadata,\n",
    "#                  Column('id', Integer()),\n",
    "#                  Column('name', String(225)),\n",
    "#                  Column('salary', Decimal()),\n",
    "#                  Column('active', Boolean()))\n",
    "\n",
    "# metadata.create_all(engine)"
   ]
  },
  {
   "cell_type": "code",
   "execution_count": 3,
   "metadata": {},
   "outputs": [],
   "source": [
    "# Import create_engine, MetaData\n",
    "from sqlalchemy import create_engine, MetaData\n",
    "\n",
    "# Define an engine to connect to chapter5.sqlite: engine\n",
    "engine = create_engine('sqlite:///chapter5.sqlite')\n",
    "\n",
    "# Initialize MetaData: metadata\n",
    "metadata = MetaData()"
   ]
  },
  {
   "cell_type": "code",
   "execution_count": 4,
   "metadata": {},
   "outputs": [],
   "source": [
    "# Import Table, Column, String, and Integer\n",
    "from sqlalchemy import (Table, Column, String, Integer)\n",
    "\n",
    "# Build a census table: census\n",
    "census = Table('census', metadata,\n",
    "               Column('state', String(30)),\n",
    "               Column('sex', String(1)),\n",
    "               Column('age', Integer()),\n",
    "               Column('pop2000', Integer()),\n",
    "               Column('pop2008', Integer()))\n",
    "\n",
    "# Create the table in the database\n",
    "metadata.create_all(engine)"
   ]
  },
  {
   "cell_type": "markdown",
   "metadata": {},
   "source": [
    "### Populating the Database"
   ]
  },
  {
   "cell_type": "code",
   "execution_count": 7,
   "metadata": {},
   "outputs": [
    {
     "data": {
      "text/plain": [
       "[{'state': 'Illinois',\n",
       "  'sex': 'M',\n",
       "  'age': '0',\n",
       "  'pop2000': '89600',\n",
       "  'pop2008': '95012'},\n",
       " {'state': 'Illinois',\n",
       "  'sex': 'M',\n",
       "  'age': '1',\n",
       "  'pop2000': '88445',\n",
       "  'pop2008': '91829'},\n",
       " {'state': 'Illinois',\n",
       "  'sex': 'M',\n",
       "  'age': '2',\n",
       "  'pop2000': '88729',\n",
       "  'pop2008': '89547'},\n",
       " {'state': 'Illinois',\n",
       "  'sex': 'M',\n",
       "  'age': '3',\n",
       "  'pop2000': '88868',\n",
       "  'pop2008': '90037'},\n",
       " {'state': 'Illinois',\n",
       "  'sex': 'M',\n",
       "  'age': '4',\n",
       "  'pop2000': '91947',\n",
       "  'pop2008': '91111'}]"
      ]
     },
     "execution_count": 7,
     "metadata": {},
     "output_type": "execute_result"
    }
   ],
   "source": [
    "import csv\n",
    "values_list =[]\n",
    "\n",
    "with open('census.csv', newline='\\n') as csvfile:\n",
    "    csv_reader = csv.reader(csvfile, delimiter=',')\n",
    "    for row in csv_reader:\n",
    "        data = {'state': row[0], 'sex': row[1], \n",
    "                'age': row[2], 'pop2000': row[3],\n",
    "               'pop2008': row[4]}\n",
    "        values_list.append(data)\n",
    "\n",
    "values_list[:5]"
   ]
  },
  {
   "cell_type": "code",
   "execution_count": 9,
   "metadata": {},
   "outputs": [
    {
     "name": "stdout",
     "output_type": "stream",
     "text": [
      "8772\n"
     ]
    }
   ],
   "source": [
    "from sqlalchemy import insert\n",
    "connection = engine.connect()\n",
    "\n",
    "stmt = insert(census)\n",
    "\n",
    "result_proxy = connection.execute(stmt, values_list)\n",
    "\n",
    "print(result_proxy.rowcount)"
   ]
  },
  {
   "cell_type": "markdown",
   "metadata": {},
   "source": [
    "### Example Queries"
   ]
  },
  {
   "cell_type": "markdown",
   "metadata": {},
   "source": [
    "#### Part 3: Answering Data Science Questions with Queries\n",
    "- Determine Average Age for Males and Females"
   ]
  },
  {
   "cell_type": "code",
   "execution_count": 10,
   "metadata": {},
   "outputs": [
    {
     "name": "stdout",
     "output_type": "stream",
     "text": [
      "[('F', 38), ('M', 35)]\n"
     ]
    }
   ],
   "source": [
    "from sqlalchemy import select, func\n",
    "\n",
    "stmt = select([census.columns.sex, \n",
    "              (func.sum(census.columns.pop2008 *\n",
    "                       census.columns.age) /\n",
    "              func.sum(census.columns.pop2008)).label('average_age')])\n",
    "\n",
    "stmt = stmt.group_by(census.columns.sex)\n",
    "\n",
    "results = connection.execute(stmt).fetchall()\n",
    "print(results)"
   ]
  },
  {
   "cell_type": "code",
   "execution_count": 12,
   "metadata": {},
   "outputs": [
    {
     "name": "stdout",
     "output_type": "stream",
     "text": [
      "[(6.426761976501632,)]\n"
     ]
    }
   ],
   "source": [
    "from sqlalchemy import case, cast\n",
    "\n",
    "stmt = select([\n",
    "        (func.sum(\n",
    "        case([\n",
    "            (census.columns.state == 'New York',\n",
    "            census.columns.pop2008)], else_ = 0)) /\n",
    "         cast(func.sum(census.columns.pop2008), \n",
    "             Float) * 100).label('ny_percent')\n",
    "])\n",
    "\n",
    "results = connection.execute(stmt).fetchall()\n",
    "print(results)"
   ]
  },
  {
   "cell_type": "markdown",
   "metadata": {},
   "source": [
    "- Determine the top 5 states by population change from 2000 to 2008"
   ]
  },
  {
   "cell_type": "code",
   "execution_count": 13,
   "metadata": {},
   "outputs": [
    {
     "name": "stdout",
     "output_type": "stream",
     "text": [
      "[(9, -42870), (9, -40221), (10, -39018), (8, -37828), (8, -37154)]\n"
     ]
    }
   ],
   "source": [
    "stmt = select([census.columns.age, \n",
    "              (census.columns.pop2008-\n",
    "              census.columns.pop2000).label('pop_change')])\n",
    "\n",
    "stmt = stmt.order_by('pop_change')\n",
    "stmt = stmt.limit(5)\n",
    "\n",
    "results = connection.execute(stmt).fetchall()\n",
    "print(results)"
   ]
  },
  {
   "cell_type": "code",
   "execution_count": 19,
   "metadata": {},
   "outputs": [
    {
     "name": "stdout",
     "output_type": "stream",
     "text": [
      "F 38\n",
      "M 35\n"
     ]
    }
   ],
   "source": [
    "# Import select\n",
    "from sqlalchemy import select\n",
    "\n",
    "# Calculate weighted average age: stmt\n",
    "stmt = select([census.columns.sex,\n",
    "               (func.sum(census.columns.pop2008 * census.columns.age) /\n",
    "                func.sum(census.columns.pop2008)).label('average_age')\n",
    "               ])\n",
    "\n",
    "# Group by sex\n",
    "stmt = stmt.group_by(census.columns.sex)\n",
    "\n",
    "# Execute the query and store the results: results\n",
    "results = connection.execute(stmt).fetchall()\n",
    "\n",
    "# Print the average age by sex\n",
    "for result in results:\n",
    "    print(result.sex, result.average_age)"
   ]
  },
  {
   "cell_type": "code",
   "execution_count": 20,
   "metadata": {},
   "outputs": [
    {
     "name": "stdout",
     "output_type": "stream",
     "text": [
      "Alabama 51.832407770179465\n",
      "Alaska 49.301497893484594\n",
      "Arizona 50.22361303057914\n",
      "Arkansas 51.26992846221834\n",
      "California 50.35233214901979\n",
      "Colorado 49.84767060299562\n",
      "Connecticut 51.66816507130644\n",
      "Delaware 51.61109733558627\n",
      "District of Columbia 53.129626141738385\n",
      "Florida 51.36488001165242\n",
      "Georgia 51.11408350339436\n",
      "Hawaii 51.118011836915514\n",
      "Idaho 49.98972623903102\n",
      "Illinois 51.11224234802867\n",
      "Indiana 50.95480313297678\n",
      "Iowa 50.950398342534264\n",
      "Kansas 50.821864107754735\n",
      "Kentucky 51.32687036927168\n",
      "Louisiana 51.75351596554121\n",
      "Maine 51.50570813418951\n",
      "Maryland 51.93575549972231\n",
      "Massachusetts 51.843023571316785\n",
      "Michigan 50.97246518318712\n",
      "Minnesota 50.49332944301148\n",
      "Mississippi 51.92229481794672\n",
      "Missouri 51.46888602639692\n",
      "Montana 50.32202690728538\n",
      "Nebraska 50.8584549336086\n",
      "Nevada 49.36736361384359\n",
      "New Hampshire 50.858019844961746\n",
      "New Jersey 51.51713956125773\n",
      "New Mexico 51.0471720798335\n",
      "New York 51.83453865150073\n",
      "North Carolina 51.482262322084594\n",
      "North Dakota 50.50069363231332\n",
      "Ohio 51.46550350015544\n",
      "Oklahoma 51.11362457075227\n",
      "Oregon 50.4294670361772\n",
      "Pennsylvania 51.74043473051053\n",
      "Rhode Island 52.07343391902215\n",
      "South Carolina 51.73072129765755\n",
      "South Dakota 50.52583581373275\n",
      "Tennessee 51.430689699449275\n",
      "Texas 50.515721664207966\n",
      "Utah 49.97295275106927\n",
      "Vermont 51.018573209949466\n",
      "Virginia 51.657252447241795\n",
      "Washington 50.518565087218334\n",
      "West Virginia 51.40042318092286\n",
      "Wisconsin 50.61486452653393\n",
      "Wyoming 49.94595542648306\n"
     ]
    }
   ],
   "source": [
    "# import case, cast and Float from sqlalchemy\n",
    "from sqlalchemy import case, cast, Float\n",
    "\n",
    "# Build a query to calculate the percentage of females in 2000: stmt\n",
    "stmt = select([census.columns.state,\n",
    "    (func.sum(\n",
    "        case([\n",
    "            (census.columns.sex == 'F', census.columns.pop2000)\n",
    "        ], else_=0)) /\n",
    "     cast(func.sum(census.columns.pop2000), Float) * 100).label('percent_female')\n",
    "])\n",
    "\n",
    "# Group By state\n",
    "stmt = stmt.group_by(census.columns.state)\n",
    "\n",
    "# Execute the query and store the results: results\n",
    "results = connection.execute(stmt).fetchall()\n",
    "\n",
    "# Print the percentage\n",
    "for result in results:\n",
    "    print(result.state, result.percent_female)"
   ]
  },
  {
   "cell_type": "code",
   "execution_count": 24,
   "metadata": {},
   "outputs": [],
   "source": [
    "from sqlalchemy import desc"
   ]
  },
  {
   "cell_type": "code",
   "execution_count": 25,
   "metadata": {},
   "outputs": [
    {
     "name": "stdout",
     "output_type": "stream",
     "text": [
      "California:105705\n",
      "Florida:100984\n",
      "Texas:51901\n",
      "New York:47098\n",
      "Pennsylvania:42387\n",
      "Arizona:29509\n",
      "Ohio:29392\n",
      "Illinois:26221\n",
      "Michigan:25126\n",
      "North Carolina:24108\n"
     ]
    }
   ],
   "source": [
    "# Build query to return state name and population difference from 2008 to 2000\n",
    "stmt = select([census.columns.state,\n",
    "     (census.columns.pop2008 - census.columns.pop2000).label('pop_change')\n",
    "])\n",
    "\n",
    "# Group by State\n",
    "stmt = stmt.group_by(census.columns.state)\n",
    "\n",
    "# Order by Population Change\n",
    "stmt = stmt.order_by(desc('pop_change'))\n",
    "\n",
    "# Limit to top 10\n",
    "stmt = stmt.limit(10)\n",
    "\n",
    "# Use connection to execute the statement and fetch all results\n",
    "results = connection.execute(stmt).fetchall()\n",
    "\n",
    "# Print the state and population change for each record\n",
    "for result in results:\n",
    "    print('{}:{}'.format(result.state, result.pop_change))"
   ]
  },
  {
   "cell_type": "code",
   "execution_count": null,
   "metadata": {},
   "outputs": [],
   "source": []
  }
 ],
 "metadata": {
  "kernelspec": {
   "display_name": "Python 3",
   "language": "python",
   "name": "python3"
  },
  "language_info": {
   "codemirror_mode": {
    "name": "ipython",
    "version": 3
   },
   "file_extension": ".py",
   "mimetype": "text/x-python",
   "name": "python",
   "nbconvert_exporter": "python",
   "pygments_lexer": "ipython3",
   "version": "3.6.5"
  }
 },
 "nbformat": 4,
 "nbformat_minor": 2
}
