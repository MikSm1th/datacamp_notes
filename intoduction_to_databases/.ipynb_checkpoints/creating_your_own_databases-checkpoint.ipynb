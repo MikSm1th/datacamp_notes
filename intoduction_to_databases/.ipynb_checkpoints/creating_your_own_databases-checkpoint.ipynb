{
 "cells": [
  {
   "cell_type": "markdown",
   "metadata": {},
   "source": [
    "### Creating Databases and Tables"
   ]
  },
  {
   "cell_type": "markdown",
   "metadata": {},
   "source": [
    "### Creating Databases\n",
    "- Varies by the database type\n",
    "- Databases like PostgreSQL and MySQL have command line tools to initialize the database\n",
    "- With SQLite, the `create_engine()` statement will create the database and file if they do not already exist"
   ]
  },
  {
   "cell_type": "markdown",
   "metadata": {},
   "source": [
    "### Building a Table"
   ]
  },
  {
   "cell_type": "code",
   "execution_count": 1,
   "metadata": {},
   "outputs": [],
   "source": [
    "from sqlalchemy import (Table, Column, String, Integer, Float, Boolean)\n",
    "from sqlalchemy import create_engine, MetaData\n",
    "engine = create_engine('sqlite:///:memory:')\n",
    "metadata = MetaData()"
   ]
  },
  {
   "cell_type": "code",
   "execution_count": 2,
   "metadata": {},
   "outputs": [],
   "source": [
    "# employees = Table('employees', metadata,\n",
    "#                  Column('id', Integer()),\n",
    "#                  Column('name', String(225)),\n",
    "#                  Column('salary', DECIMAL()),\n",
    "#                  Column('active', Boolean()))\n",
    "\n",
    "# metadata.create_all(engine)\n",
    "# engine.table_names()"
   ]
  },
  {
   "cell_type": "markdown",
   "metadata": {},
   "source": [
    "### Creating Tables\n",
    "- Still uses the Table object like we did for reflection\n",
    "- Replaces the autoload keyword arguments with Column objects\n",
    "- Creates the tables in the actual database by using the `create_all()` method on the MetaData instance\n",
    "- Other tools are needed to handle database table updates, such as Alembic or raw SQL"
   ]
  },
  {
   "cell_type": "markdown",
   "metadata": {},
   "source": [
    "### Creating Tables - Additional Column Options\n",
    "- `unique` forces all values for the data in a column to be unique\n",
    "- `nullable` determines if a column can be empty in a row\n",
    "- `default` sets a default value if one isn't supplied"
   ]
  },
  {
   "cell_type": "code",
   "execution_count": 3,
   "metadata": {},
   "outputs": [
    {
     "data": {
      "text/plain": [
       "{CheckConstraint(<sqlalchemy.sql.elements.BinaryExpression object at 0x0000000005AFEEF0>, name='_unnamed_', table=Table('employees', MetaData(bind=None), Column('id', Integer(), table=<employees>), Column('name', String(length=225), table=<employees>, nullable=False), Column('salary', Float(), table=<employees>, default=ColumnDefault(100.0)), Column('active', Boolean(), table=<employees>, default=ColumnDefault(True)), schema=None), _create_rule=<sqlalchemy.util.langhelpers.portable_instancemethod object at 0x0000000005B1E168>, _type_bound=True),\n",
       " PrimaryKeyConstraint(),\n",
       " UniqueConstraint(Column('name', String(length=225), table=<employees>, nullable=False))}"
      ]
     },
     "execution_count": 3,
     "metadata": {},
     "output_type": "execute_result"
    }
   ],
   "source": [
    "employees = Table('employees', metadata,\n",
    "                 Column('id', Integer()),\n",
    "                 Column('name', String(225), unique=True,\n",
    "                       nullable=False),\n",
    "                 Column('salary', Float(), default=100.00),\n",
    "                 Column('active', Boolean(), default=True))\n",
    "\n",
    "employees.constraints"
   ]
  },
  {
   "cell_type": "code",
   "execution_count": 4,
   "metadata": {},
   "outputs": [
    {
     "data": {
      "text/plain": [
       "['employees']"
      ]
     },
     "execution_count": 4,
     "metadata": {},
     "output_type": "execute_result"
    }
   ],
   "source": [
    "metadata.create_all(engine)\n",
    "engine.table_names()"
   ]
  },
  {
   "cell_type": "markdown",
   "metadata": {},
   "source": [
    "### Inserting Data into a Table"
   ]
  },
  {
   "cell_type": "markdown",
   "metadata": {},
   "source": [
    "### Adding Data to a Table\n",
    "- Done with the `insert()` statement\n",
    "- `Insert()` takes the table we are loading data into as the argument\n",
    "- We add all the values we want to insert in with the `values` clause as `column=value` pairs\n",
    "- Doesn't return any rows, so no need for a fetch method."
   ]
  },
  {
   "cell_type": "markdown",
   "metadata": {},
   "source": [
    "### Inserting One Row"
   ]
  },
  {
   "cell_type": "code",
   "execution_count": 5,
   "metadata": {},
   "outputs": [],
   "source": [
    "connection = engine.connect()"
   ]
  },
  {
   "cell_type": "code",
   "execution_count": 6,
   "metadata": {},
   "outputs": [],
   "source": [
    "from sqlalchemy import insert\n",
    "\n",
    "stmt = insert(employees).values(id=1,\n",
    "                               name='Jason',\n",
    "                               salary=1.00,\n",
    "                               active=True)\n",
    "\n",
    "result_proxy = connection.execute(stmt)"
   ]
  },
  {
   "cell_type": "code",
   "execution_count": 7,
   "metadata": {},
   "outputs": [
    {
     "name": "stdout",
     "output_type": "stream",
     "text": [
      "1\n"
     ]
    }
   ],
   "source": [
    "print(result_proxy.rowcount)"
   ]
  },
  {
   "cell_type": "markdown",
   "metadata": {},
   "source": [
    "### Inserting Multiple Rows\n",
    "- Build an insert statement without any values\n",
    "- Build a list of dictionaries that represent all the values clauses for the rows you want to insert\n",
    "- Pass both the stmt and the values list to the execute method on connection"
   ]
  },
  {
   "cell_type": "code",
   "execution_count": 8,
   "metadata": {},
   "outputs": [
    {
     "name": "stdout",
     "output_type": "stream",
     "text": [
      "2\n"
     ]
    }
   ],
   "source": [
    "stmt = insert(employees)\n",
    "\n",
    "values_list = [ \n",
    "            {'id': 2, 'name': 'Rebecca', 'salary': 2.00, 'active': True},\n",
    "            {'id': 3, 'name': 'Bob', 'salary': 0.00, 'active': False}]\n",
    "\n",
    "result_proxy = connection.execute(stmt, values_list)\n",
    "\n",
    "print(result_proxy.rowcount)"
   ]
  },
  {
   "cell_type": "code",
   "execution_count": 9,
   "metadata": {},
   "outputs": [
    {
     "name": "stdout",
     "output_type": "stream",
     "text": [
      "[(1, 'Jason', 1.0, True), (2, 'Rebecca', 2.0, True), (3, 'Bob', 0.0, False)]\n"
     ]
    }
   ],
   "source": [
    "from sqlalchemy import select\n",
    "stmt = select([employees])\n",
    "print(connection.execute(stmt).fetchall())"
   ]
  },
  {
   "cell_type": "markdown",
   "metadata": {},
   "source": [
    "### Removing Data from a Database"
   ]
  },
  {
   "cell_type": "markdown",
   "metadata": {},
   "source": [
    "### Deleting Specific Rows"
   ]
  },
  {
   "cell_type": "code",
   "execution_count": 11,
   "metadata": {},
   "outputs": [
    {
     "data": {
      "text/plain": [
       "1"
      ]
     },
     "execution_count": 11,
     "metadata": {},
     "output_type": "execute_result"
    }
   ],
   "source": [
    "from sqlalchemy import delete, func\n",
    "stmt = delete(employees).where(\n",
    "        employees.columns.id==3)\n",
    "\n",
    "result_proxy = connection.execute(stmt)\n",
    "\n",
    "result_proxy.rowcount"
   ]
  },
  {
   "cell_type": "markdown",
   "metadata": {},
   "source": [
    "### Deleting Data from a Table\n",
    "- Done with the `delete()` statement\n",
    "- `delete()` takes the table we are loading data into as the argument\n",
    "- A `where()` clause is used to choose which rows to delete\n",
    "- Hard to undo so BE CAREFUL!!!"
   ]
  },
  {
   "cell_type": "code",
   "execution_count": 12,
   "metadata": {},
   "outputs": [
    {
     "data": {
      "text/plain": [
       "2"
      ]
     },
     "execution_count": 12,
     "metadata": {},
     "output_type": "execute_result"
    }
   ],
   "source": [
    "from sqlalchemy import delete, func\n",
    "stmt = select([func.count(employees.columns.id)])\n",
    "connection.execute(stmt).scalar()\n",
    "delete_stmt = delete(employees)\n",
    "result_proxy = connection.execute(delete_stmt)\n",
    "result_proxy.rowcount"
   ]
  },
  {
   "cell_type": "markdown",
   "metadata": {},
   "source": [
    "### Dropping a Table Completely\n",
    "- Uses `drop` method on the table\n",
    "- Accepts the engine as an argument so it know where to remove the table from\n",
    "- Won't remove it from the metadata until the python process is restarted"
   ]
  },
  {
   "cell_type": "code",
   "execution_count": 24,
   "metadata": {},
   "outputs": [],
   "source": [
    "# employees.drop(engine)\n",
    "# print(employees.exists(engine))"
   ]
  },
  {
   "cell_type": "markdown",
   "metadata": {},
   "source": [
    "### Dropping all the Tables\n",
    "- Uses the `drop_all()` method on MetaData"
   ]
  },
  {
   "cell_type": "code",
   "execution_count": 25,
   "metadata": {},
   "outputs": [],
   "source": [
    "#metadata.drop_all(engine)\n",
    "#engine.table_names()"
   ]
  },
  {
   "cell_type": "code",
   "execution_count": 13,
   "metadata": {},
   "outputs": [
    {
     "data": {
      "text/plain": [
       "['census', 'employees']"
      ]
     },
     "execution_count": 13,
     "metadata": {},
     "output_type": "execute_result"
    }
   ],
   "source": [
    "census = Table('census', metadata,\n",
    "            Column('state', String(50)), \n",
    "            Column('sex', String(10)), \n",
    "            Column('age', String(10)),\n",
    "            Column('pop2000', String(50)),\n",
    "            Column('pop2008', String(50)))\n",
    "\n",
    "metadata.create_all(engine)\n",
    "engine.table_names()"
   ]
  },
  {
   "cell_type": "code",
   "execution_count": 14,
   "metadata": {},
   "outputs": [],
   "source": [
    "import csv "
   ]
  },
  {
   "cell_type": "code",
   "execution_count": 15,
   "metadata": {},
   "outputs": [
    {
     "name": "stdout",
     "output_type": "stream",
     "text": [
      "8722\n"
     ]
    }
   ],
   "source": [
    "# Create a insert statement for census: stmt\n",
    "stmt = insert(census)\n",
    "\n",
    "# Create an empty list and zeroed row count: values_list, total_rowcount\n",
    "values_list = []\n",
    "total_rowcount = 0\n",
    "\n",
    "# Enumerate the rows of csv_reader\n",
    "with open('census.csv', newline='\\n') as csvfile:\n",
    "    csv_reader = csv.reader(csvfile, delimiter=',')\n",
    "    for idx, row in enumerate(csv_reader):\n",
    "        data = {'state': row[0], 'sex': row[1], 'age': row[2], 'pop2000': row[3], 'pop2008': row[4]}\n",
    "        values_list.append(data)\n",
    "\n",
    "        if idx % 51 == 0:\n",
    "            results = connection.execute(stmt, values_list)\n",
    "            total_rowcount += results.rowcount\n",
    "            values_list = []\n",
    "print(total_rowcount)\n"
   ]
  },
  {
   "cell_type": "code",
   "execution_count": 16,
   "metadata": {},
   "outputs": [
    {
     "name": "stdout",
     "output_type": "stream",
     "text": [
      "('Illinois', 'M', '0', '89600', '95012')\n"
     ]
    }
   ],
   "source": [
    "stmt = select([census])\n",
    "print(connection.execute(stmt).first())"
   ]
  },
  {
   "cell_type": "markdown",
   "metadata": {},
   "source": [
    "### Updating Data in a Table\n",
    "- Done with the `update` statement\n",
    "- Similar to the insert statement but includes a `where` clause to determine what record will be updated\n",
    "- We add all the values we want to update with the `values` clause as `column=value` pairs"
   ]
  },
  {
   "cell_type": "code",
   "execution_count": 17,
   "metadata": {},
   "outputs": [],
   "source": [
    "from sqlalchemy import update\n",
    "\n",
    "stmt = update(employees)\n",
    "\n",
    "stmt = stmt.where(employees.columns.id == 3)\n",
    "\n",
    "stmt = stmt.values(active=True)\n",
    "\n",
    "result_proxy = connection.execute(stmt)"
   ]
  },
  {
   "cell_type": "code",
   "execution_count": 18,
   "metadata": {},
   "outputs": [
    {
     "name": "stdout",
     "output_type": "stream",
     "text": [
      "0\n"
     ]
    }
   ],
   "source": [
    "print(result_proxy.rowcount)"
   ]
  },
  {
   "cell_type": "markdown",
   "metadata": {},
   "source": [
    "### Correlated Updates"
   ]
  },
  {
   "cell_type": "code",
   "execution_count": 19,
   "metadata": {},
   "outputs": [
    {
     "name": "stdout",
     "output_type": "stream",
     "text": [
      "0\n"
     ]
    }
   ],
   "source": [
    "from sqlalchemy import desc\n",
    "new_salary = select([employees.columns.salary])\n",
    "new_salary = new_salary.order_by(desc(\n",
    "            employees.columns.salary)\n",
    "            )\n",
    "\n",
    "new_salary = new_salary.limit(1)\n",
    "stmt = update(employees)\n",
    "stmt = stmt.values(salary=new_salary)\n",
    "result_proxy = connection.execute(stmt)\n",
    "print(result_proxy.rowcount)"
   ]
  },
  {
   "cell_type": "markdown",
   "metadata": {},
   "source": [
    "###  Correlated Updates\n",
    "- Uses a `select()` statement to find the value for the column we are updating \n",
    "- Commonly used to update records to a maximum value or change a string to match an abbreviation from another table. "
   ]
  },
  {
   "cell_type": "markdown",
   "metadata": {},
   "source": [
    "### Updating Multiple Rows\n",
    "- Build where clause that will select all the records you want to update"
   ]
  },
  {
   "cell_type": "code",
   "execution_count": 20,
   "metadata": {},
   "outputs": [
    {
     "name": "stdout",
     "output_type": "stream",
     "text": [
      "0\n"
     ]
    }
   ],
   "source": [
    "stmt = update(employees)\n",
    "\n",
    "stmt = stmt.where(\n",
    "        employees.columns.active == True\n",
    ")\n",
    "\n",
    "stmt = stmt.values(active=False, salary=0.00)\n",
    "\n",
    "result_proxy = connection.execute(stmt)\n",
    "\n",
    "print(result_proxy.rowcount)"
   ]
  },
  {
   "cell_type": "code",
   "execution_count": 21,
   "metadata": {},
   "outputs": [],
   "source": [
    "from sqlalchemy import create_engine\n",
    "engine = create_engine('sqlite:///census.sqlite')\n",
    "connection = engine.connect()\n",
    "from sqlalchemy import Table, MetaData, select\n",
    "metadata = MetaData()\n",
    "census = Table('census', metadata, autoload=True, autoload_with=engine)\n",
    "state_fact = Table('state_fact', metadata, autoload=True, autoload_with=engine)"
   ]
  },
  {
   "cell_type": "code",
   "execution_count": 22,
   "metadata": {},
   "outputs": [
    {
     "name": "stdout",
     "output_type": "stream",
     "text": [
      "[('32', 'New York', 'NY', 'USA', 'state', '10', 'current', 'occupied', '', '36', 'N.Y.', 'II', '1', 'Northeast', '2', 'Mid-Atlantic', '2')]\n",
      "1\n",
      "[('32', 'New York', 'NY', 'USA', 'state', '10', 'current', 'occupied', '', '36', 'N.Y.', 'II', '1', 'Northeast', '2', 'Mid-Atlantic', '2')]\n"
     ]
    }
   ],
   "source": [
    "# Build a select statement: select_stmt\n",
    "select_stmt = select([state_fact]).where(state_fact.columns.name == 'New York')\n",
    "\n",
    "# Print the results of executing the select_stmt\n",
    "print(connection.execute(select_stmt).fetchall())\n",
    "\n",
    "# Build a statement to update the fips_state to 36: stmt\n",
    "stmt = update(state_fact).values(fips_state = 36)\n",
    "\n",
    "# Append a where clause to limit it to records for New York state\n",
    "stmt = stmt.where(state_fact.columns.name == 'New York')\n",
    "\n",
    "# Execute the statement: results\n",
    "results = connection.execute(stmt)\n",
    "\n",
    "# Print rowcount\n",
    "print(results.rowcount)\n",
    "\n",
    "# Execute the select_stmt again to view the changes\n",
    "print(connection.execute(select_stmt).fetchall())"
   ]
  },
  {
   "cell_type": "code",
   "execution_count": 23,
   "metadata": {},
   "outputs": [
    {
     "name": "stdout",
     "output_type": "stream",
     "text": [
      "13\n"
     ]
    }
   ],
   "source": [
    "# Build a statement to update the notes to 'The Wild West': stmt\n",
    "stmt = update(state_fact).values(notes = 'The Wild West')\n",
    "\n",
    "# Append a where clause to match the West census region records\n",
    "stmt = stmt.where(state_fact.columns.census_region_name == 'West')\n",
    "\n",
    "# Execute the statement: results\n",
    "results = connection.execute(stmt)\n",
    "\n",
    "# Print rowcount\n",
    "print(results.rowcount)"
   ]
  },
  {
   "cell_type": "code",
   "execution_count": null,
   "metadata": {},
   "outputs": [],
   "source": [
    "# # Build a statement to select name from state_fact: stmt\n",
    "# fips_stmt = select([state_fact.columns.name])\n",
    "\n",
    "# # Append a where clause to Match the fips_state to flat_census fips_code\n",
    "# fips_stmt = fips_stmt.where(\n",
    "#     state_fact.columns.fips_state == flat_census.columns.fips_code)\n",
    "\n",
    "# # Build an update statement to set the name to fips_stmt: update_stmt\n",
    "# update_stmt = update(fips_stmt).values(flat_census.columns.state_name = fips_stmt)\n",
    "\n",
    "# # Execute update_stmt: results\n",
    "# results = connection.execute(update_stmt)\n",
    "\n",
    "# # Print rowcount\n",
    "# print(results.rowcount)"
   ]
  },
  {
   "cell_type": "code",
   "execution_count": null,
   "metadata": {},
   "outputs": [],
   "source": []
  }
 ],
 "metadata": {
  "kernelspec": {
   "display_name": "Python 3",
   "language": "python",
   "name": "python3"
  },
  "language_info": {
   "codemirror_mode": {
    "name": "ipython",
    "version": 3
   },
   "file_extension": ".py",
   "mimetype": "text/x-python",
   "name": "python",
   "nbconvert_exporter": "python",
   "pygments_lexer": "ipython3",
   "version": "3.6.5"
  }
 },
 "nbformat": 4,
 "nbformat_minor": 2
}
